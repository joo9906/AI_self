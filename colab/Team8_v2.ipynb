{
  "nbformat": 4,
  "nbformat_minor": 0,
  "metadata": {
    "colab": {
      "provenance": []
    },
    "kernelspec": {
      "name": "python3",
      "display_name": "Python 3"
    },
    "language_info": {
      "name": "python"
    }
  },
  "cells": [
    {
      "cell_type": "markdown",
      "source": [
        "# 계절학기 - AI 8팀\n",
        "| RAG 챗봇\n",
        "## 목차\n",
        "***\n",
        "### 1. Solar mini API 통신\n",
        "### 2. CSV 파싱\n",
        "### 3. 문서 임베딩\n",
        "#### 3-1. 문서 가공/필터링\n",
        "#### 3-2. Chroma 벡터 DB 저장\n",
        "## 4. LLM 쿼리\n",
        "### 4-1. Query 입력\n",
        "### 4-2. Retriever 병렬 처리\n",
        "### 4-3. Context 병합\n",
        "### 4-4. 질의 답변 생성\n",
        "***"
      ],
      "metadata": {
        "id": "cMj-pGq8YYZF"
      }
    },
    {
      "cell_type": "markdown",
      "source": [
        "### 필요한 라이브러리 다운로드"
      ],
      "metadata": {
        "id": "0GdzqBNr9KIH"
      }
    },
    {
      "cell_type": "code",
      "execution_count": null,
      "metadata": {
        "id": "Y8h3AEvE1Hcs",
        "colab": {
          "base_uri": "https://localhost:8080/"
        },
        "outputId": "c2508247-8f65-4948-ac1b-ca11702f4dea"
      },
      "outputs": [
        {
          "output_type": "stream",
          "name": "stdout",
          "text": [
            "\u001b[31mERROR: pip's dependency resolver does not currently take into account all the packages that are installed. This behaviour is the source of the following dependency conflicts.\n",
            "googletrans 4.0.0rc1 requires httpx==0.13.3, but you have httpx 0.28.1 which is incompatible.\u001b[0m\u001b[31m\n",
            "\u001b[0m"
          ]
        }
      ],
      "source": [
        "!pip install -qU openai langchain langchain-upstage langchain-chroma getpass4"
      ]
    },
    {
      "cell_type": "code",
      "source": [
        "!pip install googletrans==4.0.0-rc1 tqdm nest_asyncio"
      ],
      "metadata": {
        "colab": {
          "base_uri": "https://localhost:8080/",
          "height": 900
        },
        "id": "peJ4uzBqm0VJ",
        "outputId": "f458a1a9-df03-4429-cf42-65a2f4aa676d"
      },
      "execution_count": null,
      "outputs": [
        {
          "output_type": "stream",
          "name": "stdout",
          "text": [
            "Requirement already satisfied: googletrans==4.0.0-rc1 in /usr/local/lib/python3.11/dist-packages (4.0.0rc1)\n",
            "Requirement already satisfied: tqdm in /usr/local/lib/python3.11/dist-packages (4.67.1)\n",
            "Requirement already satisfied: nest_asyncio in /usr/local/lib/python3.11/dist-packages (1.6.0)\n",
            "Collecting httpx==0.13.3 (from googletrans==4.0.0-rc1)\n",
            "  Using cached httpx-0.13.3-py3-none-any.whl.metadata (25 kB)\n",
            "Requirement already satisfied: certifi in /usr/local/lib/python3.11/dist-packages (from httpx==0.13.3->googletrans==4.0.0-rc1) (2025.6.15)\n",
            "Requirement already satisfied: hstspreload in /usr/local/lib/python3.11/dist-packages (from httpx==0.13.3->googletrans==4.0.0-rc1) (2025.1.1)\n",
            "Requirement already satisfied: sniffio in /usr/local/lib/python3.11/dist-packages (from httpx==0.13.3->googletrans==4.0.0-rc1) (1.3.1)\n",
            "Requirement already satisfied: chardet==3.* in /usr/local/lib/python3.11/dist-packages (from httpx==0.13.3->googletrans==4.0.0-rc1) (3.0.4)\n",
            "Requirement already satisfied: idna==2.* in /usr/local/lib/python3.11/dist-packages (from httpx==0.13.3->googletrans==4.0.0-rc1) (2.10)\n",
            "Requirement already satisfied: rfc3986<2,>=1.3 in /usr/local/lib/python3.11/dist-packages (from httpx==0.13.3->googletrans==4.0.0-rc1) (1.5.0)\n",
            "Collecting httpcore==0.9.* (from httpx==0.13.3->googletrans==4.0.0-rc1)\n",
            "  Using cached httpcore-0.9.1-py3-none-any.whl.metadata (4.6 kB)\n",
            "Collecting h11<0.10,>=0.8 (from httpcore==0.9.*->httpx==0.13.3->googletrans==4.0.0-rc1)\n",
            "  Using cached h11-0.9.0-py2.py3-none-any.whl.metadata (8.1 kB)\n",
            "Requirement already satisfied: h2==3.* in /usr/local/lib/python3.11/dist-packages (from httpcore==0.9.*->httpx==0.13.3->googletrans==4.0.0-rc1) (3.2.0)\n",
            "Requirement already satisfied: hyperframe<6,>=5.2.0 in /usr/local/lib/python3.11/dist-packages (from h2==3.*->httpcore==0.9.*->httpx==0.13.3->googletrans==4.0.0-rc1) (5.2.0)\n",
            "Requirement already satisfied: hpack<4,>=3.0 in /usr/local/lib/python3.11/dist-packages (from h2==3.*->httpcore==0.9.*->httpx==0.13.3->googletrans==4.0.0-rc1) (3.0.0)\n",
            "Using cached httpx-0.13.3-py3-none-any.whl (55 kB)\n",
            "Using cached httpcore-0.9.1-py3-none-any.whl (42 kB)\n",
            "Using cached h11-0.9.0-py2.py3-none-any.whl (53 kB)\n",
            "Installing collected packages: h11, httpcore, httpx\n",
            "  Attempting uninstall: h11\n",
            "    Found existing installation: h11 0.16.0\n",
            "    Uninstalling h11-0.16.0:\n",
            "      Successfully uninstalled h11-0.16.0\n",
            "  Attempting uninstall: httpcore\n",
            "    Found existing installation: httpcore 1.0.9\n",
            "    Uninstalling httpcore-1.0.9:\n",
            "      Successfully uninstalled httpcore-1.0.9\n",
            "  Attempting uninstall: httpx\n",
            "    Found existing installation: httpx 0.28.1\n",
            "    Uninstalling httpx-0.28.1:\n",
            "      Successfully uninstalled httpx-0.28.1\n",
            "\u001b[31mERROR: pip's dependency resolver does not currently take into account all the packages that are installed. This behaviour is the source of the following dependency conflicts.\n",
            "chromadb 1.0.15 requires httpx>=0.27.0, but you have httpx 0.13.3 which is incompatible.\n",
            "google-genai 1.23.0 requires httpx<1.0.0,>=0.28.1, but you have httpx 0.13.3 which is incompatible.\n",
            "langsmith 0.4.4 requires httpx<1,>=0.23.0, but you have httpx 0.13.3 which is incompatible.\n",
            "openai 1.93.0 requires httpx<1,>=0.23.0, but you have httpx 0.13.3 which is incompatible.\n",
            "gradio 5.31.0 requires httpx>=0.24.1, but you have httpx 0.13.3 which is incompatible.\n",
            "firebase-admin 6.9.0 requires httpx[http2]==0.28.1, but you have httpx 0.13.3 which is incompatible.\n",
            "gradio-client 1.10.1 requires httpx>=0.24.1, but you have httpx 0.13.3 which is incompatible.\u001b[0m\u001b[31m\n",
            "\u001b[0mSuccessfully installed h11-0.9.0 httpcore-0.9.1 httpx-0.13.3\n"
          ]
        },
        {
          "output_type": "display_data",
          "data": {
            "application/vnd.colab-display-data+json": {
              "pip_warning": {
                "packages": [
                  "h11",
                  "httpcore",
                  "httpx"
                ]
              },
              "id": "ad863157e2bd4debb5bf84ba90480134"
            }
          },
          "metadata": {}
        }
      ]
    },
    {
      "cell_type": "markdown",
      "source": [
        "https://console.upstage.ai/api-keys"
      ],
      "metadata": {
        "id": "UwhsNwTBbaQ5"
      }
    },
    {
      "cell_type": "code",
      "source": [
        "# @title set API key\n",
        "import os\n",
        "import getpass\n",
        "import warnings\n",
        "\n",
        "warnings.filterwarnings(\"ignore\")\n",
        "\n",
        "# Get the Upstage API key using getpass\n",
        "os.environ[\"UPSTAGE_API_KEY\"] = getpass.getpass(\"Enter your Upstage API key: \")\n",
        "\n",
        "print(\"API key has been set successfully.\")"
      ],
      "metadata": {
        "colab": {
          "base_uri": "https://localhost:8080/"
        },
        "id": "jek4UJ2G9eKX",
        "outputId": "f2a4ea13-3081-4b6b-da80-0249b543bba5",
        "cellView": "form"
      },
      "execution_count": null,
      "outputs": [
        {
          "output_type": "stream",
          "name": "stdout",
          "text": [
            "Enter your Upstage API key: ··········\n",
            "API key has been set successfully.\n"
          ]
        }
      ]
    },
    {
      "cell_type": "markdown",
      "source": [
        "# 문서 임베딩\n",
        "| vector DB 생성 이후 생략"
      ],
      "metadata": {
        "id": "0IckkW1w_tYq"
      }
    },
    {
      "cell_type": "code",
      "source": [
        "import asyncio\n",
        "from googletrans import Translator\n",
        "from tqdm.asyncio import tqdm\n",
        "import nest_asyncio\n",
        "\n",
        "nest_asyncio.apply()\n",
        "\n",
        "translator = Translator()\n",
        "\n",
        "async def translate_en_to_ko_async(text):\n",
        "    \"\"\"개별 문장을 번역\"\"\"\n",
        "    loop = asyncio.get_event_loop()\n",
        "    translated = await loop.run_in_executor(None, lambda: translator.translate(text, src='en', dest='ko'))\n",
        "    return translated.text\n",
        "\n",
        "async def batch_translate_texts(text_list):\n",
        "    \"\"\"리스트 전체를 tqdm과 함께 비동기로 번역\"\"\"\n",
        "    translated_list = []\n",
        "    for coro in tqdm(asyncio.as_completed([translate_en_to_ko_async(t) for t in text_list]), total=len(text_list)):\n",
        "        translated_text = await coro\n",
        "        translated_list.append(translated_text)\n",
        "    return translated_list\n",
        "\n",
        "# 예시 사용\n",
        "if __name__ == \"__main__\":\n",
        "    example_list = [\n",
        "        \"Atopic dermatitis\",\n",
        "        \"Acute bronchitis\",\n",
        "        \"Chronic sinusitis\",\n",
        "        \"Hypertension\",\n",
        "        \"Diabetes mellitus\"\n",
        "    ]\n",
        "\n",
        "    translated_texts = asyncio.run(batch_translate_texts(example_list))\n",
        "    print(\"\\n✅ 번역 완료 결과:\")\n",
        "    for t in translated_texts:\n",
        "        print(t)"
      ],
      "metadata": {
        "colab": {
          "base_uri": "https://localhost:8080/",
          "height": 370
        },
        "id": "8ukRIaUleMW1",
        "outputId": "f3119d1e-7be6-4d29-db99-d9a2ed815260"
      },
      "execution_count": null,
      "outputs": [
        {
          "output_type": "error",
          "ename": "AttributeError",
          "evalue": "module 'httpcore' has no attribute 'SyncHTTPTransport'",
          "traceback": [
            "\u001b[0;31m---------------------------------------------------------------------------\u001b[0m",
            "\u001b[0;31mAttributeError\u001b[0m                            Traceback (most recent call last)",
            "\u001b[0;32m/tmp/ipython-input-11-1925122424.py\u001b[0m in \u001b[0;36m<cell line: 0>\u001b[0;34m()\u001b[0m\n\u001b[1;32m      1\u001b[0m \u001b[0;32mimport\u001b[0m \u001b[0masyncio\u001b[0m\u001b[0;34m\u001b[0m\u001b[0;34m\u001b[0m\u001b[0m\n\u001b[0;32m----> 2\u001b[0;31m \u001b[0;32mfrom\u001b[0m \u001b[0mgoogletrans\u001b[0m \u001b[0;32mimport\u001b[0m \u001b[0mTranslator\u001b[0m\u001b[0;34m\u001b[0m\u001b[0;34m\u001b[0m\u001b[0m\n\u001b[0m\u001b[1;32m      3\u001b[0m \u001b[0;32mfrom\u001b[0m \u001b[0mtqdm\u001b[0m\u001b[0;34m.\u001b[0m\u001b[0masyncio\u001b[0m \u001b[0;32mimport\u001b[0m \u001b[0mtqdm\u001b[0m\u001b[0;34m\u001b[0m\u001b[0;34m\u001b[0m\u001b[0m\n\u001b[1;32m      4\u001b[0m \u001b[0;32mimport\u001b[0m \u001b[0mnest_asyncio\u001b[0m\u001b[0;34m\u001b[0m\u001b[0;34m\u001b[0m\u001b[0m\n\u001b[1;32m      5\u001b[0m \u001b[0;34m\u001b[0m\u001b[0m\n",
            "\u001b[0;32m/usr/local/lib/python3.11/dist-packages/googletrans/__init__.py\u001b[0m in \u001b[0;36m<module>\u001b[0;34m\u001b[0m\n\u001b[1;32m      4\u001b[0m \u001b[0;34m\u001b[0m\u001b[0m\n\u001b[1;32m      5\u001b[0m \u001b[0;34m\u001b[0m\u001b[0m\n\u001b[0;32m----> 6\u001b[0;31m \u001b[0;32mfrom\u001b[0m \u001b[0mgoogletrans\u001b[0m\u001b[0;34m.\u001b[0m\u001b[0mclient\u001b[0m \u001b[0;32mimport\u001b[0m \u001b[0mTranslator\u001b[0m\u001b[0;34m\u001b[0m\u001b[0;34m\u001b[0m\u001b[0m\n\u001b[0m\u001b[1;32m      7\u001b[0m \u001b[0;32mfrom\u001b[0m \u001b[0mgoogletrans\u001b[0m\u001b[0;34m.\u001b[0m\u001b[0mconstants\u001b[0m \u001b[0;32mimport\u001b[0m \u001b[0mLANGCODES\u001b[0m\u001b[0;34m,\u001b[0m \u001b[0mLANGUAGES\u001b[0m  \u001b[0;31m# noqa\u001b[0m\u001b[0;34m\u001b[0m\u001b[0;34m\u001b[0m\u001b[0m\n",
            "\u001b[0;32m/usr/local/lib/python3.11/dist-packages/googletrans/client.py\u001b[0m in \u001b[0;36m<module>\u001b[0;34m\u001b[0m\n\u001b[1;32m     28\u001b[0m \u001b[0mRPC_ID\u001b[0m \u001b[0;34m=\u001b[0m \u001b[0;34m'MkEWBc'\u001b[0m\u001b[0;34m\u001b[0m\u001b[0;34m\u001b[0m\u001b[0m\n\u001b[1;32m     29\u001b[0m \u001b[0;34m\u001b[0m\u001b[0m\n\u001b[0;32m---> 30\u001b[0;31m \u001b[0;32mclass\u001b[0m \u001b[0mTranslator\u001b[0m\u001b[0;34m:\u001b[0m\u001b[0;34m\u001b[0m\u001b[0;34m\u001b[0m\u001b[0m\n\u001b[0m\u001b[1;32m     31\u001b[0m     \"\"\"Google Translate ajax API implementation class\n\u001b[1;32m     32\u001b[0m \u001b[0;34m\u001b[0m\u001b[0m\n",
            "\u001b[0;32m/usr/local/lib/python3.11/dist-packages/googletrans/client.py\u001b[0m in \u001b[0;36mTranslator\u001b[0;34m()\u001b[0m\n\u001b[1;32m     60\u001b[0m     def __init__(self, service_urls=DEFAULT_CLIENT_SERVICE_URLS, user_agent=DEFAULT_USER_AGENT,\n\u001b[1;32m     61\u001b[0m                  \u001b[0mraise_exception\u001b[0m\u001b[0;34m=\u001b[0m\u001b[0mDEFAULT_RAISE_EXCEPTION\u001b[0m\u001b[0;34m,\u001b[0m\u001b[0;34m\u001b[0m\u001b[0;34m\u001b[0m\u001b[0m\n\u001b[0;32m---> 62\u001b[0;31m                  \u001b[0mproxies\u001b[0m\u001b[0;34m:\u001b[0m \u001b[0mtyping\u001b[0m\u001b[0;34m.\u001b[0m\u001b[0mDict\u001b[0m\u001b[0;34m[\u001b[0m\u001b[0mstr\u001b[0m\u001b[0;34m,\u001b[0m \u001b[0mhttpcore\u001b[0m\u001b[0;34m.\u001b[0m\u001b[0mSyncHTTPTransport\u001b[0m\u001b[0;34m]\u001b[0m \u001b[0;34m=\u001b[0m \u001b[0;32mNone\u001b[0m\u001b[0;34m,\u001b[0m\u001b[0;34m\u001b[0m\u001b[0;34m\u001b[0m\u001b[0m\n\u001b[0m\u001b[1;32m     63\u001b[0m                  \u001b[0mtimeout\u001b[0m\u001b[0;34m:\u001b[0m \u001b[0mTimeout\u001b[0m \u001b[0;34m=\u001b[0m \u001b[0;32mNone\u001b[0m\u001b[0;34m,\u001b[0m\u001b[0;34m\u001b[0m\u001b[0;34m\u001b[0m\u001b[0m\n\u001b[1;32m     64\u001b[0m                  \u001b[0mhttp2\u001b[0m\u001b[0;34m=\u001b[0m\u001b[0;32mTrue\u001b[0m\u001b[0;34m,\u001b[0m\u001b[0;34m\u001b[0m\u001b[0;34m\u001b[0m\u001b[0m\n",
            "\u001b[0;31mAttributeError\u001b[0m: module 'httpcore' has no attribute 'SyncHTTPTransport'"
          ]
        }
      ]
    },
    {
      "cell_type": "markdown",
      "source": [
        "## CSV 파싱"
      ],
      "metadata": {
        "id": "gazv1KDRaska"
      }
    },
    {
      "cell_type": "code",
      "source": [
        "# @title patients.csv (환자 기본 정보)\n",
        "\n",
        "from langchain.schema import Document\n",
        "import pandas as pd\n",
        "from typing import List\n",
        "\n",
        "# patients.csv 읽기 (환자 기본 정보)\n",
        "df = pd.read_csv(\"patients.csv\")\n",
        "\n",
        "# csv에서 사례화\n",
        "def row_to_text(row) -> str:\n",
        "    text = (\n",
        "        f\"환자 ID: {row['Id'][0:8]}\\n\"\n",
        "        f\"기본 정보: {row['BIRTHDATE']}에 태어났고, 성별은 {row['GENDER']}, 인종은 {row['RACE']}, 민족성은 {row['ETHNICITY']}입니다.\"\n",
        "        # 나이 추가할 것\n",
        "    )\n",
        "    return text\n",
        "\n",
        "texts = df.apply(row_to_text, axis=1).tolist()\n",
        "\n",
        "# 문서 리스트 준비\n",
        "patients_docs = []\n",
        "for _, row in df.iterrows():\n",
        "    text = row_to_text(row)\n",
        "    patients_docs.append(Document(page_content=text, metadata={\"patient_id\": row[\"Id\"][0:8], \"table\": \"patients\"}))\n",
        "\n",
        "print(\"총 문서 수:\", len(patients_docs))\n",
        "print(\"예시 문서:\\n\", patients_docs[1].page_content)"
      ],
      "metadata": {
        "id": "Hm_2rLOW_xHx",
        "colab": {
          "base_uri": "https://localhost:8080/"
        },
        "outputId": "7e3e7275-5cb1-4c98-9283-3b387e9a6a9f",
        "cellView": "form"
      },
      "execution_count": null,
      "outputs": [
        {
          "output_type": "stream",
          "name": "stdout",
          "text": [
            "총 문서 수: 1182\n",
            "예시 문서:\n",
            " 환자 ID: a0c8480c\n",
            "기본 정보: 2024-01-09에 태어났고, 성별은 F, 인종은 white, 민족성은 nonhispanic입니다.\n"
          ]
        }
      ]
    },
    {
      "cell_type": "code",
      "source": [
        "# @title conditions.csv\n",
        "\n",
        "import pandas as pd\n",
        "from langchain.schema import Document\n",
        "import numpy as np\n",
        "from googletrans import Translator\n",
        "from tqdm import tqdm\n",
        "\n",
        "# ✅ Translator 초기화\n",
        "translator = Translator()\n",
        "\n",
        "# ✅ 동기 번역 함수 with tqdm\n",
        "def batch_translate_sync(text_list):\n",
        "    translated_list = []\n",
        "    for text in tqdm(text_list, desc=\"진단명 번역 중\"):\n",
        "        translated = translator.translate(text, src='en', dest='ko')\n",
        "        translated_list.append(translated.text)\n",
        "    return translated_list\n",
        "\n",
        "# ✅ CSV 읽기\n",
        "df = pd.read_csv(\"conditions.csv\")\n",
        "\n",
        "# disorder만 필터링\n",
        "df = df[df[\"DESCRIPTION\"].str.contains(r\"\\(disorder\\)\", na=False)].copy()\n",
        "\n",
        "# ✅ (disorder) 제거\n",
        "df[\"DESCRIPTION\"] = df[\"DESCRIPTION\"].str.replace(r\"\\s*\\(disorder\\)\", \"\", regex=True)\n",
        "\n",
        "# ✅ STOP이 null이면 \"현재\"로 대체\n",
        "df[\"STOP\"] = df[\"STOP\"].fillna(\"현재\")\n",
        "\n",
        "# ✅ 영문 진단명 리스트 생성\n",
        "unique_conditions = df[\"DESCRIPTION\"].unique().tolist()\n",
        "\n",
        "# ✅ 동기 번역 실행\n",
        "translated_conditions = batch_translate_sync(unique_conditions)\n",
        "\n",
        "# ✅ 영문 ↔ 한글 매핑 딕셔너리\n",
        "en_to_ko = dict(zip(unique_conditions, translated_conditions))\n",
        "\n",
        "# ✅ DESCRIPTION 컬럼을 한글로 변환\n",
        "df[\"DESCRIPTION_KO\"] = df[\"DESCRIPTION\"].map(en_to_ko)\n",
        "\n",
        "# ✅ PATIENT 기준 그룹화\n",
        "grouped = df.groupby(\"PATIENT\")\n",
        "\n",
        "# ✅ 환자별 문서 생성 함수\n",
        "def patient_conditions_to_text(patient_id, group_df):\n",
        "    conditions_text = \"\"\n",
        "    for _, row in group_df.iterrows():\n",
        "        stop_date = row[\"STOP\"]\n",
        "        conditions_text += (\n",
        "            f\"{row['START']}부터 {stop_date}까지 \"\n",
        "            f\"{row['DESCRIPTION_KO']} 진단 받았습니다. \"\n",
        "        )\n",
        "    text = f\"환자 ID: {patient_id[0:8]}\\n해당 환자는 다음과 같은 질병을 진단 받았습니다. {conditions_text}\"\n",
        "    return text\n",
        "\n",
        "# ✅ 문서 리스트 준비\n",
        "conditions_docs = []\n",
        "for patient_id, group_df in grouped:\n",
        "    text = patient_conditions_to_text(patient_id, group_df)\n",
        "    conditions_docs.append(Document(page_content=text, metadata={\"patient_id\": patient_id[0:8], \"table\": \"conditions\"}))\n",
        "\n",
        "print(\"총 문서 수:\", len(conditions_docs))\n",
        "print(\"예시 문서:\\n\", conditions_docs[0].page_content)\n"
      ],
      "metadata": {
        "colab": {
          "base_uri": "https://localhost:8080/"
        },
        "id": "BrRPC5DIxk-2",
        "outputId": "7db2d84a-2028-43ed-91f8-32a0c355d6cf",
        "cellView": "form"
      },
      "execution_count": null,
      "outputs": [
        {
          "output_type": "stream",
          "name": "stderr",
          "text": [
            "진단명 번역 중: 100%|██████████| 190/190 [00:19<00:00,  9.58it/s]\n"
          ]
        },
        {
          "output_type": "stream",
          "name": "stdout",
          "text": [
            "총 문서 수: 1171\n",
            "예시 문서:\n",
            " 환자 ID: 0057c08f\n",
            "해당 환자는 다음과 같은 질병을 진단 받았습니다. 2012-03-22부터 현재까지 빈혈증 진단 받았습니다. 2015-11-12부터 2015-11-27까지 치은염 진단 받았습니다. 2015-11-13부터 2015-12-08까지 바이러스 성 부비동염 진단 받았습니다. 2018-11-01부터 2018-11-24까지 바이러스 성 부비동염 진단 받았습니다. 2024-01-19부터 2024-02-02까지 치은염 진단 받았습니다. 2024-02-02부터 2024-02-02까지 치은 질병 진단 받았습니다. \n"
          ]
        }
      ]
    },
    {
      "cell_type": "code",
      "source": [
        "import pandas as pd\n",
        "\n",
        "# CSV 파일 경로를 지정합니다.\n",
        "file_path = '/content/observations.csv'\n",
        "\n",
        "# CSV 파일을 읽어들입니다.\n",
        "df = pd.read_csv(file_path)\n",
        "\n",
        "descriptions = [\"Diastolic Blood Pressure\", \"Systolic Blood Pressure\", \"Body Weight\", \"Heart rate\", \"Tobacco smoking status\"]\n",
        "\n",
        "# 'DESCRIPTION'이 필요한 항목만 필터링\n",
        "vital_signs_df = df[df['DESCRIPTION'].isin(descriptions)].copy()\n",
        "\n",
        "# ✅ Tobacco smoking status는 UNITS가 없을 가능성이 크므로 빈 문자열로 채움\n",
        "vital_signs_df.loc[vital_signs_df['DESCRIPTION'] == \"Tobacco smoking status\", 'UNITS'] = vital_signs_df.loc[vital_signs_df['DESCRIPTION'] == \"Tobacco smoking status\", 'UNITS'].fillna(\"\")\n",
        "\n",
        "# 필요한 컬럼만 남깁니다.\n",
        "vital_signs_df = vital_signs_df[['DATE', 'PATIENT', 'ENCOUNTER', 'DESCRIPTION', 'VALUE', 'UNITS']]\n",
        "\n",
        "# DESCRIPTION별로 열을 생성\n",
        "pivot_df = vital_signs_df.pivot_table(\n",
        "    index=['DATE', 'PATIENT', 'ENCOUNTER'],\n",
        "    columns=['DESCRIPTION', 'UNITS'],\n",
        "    values='VALUE',\n",
        "    aggfunc='first'  # 여러 값이 있으면 첫 번째 값만 선택\n",
        ")\n",
        "\n",
        "# 피벗 후 컬럼 이름 평탄화\n",
        "pivot_df.columns = [f'{desc} [{unit}]' if unit else f'{desc}' for desc, unit in pivot_df.columns]\n",
        "\n",
        "# 새 CSV 파일로 저장\n",
        "output_file_path = 'filtered_observations.csv'\n",
        "pivot_df.to_csv(output_file_path)\n",
        "\n",
        "print(f\"새로운 CSV 파일이 '{output_file_path}'에 저장되었습니다.\")"
      ],
      "metadata": {
        "colab": {
          "base_uri": "https://localhost:8080/"
        },
        "id": "jzpBPuQRW9hm",
        "outputId": "43297584-5fae-4e28-f0e0-d31271881ed9"
      },
      "execution_count": null,
      "outputs": [
        {
          "output_type": "stream",
          "name": "stdout",
          "text": [
            "새로운 CSV 파일이 'filtered_observations.csv'에 저장되었습니다.\n"
          ]
        }
      ]
    },
    {
      "cell_type": "code",
      "source": [
        "# @title observations.csv (신체/바이탈 정보)\n",
        "import pandas as pd\n",
        "from langchain.schema import Document\n",
        "\n",
        "# CSV 읽기\n",
        "df = pd.read_csv(\"filtered_observations.csv\")\n",
        "\n",
        "# 사용할 descriptions\n",
        "descriptions = [\"Diastolic Blood Pressure\", \"Systolic Blood Pressure\", \"Body Weight\", \"Heart rate\", \"Tobacco smoking status\"]\n",
        "\n",
        "# 실제 컬럼명과 descriptions 매핑\n",
        "description_to_col = {}\n",
        "\n",
        "for desc in descriptions:\n",
        "    matching_cols = [col for col in df.columns if desc == col.split(\" [\")[0]]\n",
        "    if matching_cols:\n",
        "        description_to_col[desc] = matching_cols[0]\n",
        "    else:\n",
        "        print(f\"⚠️ '{desc}' 컬럼을 찾을 수 없습니다!\")\n",
        "\n",
        "# ✅ 필요한 컬럼만 추출\n",
        "needed_cols = [\"PATIENT\"] + list(description_to_col.values())\n",
        "df_filtered = df[needed_cols].copy()\n",
        "\n",
        "# ✅ patient_id 기준 그룹화\n",
        "grouped = df_filtered.groupby(\"PATIENT\")\n",
        "\n",
        "# Document 리스트\n",
        "observation_docs = []\n",
        "\n",
        "for patient_id, group_df in grouped:\n",
        "    summary_parts = []\n",
        "    smoking_str = \"\"\n",
        "\n",
        "    for desc, col_name in description_to_col.items():\n",
        "        if desc == \"Tobacco smoking status\":\n",
        "            # 최빈값 (mode) 가져오기\n",
        "            if group_df[col_name].notna().any():\n",
        "                mode_value = group_df[col_name].mode().iloc[0]\n",
        "                # 텍스트 변환\n",
        "                if \"Never smoked\" in mode_value:\n",
        "                    smoking_str = \"비흡연\"\n",
        "                elif \"Ex-smoker\" in mode_value:\n",
        "                    smoking_str = \"흡연\"\n",
        "                else:\n",
        "                    smoking_str = \"알 수 없음\"\n",
        "        else:\n",
        "            mean_value = group_df[col_name].mean(skipna=True)\n",
        "            if pd.notna(mean_value):\n",
        "                if desc == \"Body Weight\":\n",
        "                    value_str = f\"{mean_value:.1f}\"  # 소수 첫째 자리\n",
        "                else:\n",
        "                    value_str = f\"{int(round(mean_value))}\"  # 정수로\n",
        "                summary_parts.append(f\"{desc}: {value_str}\")\n",
        "\n",
        "    combined_text = (\n",
        "        f\"환자 ID: {patient_id[:8]}\\n\"\n",
        "        f\"환자는 다음과 같은 평균 바이탈/검사 정보를 갖습니다: \" + \", \".join(summary_parts)\n",
        "    )\n",
        "\n",
        "    if smoking_str:\n",
        "        combined_text += f\"\\n흡연 여부: {smoking_str}\"\n",
        "\n",
        "    observation_docs.append(Document(page_content=combined_text, metadata={\"patient_id\": patient_id[:8], \"table\": \"observations\"}))"
      ],
      "metadata": {
        "id": "-rU_NQvbW2U0"
      },
      "execution_count": null,
      "outputs": []
    },
    {
      "cell_type": "code",
      "source": [
        "print(\"총 환자 수 (문서 수):\", len(observation_docs))\n",
        "print(\"예시 문서:\\n\", observation_docs[0].page_content)"
      ],
      "metadata": {
        "colab": {
          "base_uri": "https://localhost:8080/"
        },
        "id": "WZ1MoLFaOO1Z",
        "outputId": "6518b65c-b4b0-44d3-bebd-8195a0884d3c"
      },
      "execution_count": null,
      "outputs": [
        {
          "output_type": "stream",
          "name": "stdout",
          "text": [
            "총 환자 수 (문서 수): 1182\n",
            "예시 문서:\n",
            " 환자 ID: 0057c08f\n",
            "환자는 다음과 같은 평균 바이탈/검사 정보를 갖습니다: Diastolic Blood Pressure: 78, Systolic Blood Pressure: 104, Body Weight: 95.1, Heart rate: 80\n",
            "흡연 여부: 비흡연\n"
          ]
        }
      ]
    },
    {
      "cell_type": "code",
      "source": [
        "# @title procedures.csv\n",
        "\n",
        "# procedure.csv 전처리\n",
        "\n",
        "# 1️⃣ CSV 파일 불러오기\n",
        "df = pd.read_csv(\"procedures.csv\", parse_dates=[\"START\"])\n",
        "\n",
        "# 2️⃣ 날짜만 추출\n",
        "df[\"DATE\"] = df[\"START\"].dt.date\n",
        "\n",
        "# 3️⃣ 환자 + 날짜별로 DESCRIPTION 리스트 묶기\n",
        "grouped_df = df.groupby([\"PATIENT\", \"DATE\"])[\"DESCRIPTION\"].apply(list).reset_index()\n",
        "\n",
        "# 4️⃣ 리스트를 문자열로 변환 (옵션: 보기 좋게 쉼표로 구분)\n",
        "grouped_df[\"PROCEDURES\"] = grouped_df[\"DESCRIPTION\"].apply(lambda x: \", \".join(x))\n",
        "\n",
        "# 5️⃣ 결과에서 원래 DESCRIPTION 열 제거\n",
        "grouped_df.drop(\"DESCRIPTION\", axis=1, inplace=True)\n",
        "\n",
        "# 6️⃣ CSV 파일로 저장\n",
        "grouped_df.to_csv(\"grouped_procedures.csv\", index=False)"
      ],
      "metadata": {
        "id": "BDX91P3NCsKR"
      },
      "execution_count": null,
      "outputs": []
    },
    {
      "cell_type": "code",
      "source": [
        "import pandas as pd\n",
        "import re\n",
        "\n",
        "# CSV 파일 읽기\n",
        "df = pd.read_csv(\"grouped_procedures.csv\")\n",
        "\n",
        "# PROCEDURES 컬럼 전처리 함수 정의\n",
        "def clean_procedures(procedure_str):\n",
        "    if pd.isna(procedure_str):\n",
        "        return \"\"\n",
        "\n",
        "    items = [item.strip() for item in procedure_str.split(',')]\n",
        "    cleaned = []\n",
        "\n",
        "    for item in items:\n",
        "        # 괄호 안의 내용 추출\n",
        "        match = re.search(r'\\((.*?)\\)', item)\n",
        "        if match:\n",
        "            content_in_parens = match.group(1).strip()\n",
        "            if content_in_parens == \"physical object\":\n",
        "                continue  # 해당 항목 전체 삭제\n",
        "            else:\n",
        "                # 괄호 안만 제거\n",
        "                item = re.sub(r'\\s*\\(.*?\\)', '', item).strip()\n",
        "        cleaned.append(item)\n",
        "\n",
        "    return ', '.join(cleaned)\n",
        "\n",
        "# 기존 PROCEDURES 컬럼을 전처리해서 덮어쓰기\n",
        "df['PROCEDURES'] = df['PROCEDURES'].apply(clean_procedures)\n",
        "\n",
        "# 결과를 새 CSV로 저장\n",
        "df.to_csv(\"cleaned_grouped_procedures.csv\", index=False)\n",
        "\n",
        "print(\"✅ 완료: 기존 'PROCEDURES' 컬럼이 정제되어 saved → cleaned_grouped_procedures.csv\")\n"
      ],
      "metadata": {
        "colab": {
          "base_uri": "https://localhost:8080/"
        },
        "id": "yXHonfBgD2mx",
        "outputId": "cfe651ef-d17c-4432-e4a4-f22aeadab5b1"
      },
      "execution_count": null,
      "outputs": [
        {
          "output_type": "stream",
          "name": "stdout",
          "text": [
            "✅ 완료: 기존 'PROCEDURES' 컬럼이 정제되어 saved → cleaned_grouped_procedures.csv\n"
          ]
        }
      ]
    },
    {
      "cell_type": "code",
      "source": [
        "import pandas as pd\n",
        "import re\n",
        "from langchain.schema import Document\n",
        "from tqdm import tqdm\n",
        "from googletrans import Translator\n",
        "\n",
        "translator = Translator()\n",
        "\n",
        "# CSV 읽기\n",
        "df = pd.read_csv(\"cleaned_grouped_procedures.csv\")\n",
        "\n",
        "# 환자 ID 앞 8자리만 사용\n",
        "df[\"PATIENT_SHORT\"] = df[\"PATIENT\"].str[:8]\n",
        "\n",
        "# PROCEDURES 컬럼에서 리스트로 분리\n",
        "df[\"PROCEDURES_LIST\"] = df[\"PROCEDURES\"].str.split(\", \")\n",
        "\n",
        "# ✅ 모든 고유 수술명 추출\n",
        "all_procs_flat = [proc for sublist in df[\"PROCEDURES_LIST\"] if isinstance(sublist, list) for proc in sublist]\n",
        "unique_procs = list(set(all_procs_flat))\n",
        "\n",
        "print(f\"수술명 개수: {len(unique_procs)}\")\n",
        "\n",
        "# ✅ 수술명 한글 번역\n",
        "proc_en_to_ko = {}\n",
        "for proc in tqdm(unique_procs, desc=\"수술명 번역 중\"):\n",
        "    try:\n",
        "        translated = translator.translate(proc, src='en', dest='ko').text\n",
        "        proc_en_to_ko[proc] = translated\n",
        "    except Exception as e:\n",
        "        print(f\"⚠️ 번역 실패: {proc} → {e}\")\n",
        "        proc_en_to_ko[proc] = proc  # 실패 시 원문 유지\n",
        "\n",
        "# ✅ 그룹화\n",
        "grouped = df.groupby(\"PATIENT_SHORT\")\n",
        "\n",
        "procedures_docs = []\n",
        "\n",
        "for patient_id, group in grouped:\n",
        "    all_procs = []\n",
        "    for proc_list in group[\"PROCEDURES_LIST\"]:\n",
        "        if isinstance(proc_list, list):\n",
        "            all_procs.extend(proc_list)\n",
        "\n",
        "    # 중복 제거\n",
        "    unique_group_procs = sorted(set(all_procs))\n",
        "\n",
        "    # 번역 적용\n",
        "    translated_group_procs = [proc_en_to_ko.get(p, p) for p in unique_group_procs]\n",
        "\n",
        "    # 텍스트 구성\n",
        "    text = f\"환자 ID: {patient_id}\\n수술 이력: {', '.join(translated_group_procs)}\"\n",
        "\n",
        "    # Document 객체 추가\n",
        "    procedures_docs.append(\n",
        "        Document(\n",
        "            page_content=text,\n",
        "            metadata={\"patient_id\": patient_id, \"table\": \"procedures\"}\n",
        "        )\n",
        "    )\n",
        "\n",
        "print(\"생성된 문서 수:\", len(procedures_docs))\n",
        "print(\"예시 문서:\\n\", procedures_docs[0].page_content)\n"
      ],
      "metadata": {
        "id": "qrL9mJrRD4Ab",
        "colab": {
          "base_uri": "https://localhost:8080/"
        },
        "outputId": "851b57d3-8f3a-4eab-f55f-4e3ebe9528a8"
      },
      "execution_count": null,
      "outputs": [
        {
          "output_type": "stream",
          "name": "stdout",
          "text": [
            "수술명 개수: 348\n"
          ]
        },
        {
          "output_type": "stream",
          "name": "stderr",
          "text": [
            "수술명 번역 중: 100%|██████████| 348/348 [00:48<00:00,  7.18it/s]\n"
          ]
        },
        {
          "output_type": "stream",
          "name": "stdout",
          "text": [
            "생성된 문서 수: 1182\n",
            "예시 문서:\n",
            " 환자 ID: 0057c08f\n",
            "수술 이력: 불안의 평가, 건강 및 사회 복지 요구 평가, 물질 사용의 평가, 알코올 사용 장애 식별 테스트 - 소비를 사용한 평가, 탈감작 의료의 치과 적용, 치과 치료, 치과 상담 및 보고서, 치과 용 엑스레이 비트, 치과 수술 절차, 우울증 스크리닝, Gingivae의 검사, 치은 절제술 또는 치은 치지 성형술, 약물 조정, 구강 건강 교육, 치과 치료를위한 환자 진료 의뢰, 치과 절차를위한 수술 후 치료, 치과기구를 사용하여 모든 치아에서 하위 징징 기형 플라크 및 미적분학 제거, 치과기구를 사용하여 모든 치아에서 우위 플라크 및 미적분학 제거, 가정 폭력을위한 선별, 약물 남용을위한 선별\n"
          ]
        }
      ]
    },
    {
      "cell_type": "code",
      "source": [],
      "metadata": {
        "id": "8GPyMZ0P0qni"
      },
      "execution_count": null,
      "outputs": []
    },
    {
      "cell_type": "code",
      "source": [
        "import pandas as pd\n",
        "import re\n",
        "from langchain.schema import Document\n",
        "from googletrans import Translator\n",
        "from tqdm import tqdm\n",
        "\n",
        "translator = Translator()\n",
        "\n",
        "def parse_medication_description(text):\n",
        "    s = str(text).strip()\n",
        "    res = {\"code\":\"\", \"drug_names\":[], \"dose_amounts\":[], \"form\":\"\", \"route_or_extra\":\"\"}\n",
        "\n",
        "    m = re.search(r'\\b(NDA|ANDA)\\d+\\b', s)\n",
        "    if m:\n",
        "        res[\"code\"] = m.group()\n",
        "\n",
        "    form_pattern = re.compile(\n",
        "        r'\\b(?:'\n",
        "        r'Extended Release Oral Tablet|Extended Release Tablet|Oral Tablet|Sublingual Tablet|Chewable Tablet|Oral Capsule|'\n",
        "        r'Intravenous Injection|Intramuscular Injection|Inhalation Solution|Mucosal Spray|Drug Implant|'\n",
        "        r'Transdermal System|Injectable Suspension|Topical Cream|Intrauterine System|Ophthalmic Solution|'\n",
        "        r'Tablet|Capsule|Injection|Solution|Cream|Pack|Inhaler|Syringe|Suspension|Auto-Injector|Oral Suspension|'\n",
        "        r'Patch|System|Implant|Spray|Drop|Oral Gel|Injectable Solution|Pen Injector|Vaginal Ring|Vaginal System'\n",
        "        r')\\b',\n",
        "        flags=re.IGNORECASE\n",
        "    )\n",
        "    fm = form_pattern.search(s)\n",
        "    if fm:\n",
        "        res[\"form\"] = fm.group().title()\n",
        "        s = s[:fm.end()]\n",
        "\n",
        "    split_pattern = re.compile(\n",
        "        r'\\s+/\\s+(?!(?:MG(?:/(?:ML|MG|ACTUAT|HR))?|ML(?:/ML)?|UNT/ML|ACTUAT)\\b)',\n",
        "        flags=re.IGNORECASE\n",
        "    )\n",
        "    segments = split_pattern.split(s)\n",
        "\n",
        "    dose_pat = (\n",
        "        r'\\d+(?:\\.\\d+)?/\\d+(?:\\.\\d+)?\\s*MG(?:/ACTUAT)?'\n",
        "        r'|'\n",
        "        r'\\d+(?:\\.\\d+)?\\s*MG(?:/ACTUAT)'\n",
        "        r'|'\n",
        "        r'\\d+\\s*ACTUAT'\n",
        "        r'|'\n",
        "        r'\\d+(?:\\.\\d+)?\\s*(?:MG(?:/(?:ML|MG|HR))?|ML(?:/ML)?|UNT/ML|%|HR|MG/HR|Day(?:s)?)'\n",
        "    )\n",
        "\n",
        "    for seg in segments:\n",
        "        seg = seg.strip()\n",
        "        doses = re.findall(dose_pat, seg, flags=re.IGNORECASE)\n",
        "        res[\"dose_amounts\"].append(\" / \".join(doses) if doses else \"\")\n",
        "        name = seg\n",
        "        for d in doses:\n",
        "            name = re.sub(re.escape(d), \"\", name, flags=re.IGNORECASE)\n",
        "        if res[\"form\"]:\n",
        "            name = re.sub(re.escape(fm.group()), \"\", name, flags=re.IGNORECASE)\n",
        "        res[\"drug_names\"].append(name.strip(\" -\"))\n",
        "\n",
        "    return res\n",
        "\n",
        "# ✅ CSV 읽기\n",
        "df = pd.read_csv(\"medications.csv\")\n",
        "df[\"START\"] = pd.to_datetime(df[\"START\"])\n",
        "df[\"STOP\"] = pd.to_datetime(df[\"STOP\"], errors=\"coerce\")\n",
        "\n",
        "# ✅ 제형 & reason\n",
        "unique_forms = df[\"DESCRIPTION\"].apply(lambda x: parse_medication_description(x)[\"form\"]).unique()\n",
        "unique_reasons_raw = pd.concat([df[\"REASONDESCRIPTION\"].dropna()]).unique()\n",
        "\n",
        "# ✅ reason 전처리 (괄호 제거)\n",
        "unique_reasons_cleaned = [re.sub(r\"\\s*\\(.*?\\)\", \"\", r).strip() for r in unique_reasons_raw]\n",
        "\n",
        "# ✅ 제형 번역\n",
        "form_translated = {}\n",
        "print(\"제형 번역 중...\")\n",
        "for form in tqdm(unique_forms):\n",
        "    if form:\n",
        "        try:\n",
        "            ko_form = translator.translate(form, src='en', dest='ko').text\n",
        "        except:\n",
        "            ko_form = form\n",
        "        form_translated[form] = ko_form\n",
        "\n",
        "# ✅ reason 번역\n",
        "reason_translated = {}\n",
        "print(\"사유 번역 중...\")\n",
        "for r_clean in tqdm(unique_reasons_cleaned):\n",
        "    if r_clean:\n",
        "        try:\n",
        "            ko_reason = translator.translate(r_clean, src='en', dest='ko').text\n",
        "        except:\n",
        "            ko_reason = r_clean\n",
        "        reason_translated[r_clean] = ko_reason\n",
        "\n",
        "medication_docs = []\n",
        "for pid, group in df.groupby(\"PATIENT\"):\n",
        "    lines = []\n",
        "    for desc, sub in group.groupby(\"DESCRIPTION\"):\n",
        "        info = parse_medication_description(desc)\n",
        "        drugs = info[\"drug_names\"]\n",
        "        doses = [d.lower() for d in info[\"dose_amounts\"]]\n",
        "        form = info[\"form\"]\n",
        "        form_ko = form_translated.get(form, form)\n",
        "\n",
        "        reasons_raw = sub[\"REASONDESCRIPTION\"].dropna().unique()\n",
        "        reasons_cleaned = []\n",
        "        for r in reasons_raw:\n",
        "            r_clean = re.sub(r'\\s*\\(.*?\\)', '', r).strip()\n",
        "            reasons_cleaned.append(reason_translated.get(r_clean, r_clean))\n",
        "        reason_t = f\"사유: {', '.join(reasons_cleaned)}\" if reasons_cleaned else \"\"\n",
        "\n",
        "        st = sub[\"START\"].min().strftime(\"%Y-%m\")\n",
        "        en = sub[\"STOP\"].max()\n",
        "        if pd.isna(en):\n",
        "            period = f\"{st} ~ \"\n",
        "        else:\n",
        "            en = en.strftime(\"%Y-%m\")\n",
        "            period = st if st == en else f\"{st} ~ {en}\"\n",
        "        cnt = sub[\"DISPENSES\"].sum()\n",
        "\n",
        "        lines.append(\n",
        "            f\"- 성분: {', '.join(drugs)}  \"\n",
        "            f\"용량: {', '.join(doses)}  \"\n",
        "            f\"제형: {form_ko}  \"\n",
        "            f\"기간: {period}  \"\n",
        "            f\"횟수: {cnt}회  \"\n",
        "            f\"{reason_t}\"\n",
        "        )\n",
        "\n",
        "    combined = f\"환자 ID: {pid[:8]}\\n환자는 다음 약물을 복용했습니다:\\n\" + \"\\n\".join(lines)\n",
        "    medication_docs.append(Document(\n",
        "        page_content=combined,\n",
        "        metadata={\"patient_id\": pid[:8], \"table\": \"medications\"}\n",
        "    ))\n",
        "\n",
        "print(\"환자 수:\", len(medication_docs))\n",
        "print(medication_docs[0].page_content)\n"
      ],
      "metadata": {
        "colab": {
          "base_uri": "https://localhost:8080/"
        },
        "id": "ALiPy-nUW2xZ",
        "outputId": "ee3e1f4c-50d3-4758-e5db-3d1da0741731"
      },
      "execution_count": null,
      "outputs": [
        {
          "output_type": "stream",
          "name": "stdout",
          "text": [
            "제형 번역 중...\n"
          ]
        },
        {
          "output_type": "stream",
          "name": "stderr",
          "text": [
            "100%|██████████| 26/26 [00:02<00:00,  9.51it/s]\n"
          ]
        },
        {
          "output_type": "stream",
          "name": "stdout",
          "text": [
            "사유 번역 중...\n"
          ]
        },
        {
          "output_type": "stream",
          "name": "stderr",
          "text": [
            "100%|██████████| 60/60 [00:03<00:00, 15.09it/s]\n"
          ]
        },
        {
          "output_type": "stream",
          "name": "stdout",
          "text": [
            "환자 수: 1158\n",
            "환자 ID: 0063c9a6\n",
            "환자는 다음 약물을 복용했습니다:\n",
            "- 성분: heparin sodium  porcine  용량: 1 ml / 5000 unt/ml  제형: 주입  기간: 2008-05  횟수: 1회  \n",
            "- 성분: Furosemide  용량: 10 ml / 10 mg/ml  제형: 주입  기간: 2010-04  횟수: 10회  사유: 만성 울혈 성 심부전\n",
            "- 성분: Propofol  용량: 100 ml / 10 mg/ml  제형: 주입  기간: 2008-05  횟수: 1회  \n",
            "- 성분: Ondansetron  용량: 2 ml / 2 mg/ml  제형: 주입  기간: 2008-05  횟수: 1회  \n",
            "- 성분: metoprolol succinate  용량: 24 hr / 100 mg  제형: 확장 릴리스 구강 정제  기간: 2008-05 ~   횟수: 24회  \n",
            "- 성분: protamine sulfate (USP)  용량: 25 ml / 10 mg/ml  제형: 주입  기간: 2008-05  횟수: 1회  \n",
            "- 성분: SUFentanil  용량: 5 ml / 0.05 mg/ml  제형: 주입  기간: 2008-05  횟수: 1회  \n",
            "- 성분: Clopidogrel  용량: 75 mg  제형: 구강 정제  기간: 2008-05 ~   횟수: 24회  \n",
            "- 성분: Furosemide  용량: 40 mg  제형: 구강 정제  기간: 2009-10 ~   횟수: 6회  사유: 만성 울혈 성 심부전\n",
            "- 성분: Ibuprofen  용량: 200 mg  제형: 구강 정제  기간: 2008-11 ~ 2008-12  횟수: 1회  \n",
            "- 성분: Midazolam  용량: 1 mg/ml  제형: 주사 가능한 솔루션  기간: 2008-05  횟수: 1회  \n",
            "- 성분: Naproxen sodium  용량: 220 mg  제형: 구강 정제  기간: 2001-01 ~ 2001-02  횟수: 1회  \n",
            "- 성분: Nitroglycerin  용량: 0.4 mg/actuat  제형: 점막 스프레이  기간: 2008-05 ~   횟수: 24회  \n",
            "- 성분: Penicillin V Potassium  용량: 500 mg  제형: 구강 정제  기간: 2004-06  횟수: 1회  사유: 연쇄상 구균 인후\n",
            "- 성분: Rocuronium bromide  용량: 10 mg/ml  제형: 주사 가능한 솔루션  기간: 2008-05  횟수: 1회  \n",
            "- 성분: Simvastatin  용량: 10 mg  제형: 구강 정제  기간: 2003-04 ~ 2009-05  횟수: 82회  사유: 고지혈증\n",
            "- 성분: Simvastatin  용량: 20 mg  제형: 구강 정제  기간: 2008-05 ~   횟수: 24회  \n",
            "- 성분: cefazolin  용량: 2000 mg  제형: 주입  기간: 2008-05  횟수: 1회  \n",
            "- 성분: isoflurane  용량: 99.9 %  제형: 흡입 솔루션  기간: 2008-05  횟수: 1회  \n",
            "- 성분: lisinopril  용량: 10 mg  제형: 구강 정제  기간: 2000-03 ~ 2009-05  횟수: 40회  사유: 필수 고혈압\n",
            "- 성분: sodium fluoride  용량: 0.0272 mg/mg  제형: 구강 겔  기간: 2001-04 ~ 2009-05  횟수: 3회  사유: 치은염, 치과 치료를위한 환자 진료 의뢰\n"
          ]
        }
      ]
    },
    {
      "cell_type": "code",
      "source": [
        "# @title allergies.csv (알러지 반응 기록)\n",
        "\n",
        "import pandas as pd\n",
        "from langchain.schema import Document\n",
        "import re\n",
        "from googletrans import Translator\n",
        "from tqdm import tqdm\n",
        "\n",
        "translator = Translator()\n",
        "\n",
        "# CSV 읽기\n",
        "df = pd.read_csv(\"allergies.csv\")\n",
        "\n",
        "# 괄호 제거 후 고유한 DESCRIPTION 추출\n",
        "df[\"DESCRIPTION_CLEAN\"] = df[\"DESCRIPTION\"].apply(lambda x: re.sub(r\"\\s*\\(.*?\\)\", \"\", str(x)).strip())\n",
        "unique_allergies = df[\"DESCRIPTION_CLEAN\"].unique().tolist()\n",
        "\n",
        "# 동기 번역\n",
        "translated_allergies = []\n",
        "for desc in tqdm(unique_allergies, desc=\"알러지명 번역 중\"):\n",
        "    try:\n",
        "        translated = translator.translate(desc, src='en', dest='ko').text\n",
        "    except Exception as e:\n",
        "        print(f\"번역 오류: {desc} -> {e}\")\n",
        "        translated = desc\n",
        "    translated_allergies.append(translated)\n",
        "\n",
        "# 영어 → 한글 매핑\n",
        "en_to_ko_allergies = dict(zip(unique_allergies, translated_allergies))\n",
        "\n",
        "# DESCRIPTION_KO 컬럼 생성\n",
        "df[\"DESCRIPTION_KO\"] = df[\"DESCRIPTION_CLEAN\"].map(en_to_ko_allergies)\n",
        "\n",
        "# 환자별 그룹화\n",
        "grouped = df.groupby(\"PATIENT\")\n",
        "\n",
        "# 문서 리스트\n",
        "allergy_docs = []\n",
        "\n",
        "for patient_id, group in grouped:\n",
        "    text_lines = []\n",
        "    for _, row in group.iterrows():\n",
        "        line = f\"{row['DESCRIPTION_KO']}\"\n",
        "        text_lines.append(line)\n",
        "\n",
        "    combined_text = f\"환자 ID: {patient_id[:8]}\\n환자는 다음과 같은 알레르기 반응을 보였습니다:\\n\" + \"\\n\".join(text_lines)\n",
        "\n",
        "    allergy_docs.append(Document(page_content=combined_text, metadata={\"patient_id\": patient_id[:8], \"table\": \"allergies\"}))\n",
        "\n",
        "print(\"환자 수 (문서 수):\", len(allergy_docs))\n",
        "print(\"예시 문서:\\n\", allergy_docs[20].page_content)"
      ],
      "metadata": {
        "colab": {
          "base_uri": "https://localhost:8080/"
        },
        "id": "uYJvmZx1W22x",
        "outputId": "f8306fd4-9727-4b7a-9681-498a213f24c3",
        "cellView": "form"
      },
      "execution_count": null,
      "outputs": [
        {
          "output_type": "stream",
          "name": "stderr",
          "text": [
            "알러지명 번역 중: 100%|██████████| 22/22 [00:02<00:00,  9.58it/s]\n"
          ]
        },
        {
          "output_type": "stream",
          "name": "stdout",
          "text": [
            "환자 수 (문서 수): 202\n",
            "예시 문서:\n",
            " 환자 ID: 18ebb069\n",
            "환자는 다음과 같은 알레르기 반응을 보였습니다:\n",
            "알레르기 성 배치\n",
            "아스피린\n"
          ]
        }
      ]
    },
    {
      "cell_type": "code",
      "source": [
        "import re\n",
        "from collections import defaultdict\n",
        "from datetime import datetime\n",
        "from langchain.schema import Document\n",
        "\n",
        "# ✅ 모든 docs 합치기\n",
        "all_docs = patients_docs + conditions_docs + observation_docs + medication_docs + allergy_docs + procedures_docs\n",
        "\n",
        "# ✅ patient_id 기준 그룹화\n",
        "patient_groups = defaultdict(list)\n",
        "for doc in all_docs:\n",
        "    pid = doc.metadata.get(\"patient_id\")\n",
        "    if pid:\n",
        "        patient_groups[pid].append(doc)\n",
        "\n",
        "def create_cases_by_medications(pid, docs):\n",
        "    # 기본 정보\n",
        "    age_str = \"알 수 없음\"\n",
        "    gender_str = \"알 수 없음\"\n",
        "    weight_str = \"알 수 없음\"\n",
        "    systolic_str = \"알 수 없음\"\n",
        "    diastolic_str = \"알 수 없음\"\n",
        "    conditions_str = \"없습니다.\"\n",
        "    smoking_str = \"비흡연\"  # 기본값\n",
        "    allergies_str = \"없습니다.\"\n",
        "    procedures_str = \"없습니다.\"\n",
        "\n",
        "    # 각 환자 기본 및 바이탈 정보 먼저 파싱\n",
        "    for doc in docs:\n",
        "        table = doc.metadata.get(\"table\")\n",
        "        if table == \"patients\":\n",
        "            content = doc.page_content\n",
        "            birth_match = re.search(r'기본 정보: (\\d{4})', content)\n",
        "            if birth_match:\n",
        "                birth_year = int(birth_match.group(1))\n",
        "                age = datetime.now().year - birth_year\n",
        "                age_str = f\"{age}\"\n",
        "\n",
        "            gender_match = re.search(r'성별은 (\\w)', content)\n",
        "            if gender_match:\n",
        "                gender_raw = gender_match.group(1)\n",
        "                gender_str = \"남성\" if gender_raw == \"M\" else \"여성\"\n",
        "\n",
        "        if table == \"observations\":\n",
        "            bw_match = re.search(r'Body Weight: (\\d+\\.\\d+)', doc.page_content)\n",
        "            if bw_match:\n",
        "                weight_str = bw_match.group(1)\n",
        "\n",
        "            sys_match = re.search(r'Systolic Blood Pressure: (\\d+)', doc.page_content)\n",
        "            if sys_match:\n",
        "                systolic_str = sys_match.group(1)\n",
        "\n",
        "            dia_match = re.search(r'Diastolic Blood Pressure: (\\d+)', doc.page_content)\n",
        "            if dia_match:\n",
        "                diastolic_str = dia_match.group(1)\n",
        "            smoke_match = re.search(r'흡연 여부: ([가-힣]+)', doc.page_content)\n",
        "            if smoke_match:\n",
        "                smoking_str = smoke_match.group(1)\n",
        "            else:\n",
        "                smoking_str = \"비흡연\"  # 혹시 없을 경우 기본값\n",
        "\n",
        "        if table == \"conditions\":\n",
        "            # 한글 번역된 description에 맞춘 정규식\n",
        "            conditions_matches = re.findall(r'\\d{4}-\\d{2}-\\d{2}부터 .*?까지 (.+?) 진단 받았습니다\\.', doc.page_content)\n",
        "            if conditions_matches:\n",
        "                conditions_str = \", \".join(set(conditions_matches)) + \" 있습니다.\"\n",
        "            else:\n",
        "                conditions_str = \"없습니다.\"\n",
        "\n",
        "        if table == \"allergies\":\n",
        "            # 줄바꿈 기준으로 나누기\n",
        "            lines = doc.page_content.split(\"\\n\")\n",
        "            if len(lines) >= 3:\n",
        "                # 세 번째 줄부터 알레르기 항목\n",
        "                allergy_items = lines[2:]\n",
        "\n",
        "                # 불필요한 공백 제거\n",
        "                allergies_only = \", \".join([item.strip() for item in allergy_items if item.strip()])\n",
        "\n",
        "                if allergies_only and allergies_only.lower() != \"없음\":\n",
        "                    allergies_str = allergies_only + \" 있습니다.\"\n",
        "                else:\n",
        "                    allergies_str = \"없습니다.\"\n",
        "            else:\n",
        "                allergies_str = \"없습니다.\"\n",
        "\n",
        "        if table == \"procedures\":\n",
        "            parts = doc.page_content.split(\"수술 이력:\")\n",
        "            if len(parts) > 1:\n",
        "                procedures_raw = parts[1].strip()\n",
        "                procedures_list = [proc.strip() for proc in procedures_raw.split(\",\")]\n",
        "                unique_procedures = sorted(set(procedures_list))\n",
        "                procedures_str = \", \".join(unique_procedures) + \" 있습니다.\"\n",
        "            else:\n",
        "                procedures_str = \"없습니다.\"\n",
        "\n",
        "    # ✅ 약물 문서 찾아서 여러 개로 분리\n",
        "    cases = []\n",
        "    for doc in docs:\n",
        "        if doc.metadata.get(\"table\") == \"medications\":\n",
        "            med_lines = re.findall(\n",
        "                r'- 성분: (.+?)  용량: (.+?)  제형: (.+?)  기간: (.+?)  횟수: (\\d+)회(?:  사유: (.*))?',\n",
        "                doc.page_content\n",
        "            )\n",
        "            for med_name, med_dose, med_form, med_period, med_count, med_reason in med_lines:\n",
        "                reason_str = f\"{med_reason}를 이유로\" if med_reason and med_reason.strip() else \"\"\n",
        "                text = (\n",
        "                    f\"만 {age_str}세 {weight_str}kg의 환자는 \"\n",
        "                    f\"최고 혈압은 {systolic_str}, 최저 혈압은 {diastolic_str}, \"\n",
        "                    f\"기저질환은 {conditions_str} \"\n",
        "                    f\"성별은 {gender_str}, {smoking_str}자 입니다. \"\n",
        "                    f\"{reason_str} {med_name}(을/를) {med_count}회 {med_dose}씩 {med_form} 복용했습니다. \"\n",
        "                    f\"알러지는 {allergies_str} 수술 이력은 {procedures_str}\"\n",
        "                )\n",
        "                cases.append(Document(page_content=text, metadata={\"patient_id\": pid, \"table\": \"merged_summary\"}))\n",
        "\n",
        "    # ✅ 약물 정보 없으면 하나만 생성\n",
        "    if not cases:\n",
        "        text = (\n",
        "            f\"만 {age_str}세 {weight_str}kg의 환자는 \"\n",
        "            f\"최고 혈압은 {systolic_str}, 최저 혈압은 {diastolic_str}, \"\n",
        "            f\"기저질환은 {conditions_str} \"\n",
        "            f\"성별은 {gender_str}, {smoking_str}자 입니다. \"\n",
        "            f\" 복용 약물 정보는 없습니다. \"\n",
        "            f\"알러지는 {allergies_str} 수술 이력은 {procedures_str}\"\n",
        "        )\n",
        "        cases.append(Document(page_content=text, metadata={\"patient_id\": pid, \"table\": \"merged_summary\"}))\n",
        "\n",
        "    return cases\n",
        "\n",
        "# ✅ 최종 문서 생성\n",
        "merged_docs = []\n",
        "for pid, docs in patient_groups.items():\n",
        "    cases = create_cases_by_medications(pid, docs)\n",
        "    merged_docs.extend(cases)\n",
        "\n",
        "print(\"생성된 문서 수:\", len(merged_docs))\n",
        "for i in range (0, 100):\n",
        "  print(\"예시 문서:\\n\", merged_docs[i].page_content)"
      ],
      "metadata": {
        "colab": {
          "base_uri": "https://localhost:8080/"
        },
        "id": "BgLyaEhjhksB",
        "outputId": "e06edec0-c867-448c-e1be-ae1f8de3ab4d"
      },
      "execution_count": null,
      "outputs": [
        {
          "output_type": "stream",
          "name": "stdout",
          "text": [
            "생성된 문서 수: 8166\n",
            "예시 문서:\n",
            " 만 3세 8.6kg의 환자는 최고 혈압은 144, 최저 혈압은 77, 기저질환은 없습니다. 성별은 남성, 비흡연자 입니다.  NDA020800  Epinephrine(을/를) 19회 0.3 ml / 1 mg/ml씩 자동 주사기 복용했습니다. 알러지는 알레르기 성 배치, 곰팡이, 집 먼지 진드기, 동물 반드시, 나무 꽃가루, 밀, 땅콩 있습니다. 수술 이력은 알레르기 선별 검사, 약물 조정 있습니다.\n",
            "예시 문서:\n",
            " 만 3세 8.6kg의 환자는 최고 혈압은 144, 최저 혈압은 77, 기저질환은 없습니다. 성별은 남성, 비흡연자 입니다.  cetirizine hydrochloride(을/를) 19회 5 mg씩 구강 정제 복용했습니다. 알러지는 알레르기 성 배치, 곰팡이, 집 먼지 진드기, 동물 반드시, 나무 꽃가루, 밀, 땅콩 있습니다. 수술 이력은 알레르기 선별 검사, 약물 조정 있습니다.\n",
            "예시 문서:\n",
            " 만 1세 6.7kg의 환자는 최고 혈압은 130, 최저 혈압은 91, 기저질환은 급성 기관지염, 아토피 성 피부염 있습니다. 성별은 여성, 비흡연자 입니다. 급성 기관지염를 이유로 Acetaminophen(을/를) 1회 325 mg씩 구강 정제 복용했습니다. 알러지는 없습니다. 수술 이력은 약물 조정 있습니다.\n",
            "예시 문서:\n",
            " 만 40세 87.4kg의 환자는 최고 혈압은 141, 최저 혈압은 77, 기저질환은 발작 장애, 부패, 급성 바이러스 성 인두염, 빈혈증, 발목의 염좌, 바이러스 성 부비동염 있습니다. 성별은 남성, 비흡연자 입니다. 부패를 이유로 vancomycin(을/를) 1회 150 ml / 5 mg/ml씩 주입 복용했습니다. 알러지는 없습니다. 수술 이력은 electroencephalogram, 가정 폭력을위한 선별, 건강 및 사회 복지 요구 평가, 목구멍 문화, 물질 사용의 평가, 불안의 평가, 스텝 다운 장치로 전송, 알코올 사용 장애 식별 테스트 - 소비를 사용한 평가, 약물 남용을위한 선별, 우울증 스크리닝, 정맥 내 유체를 사용한 소생술 있습니다.\n",
            "예시 문서:\n",
            " 만 40세 87.4kg의 환자는 최고 혈압은 141, 최저 혈압은 77, 기저질환은 발작 장애, 부패, 급성 바이러스 성 인두염, 빈혈증, 발목의 염좌, 바이러스 성 부비동염 있습니다. 성별은 남성, 비흡연자 입니다. 발작 장애를 이유로 Diazepam(을/를) 11회 5 mg씩 구강 정제 복용했습니다. 알러지는 없습니다. 수술 이력은 electroencephalogram, 가정 폭력을위한 선별, 건강 및 사회 복지 요구 평가, 목구멍 문화, 물질 사용의 평가, 불안의 평가, 스텝 다운 장치로 전송, 알코올 사용 장애 식별 테스트 - 소비를 사용한 평가, 약물 남용을위한 선별, 우울증 스크리닝, 정맥 내 유체를 사용한 소생술 있습니다.\n",
            "예시 문서:\n",
            " 만 40세 87.4kg의 환자는 최고 혈압은 141, 최저 혈압은 77, 기저질환은 발작 장애, 부패, 급성 바이러스 성 인두염, 빈혈증, 발목의 염좌, 바이러스 성 부비동염 있습니다. 성별은 남성, 비흡연자 입니다.  Ibuprofen(을/를) 1회 200 mg씩 구강 정제 복용했습니다. 알러지는 없습니다. 수술 이력은 electroencephalogram, 가정 폭력을위한 선별, 건강 및 사회 복지 요구 평가, 목구멍 문화, 물질 사용의 평가, 불안의 평가, 스텝 다운 장치로 전송, 알코올 사용 장애 식별 테스트 - 소비를 사용한 평가, 약물 남용을위한 선별, 우울증 스크리닝, 정맥 내 유체를 사용한 소생술 있습니다.\n",
            "예시 문서:\n",
            " 만 40세 87.4kg의 환자는 최고 혈압은 141, 최저 혈압은 77, 기저질환은 발작 장애, 부패, 급성 바이러스 성 인두염, 빈혈증, 발목의 염좌, 바이러스 성 부비동염 있습니다. 성별은 남성, 비흡연자 입니다.  Naproxen sodium(을/를) 1회 220 mg씩 구강 정제 복용했습니다. 알러지는 없습니다. 수술 이력은 electroencephalogram, 가정 폭력을위한 선별, 건강 및 사회 복지 요구 평가, 목구멍 문화, 물질 사용의 평가, 불안의 평가, 스텝 다운 장치로 전송, 알코올 사용 장애 식별 테스트 - 소비를 사용한 평가, 약물 남용을위한 선별, 우울증 스크리닝, 정맥 내 유체를 사용한 소생술 있습니다.\n",
            "예시 문서:\n",
            " 만 40세 87.4kg의 환자는 최고 혈압은 141, 최저 혈압은 77, 기저질환은 발작 장애, 부패, 급성 바이러스 성 인두염, 빈혈증, 발목의 염좌, 바이러스 성 부비동염 있습니다. 성별은 남성, 비흡연자 입니다. 부패를 이유로 piperacillin, tazobactam(을/를) 1회 2000 mg, 250 mg씩 주입 복용했습니다. 알러지는 없습니다. 수술 이력은 electroencephalogram, 가정 폭력을위한 선별, 건강 및 사회 복지 요구 평가, 목구멍 문화, 물질 사용의 평가, 불안의 평가, 스텝 다운 장치로 전송, 알코올 사용 장애 식별 테스트 - 소비를 사용한 평가, 약물 남용을위한 선별, 우울증 스크리닝, 정맥 내 유체를 사용한 소생술 있습니다.\n",
            "예시 문서:\n",
            " 만 21세 53.3kg의 환자는 최고 혈압은 110, 최저 혈압은 68, 기저질환은 급성 감염 방광염, 바이러스 성 부비동염, 치은염 있습니다. 성별은 여성, 비흡연자 입니다.  Levora 0.15/30(을/를) 12회 28 day씩 팩 복용했습니다. 알러지는 없습니다. 수술 이력은 Gingivae의 검사, 가정 폭력을위한 선별, 건강 및 사회 복지 요구 평가, 건강 위험 교육, 구강 건강 교육, 물질 사용의 평가, 복합 치과 충전재의 적용 치아 골절 후 치아의 상아질에 적용, 불안의 평가, 소변 표본 수집, 알코올 사용 장애 식별 테스트 - 소비를 사용한 평가, 약물 조정, 역사 및 신체 검사 제한, 역사 복용, 예상 지침, 우울증 스크리닝, 자동차를 사용한 평가 혼자 휴식을 취하십시오. 친구 잊어, 징후 및 증상에 대한 토론, 치과 불소 처리, 치과 상담 및 보고서, 치과 용 엑스레이 비트, 치과 치료, 치과 치료를위한 환자 진료 의뢰, 치과기구를 사용하여 모든 치아에서 우위 플라크 및 미적분학 제거, 치과기구를 사용하여 모든 치아에서 하위 징징 기형 플라크 및 미적분학 제거, 평가 절차, 표준 임신 검사, 항생제 요법, 현미경 및 배양에 대한 반사와 소변 검사, 환자 건강 설문지 9 항목 점수를 사용한 우울증 스크리닝 있습니다.\n",
            "예시 문서:\n",
            " 만 21세 53.3kg의 환자는 최고 혈압은 110, 최저 혈압은 68, 기저질환은 급성 감염 방광염, 바이러스 성 부비동염, 치은염 있습니다. 성별은 여성, 비흡연자 입니다.  Natazia(을/를) 12회 28 day씩 팩 복용했습니다. 알러지는 없습니다. 수술 이력은 Gingivae의 검사, 가정 폭력을위한 선별, 건강 및 사회 복지 요구 평가, 건강 위험 교육, 구강 건강 교육, 물질 사용의 평가, 복합 치과 충전재의 적용 치아 골절 후 치아의 상아질에 적용, 불안의 평가, 소변 표본 수집, 알코올 사용 장애 식별 테스트 - 소비를 사용한 평가, 약물 조정, 역사 및 신체 검사 제한, 역사 복용, 예상 지침, 우울증 스크리닝, 자동차를 사용한 평가 혼자 휴식을 취하십시오. 친구 잊어, 징후 및 증상에 대한 토론, 치과 불소 처리, 치과 상담 및 보고서, 치과 용 엑스레이 비트, 치과 치료, 치과 치료를위한 환자 진료 의뢰, 치과기구를 사용하여 모든 치아에서 우위 플라크 및 미적분학 제거, 치과기구를 사용하여 모든 치아에서 하위 징징 기형 플라크 및 미적분학 제거, 평가 절차, 표준 임신 검사, 항생제 요법, 현미경 및 배양에 대한 반사와 소변 검사, 환자 건강 설문지 9 항목 점수를 사용한 우울증 스크리닝 있습니다.\n",
            "예시 문서:\n",
            " 만 21세 53.3kg의 환자는 최고 혈압은 110, 최저 혈압은 68, 기저질환은 급성 감염 방광염, 바이러스 성 부비동염, 치은염 있습니다. 성별은 여성, 비흡연자 입니다.  Yaz(을/를) 12회 28 day씩 팩 복용했습니다. 알러지는 없습니다. 수술 이력은 Gingivae의 검사, 가정 폭력을위한 선별, 건강 및 사회 복지 요구 평가, 건강 위험 교육, 구강 건강 교육, 물질 사용의 평가, 복합 치과 충전재의 적용 치아 골절 후 치아의 상아질에 적용, 불안의 평가, 소변 표본 수집, 알코올 사용 장애 식별 테스트 - 소비를 사용한 평가, 약물 조정, 역사 및 신체 검사 제한, 역사 복용, 예상 지침, 우울증 스크리닝, 자동차를 사용한 평가 혼자 휴식을 취하십시오. 친구 잊어, 징후 및 증상에 대한 토론, 치과 불소 처리, 치과 상담 및 보고서, 치과 용 엑스레이 비트, 치과 치료, 치과 치료를위한 환자 진료 의뢰, 치과기구를 사용하여 모든 치아에서 우위 플라크 및 미적분학 제거, 치과기구를 사용하여 모든 치아에서 하위 징징 기형 플라크 및 미적분학 제거, 평가 절차, 표준 임신 검사, 항생제 요법, 현미경 및 배양에 대한 반사와 소변 검사, 환자 건강 설문지 9 항목 점수를 사용한 우울증 스크리닝 있습니다.\n",
            "예시 문서:\n",
            " 만 21세 53.3kg의 환자는 최고 혈압은 110, 최저 혈압은 68, 기저질환은 급성 감염 방광염, 바이러스 성 부비동염, 치은염 있습니다. 성별은 여성, 비흡연자 입니다. 급성 감염 방광염를 이유로 cephalexin(을/를) 1회 500 mg씩 구강 정제 복용했습니다. 알러지는 없습니다. 수술 이력은 Gingivae의 검사, 가정 폭력을위한 선별, 건강 및 사회 복지 요구 평가, 건강 위험 교육, 구강 건강 교육, 물질 사용의 평가, 복합 치과 충전재의 적용 치아 골절 후 치아의 상아질에 적용, 불안의 평가, 소변 표본 수집, 알코올 사용 장애 식별 테스트 - 소비를 사용한 평가, 약물 조정, 역사 및 신체 검사 제한, 역사 복용, 예상 지침, 우울증 스크리닝, 자동차를 사용한 평가 혼자 휴식을 취하십시오. 친구 잊어, 징후 및 증상에 대한 토론, 치과 불소 처리, 치과 상담 및 보고서, 치과 용 엑스레이 비트, 치과 치료, 치과 치료를위한 환자 진료 의뢰, 치과기구를 사용하여 모든 치아에서 우위 플라크 및 미적분학 제거, 치과기구를 사용하여 모든 치아에서 하위 징징 기형 플라크 및 미적분학 제거, 평가 절차, 표준 임신 검사, 항생제 요법, 현미경 및 배양에 대한 반사와 소변 검사, 환자 건강 설문지 9 항목 점수를 사용한 우울증 스크리닝 있습니다.\n",
            "예시 문서:\n",
            " 만 21세 53.3kg의 환자는 최고 혈압은 110, 최저 혈압은 68, 기저질환은 급성 감염 방광염, 바이러스 성 부비동염, 치은염 있습니다. 성별은 여성, 비흡연자 입니다. 치은염를 이유로 sodium fluoride(을/를) 1회 0.0272 mg/mg씩 구강 겔 복용했습니다. 알러지는 없습니다. 수술 이력은 Gingivae의 검사, 가정 폭력을위한 선별, 건강 및 사회 복지 요구 평가, 건강 위험 교육, 구강 건강 교육, 물질 사용의 평가, 복합 치과 충전재의 적용 치아 골절 후 치아의 상아질에 적용, 불안의 평가, 소변 표본 수집, 알코올 사용 장애 식별 테스트 - 소비를 사용한 평가, 약물 조정, 역사 및 신체 검사 제한, 역사 복용, 예상 지침, 우울증 스크리닝, 자동차를 사용한 평가 혼자 휴식을 취하십시오. 친구 잊어, 징후 및 증상에 대한 토론, 치과 불소 처리, 치과 상담 및 보고서, 치과 용 엑스레이 비트, 치과 치료, 치과 치료를위한 환자 진료 의뢰, 치과기구를 사용하여 모든 치아에서 우위 플라크 및 미적분학 제거, 치과기구를 사용하여 모든 치아에서 하위 징징 기형 플라크 및 미적분학 제거, 평가 절차, 표준 임신 검사, 항생제 요법, 현미경 및 배양에 대한 반사와 소변 검사, 환자 건강 설문지 9 항목 점수를 사용한 우울증 스크리닝 있습니다.\n",
            "예시 문서:\n",
            " 만 28세 82.6kg의 환자는 최고 혈압은 120, 최저 혈압은 79, 기저질환은 손목의 골절 아 탈구, 급성 바이러스 성 인두염, 치아 감염, 발목의 염좌, 치은염, 뼈의 골절 있습니다. 성별은 남성, 비흡연자 입니다.  Ibuprofen(을/를) 1회 200 mg씩 구강 정제 복용했습니다. 알러지는 없습니다. 수술 이력은 Gingivae의 검사, 가정 폭력을위한 선별, 건강 및 사회 복지 요구 평가, 구강 건강 교육, 물질 사용의 평가, 불안의 평가, 뼈 고정, 손목 영역의 일반 엑스레이, 알코올 사용 장애 식별 테스트 - 소비를 사용한 평가, 약물 남용을위한 선별, 약물 조정, 우울증 스크리닝, 치과 불소 처리, 치과 상담 및 보고서, 치과 수술 절차, 치과 용 엑스레이 비트, 치과 절차를위한 수술 후 치료, 치과 충전재를 사용하여 모든 교두의 커버리지로 치아의 복원, 치과 치료, 치과 치료를위한 환자 진료 의뢰, 치과기구를 사용하여 모든 치아에서 우위 플라크 및 미적분학 제거, 치과기구를 사용하여 모든 치아에서 하위 징징 기형 플라크 및 미적분학 제거, 치아의 간단한 추출, 탈감작 의료의 치과 적용, 환자 건강 설문지 9 항목 점수를 사용한 우울증 스크리닝 있습니다.\n",
            "예시 문서:\n",
            " 만 28세 82.6kg의 환자는 최고 혈압은 120, 최저 혈압은 79, 기저질환은 손목의 골절 아 탈구, 급성 바이러스 성 인두염, 치아 감염, 발목의 염좌, 치은염, 뼈의 골절 있습니다. 성별은 남성, 비흡연자 입니다.  Naproxen sodium(을/를) 1회 220 mg씩 구강 정제 복용했습니다. 알러지는 없습니다. 수술 이력은 Gingivae의 검사, 가정 폭력을위한 선별, 건강 및 사회 복지 요구 평가, 구강 건강 교육, 물질 사용의 평가, 불안의 평가, 뼈 고정, 손목 영역의 일반 엑스레이, 알코올 사용 장애 식별 테스트 - 소비를 사용한 평가, 약물 남용을위한 선별, 약물 조정, 우울증 스크리닝, 치과 불소 처리, 치과 상담 및 보고서, 치과 수술 절차, 치과 용 엑스레이 비트, 치과 절차를위한 수술 후 치료, 치과 충전재를 사용하여 모든 교두의 커버리지로 치아의 복원, 치과 치료, 치과 치료를위한 환자 진료 의뢰, 치과기구를 사용하여 모든 치아에서 우위 플라크 및 미적분학 제거, 치과기구를 사용하여 모든 치아에서 하위 징징 기형 플라크 및 미적분학 제거, 치아의 간단한 추출, 탈감작 의료의 치과 적용, 환자 건강 설문지 9 항목 점수를 사용한 우울증 스크리닝 있습니다.\n",
            "예시 문서:\n",
            " 만 28세 82.6kg의 환자는 최고 혈압은 120, 최저 혈압은 79, 기저질환은 손목의 골절 아 탈구, 급성 바이러스 성 인두염, 치아 감염, 발목의 염좌, 치은염, 뼈의 골절 있습니다. 성별은 남성, 비흡연자 입니다. 치은염, 치과 치료를위한 환자 진료 의뢰를 이유로 sodium fluoride(을/를) 2회 0.0272 mg/mg씩 구강 겔 복용했습니다. 알러지는 없습니다. 수술 이력은 Gingivae의 검사, 가정 폭력을위한 선별, 건강 및 사회 복지 요구 평가, 구강 건강 교육, 물질 사용의 평가, 불안의 평가, 뼈 고정, 손목 영역의 일반 엑스레이, 알코올 사용 장애 식별 테스트 - 소비를 사용한 평가, 약물 남용을위한 선별, 약물 조정, 우울증 스크리닝, 치과 불소 처리, 치과 상담 및 보고서, 치과 수술 절차, 치과 용 엑스레이 비트, 치과 절차를위한 수술 후 치료, 치과 충전재를 사용하여 모든 교두의 커버리지로 치아의 복원, 치과 치료, 치과 치료를위한 환자 진료 의뢰, 치과기구를 사용하여 모든 치아에서 우위 플라크 및 미적분학 제거, 치과기구를 사용하여 모든 치아에서 하위 징징 기형 플라크 및 미적분학 제거, 치아의 간단한 추출, 탈감작 의료의 치과 적용, 환자 건강 설문지 9 항목 점수를 사용한 우울증 스크리닝 있습니다.\n",
            "예시 문서:\n",
            " 만 15세 37.8kg의 환자는 최고 혈압은 142, 최저 혈압은 80, 기저질환은 1 차 치과 충치, 손목의 골절 아 탈구, 급성 바이러스 성 인두염, 바이러스 성 부비동염, 치은염, 뼈의 골절 있습니다. 성별은 남성, 비흡연자 입니다.  Naproxen sodium(을/를) 2회 220 mg씩 구강 정제 복용했습니다. 알러지는 없습니다. 수술 이력은 Gingivae의 검사, 구강 건강 교육, 목구멍 문화, 물질 사용의 평가, 복합 치과 충전재의 적용 치아 골절 후 치아의 상아질에 적용, 불안의 평가, 뼈 고정, 손목 영역의 일반 엑스레이, 약물 조정, 예상 지침, 우울증 스크리닝, 자동차를 사용한 평가 혼자 휴식을 취하십시오. 친구 잊어, 치과 불소 처리, 치과 상담 및 보고서, 치과 용 엑스레이 비트, 치과 충전재를 사용하여 모든 교두의 커버리지로 치아의 복원, 치과 치료, 치과 치료를위한 환자 진료 의뢰, 치과기구를 사용하여 모든 치아에서 우위 플라크 및 미적분학 제거, 치과기구를 사용하여 모든 치아에서 하위 징징 기형 플라크 및 미적분학 제거, 환자 건강 설문지 9 항목 점수를 사용한 우울증 스크리닝 있습니다.\n",
            "예시 문서:\n",
            " 만 15세 37.8kg의 환자는 최고 혈압은 142, 최저 혈압은 80, 기저질환은 1 차 치과 충치, 손목의 골절 아 탈구, 급성 바이러스 성 인두염, 바이러스 성 부비동염, 치은염, 뼈의 골절 있습니다. 성별은 남성, 비흡연자 입니다. 치과 치료를위한 환자 진료 의뢰, 치은염를 이유로 sodium fluoride(을/를) 4회 0.0272 mg/mg씩 구강 겔 복용했습니다. 알러지는 없습니다. 수술 이력은 Gingivae의 검사, 구강 건강 교육, 목구멍 문화, 물질 사용의 평가, 복합 치과 충전재의 적용 치아 골절 후 치아의 상아질에 적용, 불안의 평가, 뼈 고정, 손목 영역의 일반 엑스레이, 약물 조정, 예상 지침, 우울증 스크리닝, 자동차를 사용한 평가 혼자 휴식을 취하십시오. 친구 잊어, 치과 불소 처리, 치과 상담 및 보고서, 치과 용 엑스레이 비트, 치과 충전재를 사용하여 모든 교두의 커버리지로 치아의 복원, 치과 치료, 치과 치료를위한 환자 진료 의뢰, 치과기구를 사용하여 모든 치아에서 우위 플라크 및 미적분학 제거, 치과기구를 사용하여 모든 치아에서 하위 징징 기형 플라크 및 미적분학 제거, 환자 건강 설문지 9 항목 점수를 사용한 우울증 스크리닝 있습니다.\n",
            "예시 문서:\n",
            " 만 2세 8.8kg의 환자는 최고 혈압은 97, 최저 혈압은 68, 기저질환은 급성 바이러스 성 인두염 있습니다. 성별은 남성, 비흡연자 입니다.  복용 약물 정보는 없습니다. 알러지는 없습니다. 수술 이력은 목구멍 문화, 약물 조정 있습니다.\n",
            "예시 문서:\n",
            " 만 53세 81.4kg의 환자는 최고 혈압은 125, 최저 혈압은 76, 기저질환은 급성 기관지염, 급성 바이러스 성 인두염, 빈혈증, 치은 질병, 바이러스 성 부비동염, 치은염 있습니다. 성별은 남성, 비흡연자 입니다. 급성 기관지염를 이유로 Acetaminophen(을/를) 1회 325 mg씩 구강 정제 복용했습니다. 알러지는 없습니다. 수술 이력은 Gingivae의 검사, 가슴의 평범한 엑스레이, 가정 폭력을위한 선별, 간단한 일반 검사, 건강 및 사회 복지 요구 평가, 구강 건강 교육, 대장 내시경 검사, 말초 혈액 도말 해석, 물질 사용의 평가, 불안의 평가, 시스템 검토, 알코올 사용 장애 식별 테스트 - 소비를 사용한 평가, 약물 남용을위한 선별, 약물 조정, 우울증 스크리닝, 치과 불소 처리, 치과 상담 및 보고서, 치과 수술 절차, 치과 용 엑스레이 비트, 치과 절차를위한 수술 후 치료, 치과 치료, 치과 치료를위한 환자 진료 의뢰, 치과기구를 사용하여 모든 치아에서 우위 플라크 및 미적분학 제거, 치과기구를 사용하여 모든 치아에서 하위 징징 기형 플라크 및 미적분학 제거, 치은 절제술 또는 치은 치지 성형술, 탈감작 의료의 치과 적용, 환자 건강 설문지 9 항목 점수를 사용한 우울증 스크리닝 있습니다.\n",
            "예시 문서:\n",
            " 만 53세 81.4kg의 환자는 최고 혈압은 125, 최저 혈압은 76, 기저질환은 급성 기관지염, 급성 바이러스 성 인두염, 빈혈증, 치은 질병, 바이러스 성 부비동염, 치은염 있습니다. 성별은 남성, 비흡연자 입니다. 치과 치료를위한 환자 진료 의뢰를 이유로 sodium fluoride(을/를) 2회 0.0272 mg/mg씩 구강 겔 복용했습니다. 알러지는 없습니다. 수술 이력은 Gingivae의 검사, 가슴의 평범한 엑스레이, 가정 폭력을위한 선별, 간단한 일반 검사, 건강 및 사회 복지 요구 평가, 구강 건강 교육, 대장 내시경 검사, 말초 혈액 도말 해석, 물질 사용의 평가, 불안의 평가, 시스템 검토, 알코올 사용 장애 식별 테스트 - 소비를 사용한 평가, 약물 남용을위한 선별, 약물 조정, 우울증 스크리닝, 치과 불소 처리, 치과 상담 및 보고서, 치과 수술 절차, 치과 용 엑스레이 비트, 치과 절차를위한 수술 후 치료, 치과 치료, 치과 치료를위한 환자 진료 의뢰, 치과기구를 사용하여 모든 치아에서 우위 플라크 및 미적분학 제거, 치과기구를 사용하여 모든 치아에서 하위 징징 기형 플라크 및 미적분학 제거, 치은 절제술 또는 치은 치지 성형술, 탈감작 의료의 치과 적용, 환자 건강 설문지 9 항목 점수를 사용한 우울증 스크리닝 있습니다.\n",
            "예시 문서:\n",
            " 만 38세 75.0kg의 환자는 최고 혈압은 120, 최저 혈압은 69, 기저질환은 1 차 치과 충치, 반복 요로 감염, 급성 기관지염, 자간전증, 완전한 유산, 빈혈증, 발목의 염좌, 첫 삼 분기의 유산, 치은 질병, 바이러스 성 부비동염, 치은염, 멍청한 난자 있습니다. 성별은 여성, 비흡연자 입니다. 급성 기관지염를 이유로 Acetaminophen(을/를) 2회 325 mg씩 구강 정제 복용했습니다. 알러지는 없습니다. 수술 이력은 B 형 간염 표면 항원 측정, Bordetella pertussis 및 clostridium tetani 및 Corynebacterium diphtheriae 항원 만 포함하는 백신 제품의 투여, C 형 간염 항체 확인 검사, Gingivae의 검사, Streptococcus pneumoniae Group B 항원 분석, 가정 폭력을위한 선별, 건강 및 사회 복지 요구 평가, 결핵 타인 검사에 대한 피부 검사, 구강 건강 교육, 노동의 의학적 유도, 당뇨병에 대한 소변 검사 검사, 도구 전달, 매독 감염성 역가 테스트, 멸균 교육, 물질 사용의 평가, 복합 치과 충전재의 적용 치아 골절 후 치아의 상아질에 적용, 불안의 평가, 세포 병리학 절차 도말 생식기 소스의 준비, 소변 검사 단백질 질적, 소변 문화, 수두 대기 바이러스 항체의 측정, 수술 후 치료, 신체 검사 절차, 알코올 사용 장애 식별 테스트 - 소비를 사용한 평가, 알파 - 페트로 단백질 검사 - 산전, 약물 조정, 양측 난관 튜브의 결찰, 에스 오토 절개, 우울증 스크리닝, 인간 면역 결핍 바이러스 항원 검사, 인간 분만 기능, 임신 종료 관리, 임신 종료 유도, 임신 종료에 대한 상담, 임질 감염 역가 검사, 자궁 기본 높이 평가, 적혈구로 자동화 된 헤모 그램 백혈구 헤모글로빈 헤마토크릿 지수 혈소판 수 및 수동 백혈구 차이, 치과 불소 처리, 치과 상담 및 보고서, 치과 수술 절차, 치과 용 엑스레이 비트, 치과 절차를위한 수술 후 치료, 치과 치료, 치과 치료를위한 환자 진료 의뢰, 치과기구를 사용하여 모든 치아에서 우위 플라크 및 미적분학 제거, 치과기구를 사용하여 모든 치아에서 하위 징징 기형 플라크 및 미적분학 제거, 치은 절제술 또는 치은 치지 성형술, 클라미디아 항원 검사, 탈감작 의료의 치과 적용, 태아 생존력에 대한 초음파 검사, 태아 심장의 청진, 태아 해부학 연구, 포도당에 대한 소변 스크리닝, 표준 임신 검사, 풍진 스크리닝 테스트, 피하 피임약의 제거, 혈액형 타이핑, 형광을 사용하여 사전 양수 유체 시편에서 염색체 이수성의 검출 현장 하이브리드 화 스크리닝 기술, 호흡기 기능 측정 있습니다.\n",
            "예시 문서:\n",
            " 만 38세 75.0kg의 환자는 최고 혈압은 120, 최저 혈압은 69, 기저질환은 1 차 치과 충치, 반복 요로 감염, 급성 기관지염, 자간전증, 완전한 유산, 빈혈증, 발목의 염좌, 첫 삼 분기의 유산, 치은 질병, 바이러스 성 부비동염, 치은염, 멍청한 난자 있습니다. 성별은 여성, 비흡연자 입니다.  NuvaRing  per(을/를) 12회 0.12/0.015 mg / 24hr / 21 day씩 질 시스템 복용했습니다. 알러지는 없습니다. 수술 이력은 B 형 간염 표면 항원 측정, Bordetella pertussis 및 clostridium tetani 및 Corynebacterium diphtheriae 항원 만 포함하는 백신 제품의 투여, C 형 간염 항체 확인 검사, Gingivae의 검사, Streptococcus pneumoniae Group B 항원 분석, 가정 폭력을위한 선별, 건강 및 사회 복지 요구 평가, 결핵 타인 검사에 대한 피부 검사, 구강 건강 교육, 노동의 의학적 유도, 당뇨병에 대한 소변 검사 검사, 도구 전달, 매독 감염성 역가 테스트, 멸균 교육, 물질 사용의 평가, 복합 치과 충전재의 적용 치아 골절 후 치아의 상아질에 적용, 불안의 평가, 세포 병리학 절차 도말 생식기 소스의 준비, 소변 검사 단백질 질적, 소변 문화, 수두 대기 바이러스 항체의 측정, 수술 후 치료, 신체 검사 절차, 알코올 사용 장애 식별 테스트 - 소비를 사용한 평가, 알파 - 페트로 단백질 검사 - 산전, 약물 조정, 양측 난관 튜브의 결찰, 에스 오토 절개, 우울증 스크리닝, 인간 면역 결핍 바이러스 항원 검사, 인간 분만 기능, 임신 종료 관리, 임신 종료 유도, 임신 종료에 대한 상담, 임질 감염 역가 검사, 자궁 기본 높이 평가, 적혈구로 자동화 된 헤모 그램 백혈구 헤모글로빈 헤마토크릿 지수 혈소판 수 및 수동 백혈구 차이, 치과 불소 처리, 치과 상담 및 보고서, 치과 수술 절차, 치과 용 엑스레이 비트, 치과 절차를위한 수술 후 치료, 치과 치료, 치과 치료를위한 환자 진료 의뢰, 치과기구를 사용하여 모든 치아에서 우위 플라크 및 미적분학 제거, 치과기구를 사용하여 모든 치아에서 하위 징징 기형 플라크 및 미적분학 제거, 치은 절제술 또는 치은 치지 성형술, 클라미디아 항원 검사, 탈감작 의료의 치과 적용, 태아 생존력에 대한 초음파 검사, 태아 심장의 청진, 태아 해부학 연구, 포도당에 대한 소변 스크리닝, 표준 임신 검사, 풍진 스크리닝 테스트, 피하 피임약의 제거, 혈액형 타이핑, 형광을 사용하여 사전 양수 유체 시편에서 염색체 이수성의 검출 현장 하이브리드 화 스크리닝 기술, 호흡기 기능 측정 있습니다.\n",
            "예시 문서:\n",
            " 만 38세 75.0kg의 환자는 최고 혈압은 120, 최저 혈압은 69, 기저질환은 1 차 치과 충치, 반복 요로 감염, 급성 기관지염, 자간전증, 완전한 유산, 빈혈증, 발목의 염좌, 첫 삼 분기의 유산, 치은 질병, 바이러스 성 부비동염, 치은염, 멍청한 난자 있습니다. 성별은 여성, 비흡연자 입니다.  Yaz(을/를) 12회 28 day씩 팩 복용했습니다. 알러지는 없습니다. 수술 이력은 B 형 간염 표면 항원 측정, Bordetella pertussis 및 clostridium tetani 및 Corynebacterium diphtheriae 항원 만 포함하는 백신 제품의 투여, C 형 간염 항체 확인 검사, Gingivae의 검사, Streptococcus pneumoniae Group B 항원 분석, 가정 폭력을위한 선별, 건강 및 사회 복지 요구 평가, 결핵 타인 검사에 대한 피부 검사, 구강 건강 교육, 노동의 의학적 유도, 당뇨병에 대한 소변 검사 검사, 도구 전달, 매독 감염성 역가 테스트, 멸균 교육, 물질 사용의 평가, 복합 치과 충전재의 적용 치아 골절 후 치아의 상아질에 적용, 불안의 평가, 세포 병리학 절차 도말 생식기 소스의 준비, 소변 검사 단백질 질적, 소변 문화, 수두 대기 바이러스 항체의 측정, 수술 후 치료, 신체 검사 절차, 알코올 사용 장애 식별 테스트 - 소비를 사용한 평가, 알파 - 페트로 단백질 검사 - 산전, 약물 조정, 양측 난관 튜브의 결찰, 에스 오토 절개, 우울증 스크리닝, 인간 면역 결핍 바이러스 항원 검사, 인간 분만 기능, 임신 종료 관리, 임신 종료 유도, 임신 종료에 대한 상담, 임질 감염 역가 검사, 자궁 기본 높이 평가, 적혈구로 자동화 된 헤모 그램 백혈구 헤모글로빈 헤마토크릿 지수 혈소판 수 및 수동 백혈구 차이, 치과 불소 처리, 치과 상담 및 보고서, 치과 수술 절차, 치과 용 엑스레이 비트, 치과 절차를위한 수술 후 치료, 치과 치료, 치과 치료를위한 환자 진료 의뢰, 치과기구를 사용하여 모든 치아에서 우위 플라크 및 미적분학 제거, 치과기구를 사용하여 모든 치아에서 하위 징징 기형 플라크 및 미적분학 제거, 치은 절제술 또는 치은 치지 성형술, 클라미디아 항원 검사, 탈감작 의료의 치과 적용, 태아 생존력에 대한 초음파 검사, 태아 심장의 청진, 태아 해부학 연구, 포도당에 대한 소변 스크리닝, 표준 임신 검사, 풍진 스크리닝 테스트, 피하 피임약의 제거, 혈액형 타이핑, 형광을 사용하여 사전 양수 유체 시편에서 염색체 이수성의 검출 현장 하이브리드 화 스크리닝 기술, 호흡기 기능 측정 있습니다.\n",
            "예시 문서:\n",
            " 만 38세 75.0kg의 환자는 최고 혈압은 120, 최저 혈압은 69, 기저질환은 1 차 치과 충치, 반복 요로 감염, 급성 기관지염, 자간전증, 완전한 유산, 빈혈증, 발목의 염좌, 첫 삼 분기의 유산, 치은 질병, 바이러스 성 부비동염, 치은염, 멍청한 난자 있습니다. 성별은 여성, 비흡연자 입니다. 치은염를 이유로 sodium fluoride(을/를) 1회 0.0272 mg/mg씩 구강 겔 복용했습니다. 알러지는 없습니다. 수술 이력은 B 형 간염 표면 항원 측정, Bordetella pertussis 및 clostridium tetani 및 Corynebacterium diphtheriae 항원 만 포함하는 백신 제품의 투여, C 형 간염 항체 확인 검사, Gingivae의 검사, Streptococcus pneumoniae Group B 항원 분석, 가정 폭력을위한 선별, 건강 및 사회 복지 요구 평가, 결핵 타인 검사에 대한 피부 검사, 구강 건강 교육, 노동의 의학적 유도, 당뇨병에 대한 소변 검사 검사, 도구 전달, 매독 감염성 역가 테스트, 멸균 교육, 물질 사용의 평가, 복합 치과 충전재의 적용 치아 골절 후 치아의 상아질에 적용, 불안의 평가, 세포 병리학 절차 도말 생식기 소스의 준비, 소변 검사 단백질 질적, 소변 문화, 수두 대기 바이러스 항체의 측정, 수술 후 치료, 신체 검사 절차, 알코올 사용 장애 식별 테스트 - 소비를 사용한 평가, 알파 - 페트로 단백질 검사 - 산전, 약물 조정, 양측 난관 튜브의 결찰, 에스 오토 절개, 우울증 스크리닝, 인간 면역 결핍 바이러스 항원 검사, 인간 분만 기능, 임신 종료 관리, 임신 종료 유도, 임신 종료에 대한 상담, 임질 감염 역가 검사, 자궁 기본 높이 평가, 적혈구로 자동화 된 헤모 그램 백혈구 헤모글로빈 헤마토크릿 지수 혈소판 수 및 수동 백혈구 차이, 치과 불소 처리, 치과 상담 및 보고서, 치과 수술 절차, 치과 용 엑스레이 비트, 치과 절차를위한 수술 후 치료, 치과 치료, 치과 치료를위한 환자 진료 의뢰, 치과기구를 사용하여 모든 치아에서 우위 플라크 및 미적분학 제거, 치과기구를 사용하여 모든 치아에서 하위 징징 기형 플라크 및 미적분학 제거, 치은 절제술 또는 치은 치지 성형술, 클라미디아 항원 검사, 탈감작 의료의 치과 적용, 태아 생존력에 대한 초음파 검사, 태아 심장의 청진, 태아 해부학 연구, 포도당에 대한 소변 스크리닝, 표준 임신 검사, 풍진 스크리닝 테스트, 피하 피임약의 제거, 혈액형 타이핑, 형광을 사용하여 사전 양수 유체 시편에서 염색체 이수성의 검출 현장 하이브리드 화 스크리닝 기술, 호흡기 기능 측정 있습니다.\n",
            "예시 문서:\n",
            " 만 47세 79.6kg의 환자는 최고 혈압은 141, 최저 혈압은 79, 기저질환은 영향을받은 어금니, 얼굴 열상, 의존적 약물 남용, 급성 기관지염, 부패, 오라가없는 만성적 인 다루기 어려운 편두통, 빈혈증, 열상 - 부상, 과다 복용 있습니다. 성별은 남성, 비흡연자 입니다. 급성 기관지염를 이유로 Acetaminophen, Dextromethorphan Hydrobromide, doxylamine succinate  Oral(을/를) 1회 21.7 mg/ml, 1 mg/ml, 0.417 mg/ml씩 해결책 복용했습니다. 알러지는 없습니다. 수술 이력은 Gingivae의 검사, 가슴의 평범한 엑스레이, 건강 및 사회 복지 요구 평가, 구강 건강 교육, 봉합 된 상처, 불안의 평가, 약물 조정, 우울증 스크리닝, 재활 요법, 치과 불소 처리, 치과 상담 및 보고서, 치과 용 엑스레이 비트, 치과 치료, 치과 치료를위한 환자 진료 의뢰, 치과기구를 사용하여 모든 치아에서 우위 플라크 및 미적분학 제거, 치과기구를 사용하여 모든 치아에서 하위 징징 기형 플라크 및 미적분학 제거, 호흡기 기능 측정, 환자 건강 설문지 9 항목 점수를 사용한 우울증 스크리닝 있습니다.\n",
            "예시 문서:\n",
            " 만 47세 79.6kg의 환자는 최고 혈압은 141, 최저 혈압은 79, 기저질환은 영향을받은 어금니, 얼굴 열상, 의존적 약물 남용, 급성 기관지염, 부패, 오라가없는 만성적 인 다루기 어려운 편두통, 빈혈증, 열상 - 부상, 과다 복용 있습니다. 성별은 남성, 비흡연자 입니다. 급성 기관지염를 이유로 Acetaminophen(을/를) 1회 325 mg씩 구강 정제 복용했습니다. 알러지는 없습니다. 수술 이력은 Gingivae의 검사, 가슴의 평범한 엑스레이, 건강 및 사회 복지 요구 평가, 구강 건강 교육, 봉합 된 상처, 불안의 평가, 약물 조정, 우울증 스크리닝, 재활 요법, 치과 불소 처리, 치과 상담 및 보고서, 치과 용 엑스레이 비트, 치과 치료, 치과 치료를위한 환자 진료 의뢰, 치과기구를 사용하여 모든 치아에서 우위 플라크 및 미적분학 제거, 치과기구를 사용하여 모든 치아에서 하위 징징 기형 플라크 및 미적분학 제거, 호흡기 기능 측정, 환자 건강 설문지 9 항목 점수를 사용한 우울증 스크리닝 있습니다.\n",
            "예시 문서:\n",
            " 만 47세 79.6kg의 환자는 최고 혈압은 141, 최저 혈압은 79, 기저질환은 영향을받은 어금니, 얼굴 열상, 의존적 약물 남용, 급성 기관지염, 부패, 오라가없는 만성적 인 다루기 어려운 편두통, 빈혈증, 열상 - 부상, 과다 복용 있습니다. 성별은 남성, 비흡연자 입니다.  Naproxen sodium(을/를) 1회 220 mg씩 구강 정제 복용했습니다. 알러지는 없습니다. 수술 이력은 Gingivae의 검사, 가슴의 평범한 엑스레이, 건강 및 사회 복지 요구 평가, 구강 건강 교육, 봉합 된 상처, 불안의 평가, 약물 조정, 우울증 스크리닝, 재활 요법, 치과 불소 처리, 치과 상담 및 보고서, 치과 용 엑스레이 비트, 치과 치료, 치과 치료를위한 환자 진료 의뢰, 치과기구를 사용하여 모든 치아에서 우위 플라크 및 미적분학 제거, 치과기구를 사용하여 모든 치아에서 하위 징징 기형 플라크 및 미적분학 제거, 호흡기 기능 측정, 환자 건강 설문지 9 항목 점수를 사용한 우울증 스크리닝 있습니다.\n",
            "예시 문서:\n",
            " 만 47세 79.6kg의 환자는 최고 혈압은 141, 최저 혈압은 79, 기저질환은 영향을받은 어금니, 얼굴 열상, 의존적 약물 남용, 급성 기관지염, 부패, 오라가없는 만성적 인 다루기 어려운 편두통, 빈혈증, 열상 - 부상, 과다 복용 있습니다. 성별은 남성, 비흡연자 입니다. 치과 치료를위한 환자 진료 의뢰를 이유로 sodium fluoride(을/를) 2회 0.0272 mg/mg씩 구강 겔 복용했습니다. 알러지는 없습니다. 수술 이력은 Gingivae의 검사, 가슴의 평범한 엑스레이, 건강 및 사회 복지 요구 평가, 구강 건강 교육, 봉합 된 상처, 불안의 평가, 약물 조정, 우울증 스크리닝, 재활 요법, 치과 불소 처리, 치과 상담 및 보고서, 치과 용 엑스레이 비트, 치과 치료, 치과 치료를위한 환자 진료 의뢰, 치과기구를 사용하여 모든 치아에서 우위 플라크 및 미적분학 제거, 치과기구를 사용하여 모든 치아에서 하위 징징 기형 플라크 및 미적분학 제거, 호흡기 기능 측정, 환자 건강 설문지 9 항목 점수를 사용한 우울증 스크리닝 있습니다.\n",
            "예시 문서:\n",
            " 만 4세 11.4kg의 환자는 최고 혈압은 130, 최저 혈압은 86, 기저질환은 급성 기관지염, 치은 질병, 급성 바이러스 성 인두염, 발목의 염좌 있습니다. 성별은 여성, 비흡연자 입니다. 급성 기관지염를 이유로 Acetaminophen(을/를) 1회 325 mg씩 구강 정제 복용했습니다. 알러지는 없습니다. 수술 이력은 Gingivae의 검사, 가슴의 평범한 엑스레이, 구강 건강 교육, 목구멍 문화, 약물 조정, 치과 상담 및 보고서, 치과 수술 절차, 치과 용 엑스레이 비트, 치과 절차를위한 수술 후 치료, 치과 치료, 치과 치료를위한 환자 진료 의뢰, 치과기구를 사용하여 모든 치아에서 우위 플라크 및 미적분학 제거, 치과기구를 사용하여 모든 치아에서 하위 징징 기형 플라크 및 미적분학 제거, 치은 절제술 또는 치은 치지 성형술, 탈감작 의료의 치과 적용 있습니다.\n",
            "예시 문서:\n",
            " 만 4세 11.4kg의 환자는 최고 혈압은 130, 최저 혈압은 86, 기저질환은 급성 기관지염, 치은 질병, 급성 바이러스 성 인두염, 발목의 염좌 있습니다. 성별은 여성, 비흡연자 입니다.  Ibuprofen(을/를) 1회 100 mg씩 구강 정제 복용했습니다. 알러지는 없습니다. 수술 이력은 Gingivae의 검사, 가슴의 평범한 엑스레이, 구강 건강 교육, 목구멍 문화, 약물 조정, 치과 상담 및 보고서, 치과 수술 절차, 치과 용 엑스레이 비트, 치과 절차를위한 수술 후 치료, 치과 치료, 치과 치료를위한 환자 진료 의뢰, 치과기구를 사용하여 모든 치아에서 우위 플라크 및 미적분학 제거, 치과기구를 사용하여 모든 치아에서 하위 징징 기형 플라크 및 미적분학 제거, 치은 절제술 또는 치은 치지 성형술, 탈감작 의료의 치과 적용 있습니다.\n",
            "예시 문서:\n",
            " 만 46세 96.6kg의 환자는 최고 혈압은 123, 최저 혈압은 76, 기저질환은 1 차 치과 충치, 심한 급성 호흡기 증후군 코로나 바이러스로 인한 질병 2, 급성 기관지염, 급성 바이러스 성 인두염, 필수 고혈압, 허혈성 심장병, 빈혈증, 치은염 있습니다. 성별은 남성, 비흡연자 입니다.  metoprolol succinate(을/를) 56회 24 hr / 100 mg씩 확장 릴리스 구강 정제 복용했습니다. 알러지는 없습니다. 수술 이력은 Gingivae의 검사, 가정 폭력을위한 선별, 건강 및 사회 복지 요구 평가, 경피 관상 동맥 중재, 관상 동맥의 혈관 조영술, 구강 건강 교육, 물질 사용의 평가, 복합 치과 충전재의 적용 치아 골절 후 치아의 상아질에 적용, 불안의 평가, 심장학 서비스 참조, 알코올 사용 장애 식별 테스트 - 소비를 사용한 평가, 약물 남용을위한 선별, 약물 조정, 우울증 스크리닝, 치과 불소 처리, 치과 상담 및 보고서, 치과 용 엑스레이 비트, 치과 충전재를 사용하여 모든 교두의 커버리지로 치아의 복원, 치과 치료, 치과 치료를위한 환자 진료 의뢰, 치과기구를 사용하여 모든 치아에서 우위 플라크 및 미적분학 제거, 치과기구를 사용하여 모든 치아에서 하위 징징 기형 플라크 및 미적분학 제거, 치료를위한 상담, 포스트 마취 치료 관리, 호흡기 기능 측정, 환자 건강 설문지 9 항목 점수를 사용한 우울증 스크리닝 있습니다.\n",
            "예시 문서:\n",
            " 만 46세 96.6kg의 환자는 최고 혈압은 123, 최저 혈압은 76, 기저질환은 1 차 치과 충치, 심한 급성 호흡기 증후군 코로나 바이러스로 인한 질병 2, 급성 기관지염, 급성 바이러스 성 인두염, 필수 고혈압, 허혈성 심장병, 빈혈증, 치은염 있습니다. 성별은 남성, 비흡연자 입니다. 급성 기관지염를 이유로 Acetaminophen, Dextromethorphan Hydrobromide, doxylamine succinate  Oral(을/를) 1회 21.7 mg/ml, 1 mg/ml, 0.417 mg/ml씩 해결책 복용했습니다. 알러지는 없습니다. 수술 이력은 Gingivae의 검사, 가정 폭력을위한 선별, 건강 및 사회 복지 요구 평가, 경피 관상 동맥 중재, 관상 동맥의 혈관 조영술, 구강 건강 교육, 물질 사용의 평가, 복합 치과 충전재의 적용 치아 골절 후 치아의 상아질에 적용, 불안의 평가, 심장학 서비스 참조, 알코올 사용 장애 식별 테스트 - 소비를 사용한 평가, 약물 남용을위한 선별, 약물 조정, 우울증 스크리닝, 치과 불소 처리, 치과 상담 및 보고서, 치과 용 엑스레이 비트, 치과 충전재를 사용하여 모든 교두의 커버리지로 치아의 복원, 치과 치료, 치과 치료를위한 환자 진료 의뢰, 치과기구를 사용하여 모든 치아에서 우위 플라크 및 미적분학 제거, 치과기구를 사용하여 모든 치아에서 하위 징징 기형 플라크 및 미적분학 제거, 치료를위한 상담, 포스트 마취 치료 관리, 호흡기 기능 측정, 환자 건강 설문지 9 항목 점수를 사용한 우울증 스크리닝 있습니다.\n",
            "예시 문서:\n",
            " 만 46세 96.6kg의 환자는 최고 혈압은 123, 최저 혈압은 76, 기저질환은 1 차 치과 충치, 심한 급성 호흡기 증후군 코로나 바이러스로 인한 질병 2, 급성 기관지염, 급성 바이러스 성 인두염, 필수 고혈압, 허혈성 심장병, 빈혈증, 치은염 있습니다. 성별은 남성, 비흡연자 입니다.  Clopidogrel(을/를) 56회 75 mg씩 구강 정제 복용했습니다. 알러지는 없습니다. 수술 이력은 Gingivae의 검사, 가정 폭력을위한 선별, 건강 및 사회 복지 요구 평가, 경피 관상 동맥 중재, 관상 동맥의 혈관 조영술, 구강 건강 교육, 물질 사용의 평가, 복합 치과 충전재의 적용 치아 골절 후 치아의 상아질에 적용, 불안의 평가, 심장학 서비스 참조, 알코올 사용 장애 식별 테스트 - 소비를 사용한 평가, 약물 남용을위한 선별, 약물 조정, 우울증 스크리닝, 치과 불소 처리, 치과 상담 및 보고서, 치과 용 엑스레이 비트, 치과 충전재를 사용하여 모든 교두의 커버리지로 치아의 복원, 치과 치료, 치과 치료를위한 환자 진료 의뢰, 치과기구를 사용하여 모든 치아에서 우위 플라크 및 미적분학 제거, 치과기구를 사용하여 모든 치아에서 하위 징징 기형 플라크 및 미적분학 제거, 치료를위한 상담, 포스트 마취 치료 관리, 호흡기 기능 측정, 환자 건강 설문지 9 항목 점수를 사용한 우울증 스크리닝 있습니다.\n",
            "예시 문서:\n",
            " 만 46세 96.6kg의 환자는 최고 혈압은 123, 최저 혈압은 76, 기저질환은 1 차 치과 충치, 심한 급성 호흡기 증후군 코로나 바이러스로 인한 질병 2, 급성 기관지염, 급성 바이러스 성 인두염, 필수 고혈압, 허혈성 심장병, 빈혈증, 치은염 있습니다. 성별은 남성, 비흡연자 입니다. 필수 고혈압를 이유로 Hydrochlorothiazide(을/를) 42회 25 mg씩 구강 정제 복용했습니다. 알러지는 없습니다. 수술 이력은 Gingivae의 검사, 가정 폭력을위한 선별, 건강 및 사회 복지 요구 평가, 경피 관상 동맥 중재, 관상 동맥의 혈관 조영술, 구강 건강 교육, 물질 사용의 평가, 복합 치과 충전재의 적용 치아 골절 후 치아의 상아질에 적용, 불안의 평가, 심장학 서비스 참조, 알코올 사용 장애 식별 테스트 - 소비를 사용한 평가, 약물 남용을위한 선별, 약물 조정, 우울증 스크리닝, 치과 불소 처리, 치과 상담 및 보고서, 치과 용 엑스레이 비트, 치과 충전재를 사용하여 모든 교두의 커버리지로 치아의 복원, 치과 치료, 치과 치료를위한 환자 진료 의뢰, 치과기구를 사용하여 모든 치아에서 우위 플라크 및 미적분학 제거, 치과기구를 사용하여 모든 치아에서 하위 징징 기형 플라크 및 미적분학 제거, 치료를위한 상담, 포스트 마취 치료 관리, 호흡기 기능 측정, 환자 건강 설문지 9 항목 점수를 사용한 우울증 스크리닝 있습니다.\n",
            "예시 문서:\n",
            " 만 46세 96.6kg의 환자는 최고 혈압은 123, 최저 혈압은 76, 기저질환은 1 차 치과 충치, 심한 급성 호흡기 증후군 코로나 바이러스로 인한 질병 2, 급성 기관지염, 급성 바이러스 성 인두염, 필수 고혈압, 허혈성 심장병, 빈혈증, 치은염 있습니다. 성별은 남성, 비흡연자 입니다.  Nitroglycerin(을/를) 56회 0.4 mg/actuat씩 점막 스프레이 복용했습니다. 알러지는 없습니다. 수술 이력은 Gingivae의 검사, 가정 폭력을위한 선별, 건강 및 사회 복지 요구 평가, 경피 관상 동맥 중재, 관상 동맥의 혈관 조영술, 구강 건강 교육, 물질 사용의 평가, 복합 치과 충전재의 적용 치아 골절 후 치아의 상아질에 적용, 불안의 평가, 심장학 서비스 참조, 알코올 사용 장애 식별 테스트 - 소비를 사용한 평가, 약물 남용을위한 선별, 약물 조정, 우울증 스크리닝, 치과 불소 처리, 치과 상담 및 보고서, 치과 용 엑스레이 비트, 치과 충전재를 사용하여 모든 교두의 커버리지로 치아의 복원, 치과 치료, 치과 치료를위한 환자 진료 의뢰, 치과기구를 사용하여 모든 치아에서 우위 플라크 및 미적분학 제거, 치과기구를 사용하여 모든 치아에서 하위 징징 기형 플라크 및 미적분학 제거, 치료를위한 상담, 포스트 마취 치료 관리, 호흡기 기능 측정, 환자 건강 설문지 9 항목 점수를 사용한 우울증 스크리닝 있습니다.\n",
            "예시 문서:\n",
            " 만 46세 96.6kg의 환자는 최고 혈압은 123, 최저 혈압은 76, 기저질환은 1 차 치과 충치, 심한 급성 호흡기 증후군 코로나 바이러스로 인한 질병 2, 급성 기관지염, 급성 바이러스 성 인두염, 필수 고혈압, 허혈성 심장병, 빈혈증, 치은염 있습니다. 성별은 남성, 비흡연자 입니다.  Simvastatin(을/를) 56회 20 mg씩 구강 정제 복용했습니다. 알러지는 없습니다. 수술 이력은 Gingivae의 검사, 가정 폭력을위한 선별, 건강 및 사회 복지 요구 평가, 경피 관상 동맥 중재, 관상 동맥의 혈관 조영술, 구강 건강 교육, 물질 사용의 평가, 복합 치과 충전재의 적용 치아 골절 후 치아의 상아질에 적용, 불안의 평가, 심장학 서비스 참조, 알코올 사용 장애 식별 테스트 - 소비를 사용한 평가, 약물 남용을위한 선별, 약물 조정, 우울증 스크리닝, 치과 불소 처리, 치과 상담 및 보고서, 치과 용 엑스레이 비트, 치과 충전재를 사용하여 모든 교두의 커버리지로 치아의 복원, 치과 치료, 치과 치료를위한 환자 진료 의뢰, 치과기구를 사용하여 모든 치아에서 우위 플라크 및 미적분학 제거, 치과기구를 사용하여 모든 치아에서 하위 징징 기형 플라크 및 미적분학 제거, 치료를위한 상담, 포스트 마취 치료 관리, 호흡기 기능 측정, 환자 건강 설문지 9 항목 점수를 사용한 우울증 스크리닝 있습니다.\n",
            "예시 문서:\n",
            " 만 46세 96.6kg의 환자는 최고 혈압은 123, 최저 혈압은 76, 기저질환은 1 차 치과 충치, 심한 급성 호흡기 증후군 코로나 바이러스로 인한 질병 2, 급성 기관지염, 급성 바이러스 성 인두염, 필수 고혈압, 허혈성 심장병, 빈혈증, 치은염 있습니다. 성별은 남성, 비흡연자 입니다. 필수 고혈압를 이유로 lisinopril(을/를) 42회 10 mg씩 구강 정제 복용했습니다. 알러지는 없습니다. 수술 이력은 Gingivae의 검사, 가정 폭력을위한 선별, 건강 및 사회 복지 요구 평가, 경피 관상 동맥 중재, 관상 동맥의 혈관 조영술, 구강 건강 교육, 물질 사용의 평가, 복합 치과 충전재의 적용 치아 골절 후 치아의 상아질에 적용, 불안의 평가, 심장학 서비스 참조, 알코올 사용 장애 식별 테스트 - 소비를 사용한 평가, 약물 남용을위한 선별, 약물 조정, 우울증 스크리닝, 치과 불소 처리, 치과 상담 및 보고서, 치과 용 엑스레이 비트, 치과 충전재를 사용하여 모든 교두의 커버리지로 치아의 복원, 치과 치료, 치과 치료를위한 환자 진료 의뢰, 치과기구를 사용하여 모든 치아에서 우위 플라크 및 미적분학 제거, 치과기구를 사용하여 모든 치아에서 하위 징징 기형 플라크 및 미적분학 제거, 치료를위한 상담, 포스트 마취 치료 관리, 호흡기 기능 측정, 환자 건강 설문지 9 항목 점수를 사용한 우울증 스크리닝 있습니다.\n",
            "예시 문서:\n",
            " 만 46세 96.6kg의 환자는 최고 혈압은 123, 최저 혈압은 76, 기저질환은 1 차 치과 충치, 심한 급성 호흡기 증후군 코로나 바이러스로 인한 질병 2, 급성 기관지염, 급성 바이러스 성 인두염, 필수 고혈압, 허혈성 심장병, 빈혈증, 치은염 있습니다. 성별은 남성, 비흡연자 입니다. 치은염, 치과 치료를위한 환자 진료 의뢰를 이유로 sodium fluoride(을/를) 4회 0.0272 mg/mg씩 구강 겔 복용했습니다. 알러지는 없습니다. 수술 이력은 Gingivae의 검사, 가정 폭력을위한 선별, 건강 및 사회 복지 요구 평가, 경피 관상 동맥 중재, 관상 동맥의 혈관 조영술, 구강 건강 교육, 물질 사용의 평가, 복합 치과 충전재의 적용 치아 골절 후 치아의 상아질에 적용, 불안의 평가, 심장학 서비스 참조, 알코올 사용 장애 식별 테스트 - 소비를 사용한 평가, 약물 남용을위한 선별, 약물 조정, 우울증 스크리닝, 치과 불소 처리, 치과 상담 및 보고서, 치과 용 엑스레이 비트, 치과 충전재를 사용하여 모든 교두의 커버리지로 치아의 복원, 치과 치료, 치과 치료를위한 환자 진료 의뢰, 치과기구를 사용하여 모든 치아에서 우위 플라크 및 미적분학 제거, 치과기구를 사용하여 모든 치아에서 하위 징징 기형 플라크 및 미적분학 제거, 치료를위한 상담, 포스트 마취 치료 관리, 호흡기 기능 측정, 환자 건강 설문지 9 항목 점수를 사용한 우울증 스크리닝 있습니다.\n",
            "예시 문서:\n",
            " 만 17세 39.4kg의 환자는 최고 혈압은 101, 최저 혈압은 72, 기저질환은 1 차 치과 충치, 중이염, 급성 바이러스 성 인두염, 치은 질병, 바이러스 성 부비동염, 치은염 있습니다. 성별은 남성, 비흡연자 입니다. 바이러스 성 부비동염를 이유로 Amoxicillin, Clavulanate(을/를) 1회 250 mg, 125 mg씩 구강 정제 복용했습니다. 알러지는 없습니다. 수술 이력은 Gingivae의 검사, 건강 위험 교육, 구강 건강 교육, 목구멍 문화, 물질 사용의 평가, 복합 치과 충전재의 적용 치아 골절 후 치아의 상아질에 적용, 불안의 평가, 약물 조정, 예상 지침, 우울증 스크리닝, 자동차를 사용한 평가 혼자 휴식을 취하십시오. 친구 잊어, 치과 불소 처리, 치과 상담 및 보고서, 치과 수술 절차, 치과 용 엑스레이 비트, 치과 절차를위한 수술 후 치료, 치과 치료, 치과 치료를위한 환자 진료 의뢰, 치과기구를 사용하여 모든 치아에서 우위 플라크 및 미적분학 제거, 치과기구를 사용하여 모든 치아에서 하위 징징 기형 플라크 및 미적분학 제거, 치은 절제술 또는 치은 치지 성형술, 탈감작 의료의 치과 적용, 환자 건강 설문지 9 항목 점수를 사용한 우울증 스크리닝 있습니다.\n",
            "예시 문서:\n",
            " 만 17세 39.4kg의 환자는 최고 혈압은 101, 최저 혈압은 72, 기저질환은 1 차 치과 충치, 중이염, 급성 바이러스 성 인두염, 치은 질병, 바이러스 성 부비동염, 치은염 있습니다. 성별은 남성, 비흡연자 입니다.  Amoxicillin(을/를) 1회 500 mg씩 구강 정제 복용했습니다. 알러지는 없습니다. 수술 이력은 Gingivae의 검사, 건강 위험 교육, 구강 건강 교육, 목구멍 문화, 물질 사용의 평가, 복합 치과 충전재의 적용 치아 골절 후 치아의 상아질에 적용, 불안의 평가, 약물 조정, 예상 지침, 우울증 스크리닝, 자동차를 사용한 평가 혼자 휴식을 취하십시오. 친구 잊어, 치과 불소 처리, 치과 상담 및 보고서, 치과 수술 절차, 치과 용 엑스레이 비트, 치과 절차를위한 수술 후 치료, 치과 치료, 치과 치료를위한 환자 진료 의뢰, 치과기구를 사용하여 모든 치아에서 우위 플라크 및 미적분학 제거, 치과기구를 사용하여 모든 치아에서 하위 징징 기형 플라크 및 미적분학 제거, 치은 절제술 또는 치은 치지 성형술, 탈감작 의료의 치과 적용, 환자 건강 설문지 9 항목 점수를 사용한 우울증 스크리닝 있습니다.\n",
            "예시 문서:\n",
            " 만 17세 39.4kg의 환자는 최고 혈압은 101, 최저 혈압은 72, 기저질환은 1 차 치과 충치, 중이염, 급성 바이러스 성 인두염, 치은 질병, 바이러스 성 부비동염, 치은염 있습니다. 성별은 남성, 비흡연자 입니다.  Ibuprofen(을/를) 1회 100 mg씩 구강 정제 복용했습니다. 알러지는 없습니다. 수술 이력은 Gingivae의 검사, 건강 위험 교육, 구강 건강 교육, 목구멍 문화, 물질 사용의 평가, 복합 치과 충전재의 적용 치아 골절 후 치아의 상아질에 적용, 불안의 평가, 약물 조정, 예상 지침, 우울증 스크리닝, 자동차를 사용한 평가 혼자 휴식을 취하십시오. 친구 잊어, 치과 불소 처리, 치과 상담 및 보고서, 치과 수술 절차, 치과 용 엑스레이 비트, 치과 절차를위한 수술 후 치료, 치과 치료, 치과 치료를위한 환자 진료 의뢰, 치과기구를 사용하여 모든 치아에서 우위 플라크 및 미적분학 제거, 치과기구를 사용하여 모든 치아에서 하위 징징 기형 플라크 및 미적분학 제거, 치은 절제술 또는 치은 치지 성형술, 탈감작 의료의 치과 적용, 환자 건강 설문지 9 항목 점수를 사용한 우울증 스크리닝 있습니다.\n",
            "예시 문서:\n",
            " 만 17세 39.4kg의 환자는 최고 혈압은 101, 최저 혈압은 72, 기저질환은 1 차 치과 충치, 중이염, 급성 바이러스 성 인두염, 치은 질병, 바이러스 성 부비동염, 치은염 있습니다. 성별은 남성, 비흡연자 입니다. 치은염를 이유로 sodium fluoride(을/를) 3회 0.0272 mg/mg씩 구강 겔 복용했습니다. 알러지는 없습니다. 수술 이력은 Gingivae의 검사, 건강 위험 교육, 구강 건강 교육, 목구멍 문화, 물질 사용의 평가, 복합 치과 충전재의 적용 치아 골절 후 치아의 상아질에 적용, 불안의 평가, 약물 조정, 예상 지침, 우울증 스크리닝, 자동차를 사용한 평가 혼자 휴식을 취하십시오. 친구 잊어, 치과 불소 처리, 치과 상담 및 보고서, 치과 수술 절차, 치과 용 엑스레이 비트, 치과 절차를위한 수술 후 치료, 치과 치료, 치과 치료를위한 환자 진료 의뢰, 치과기구를 사용하여 모든 치아에서 우위 플라크 및 미적분학 제거, 치과기구를 사용하여 모든 치아에서 하위 징징 기형 플라크 및 미적분학 제거, 치은 절제술 또는 치은 치지 성형술, 탈감작 의료의 치과 적용, 환자 건강 설문지 9 항목 점수를 사용한 우울증 스크리닝 있습니다.\n",
            "예시 문서:\n",
            " 만 67세 97.8kg의 환자는 최고 혈압은 103, 최저 혈압은 80, 기저질환은 1 차 치과 충치, 급성 기관지염, 필수 고혈압, 허혈성 심장병, 바이러스 성 부비동염, 치은염 있습니다. 성별은 남성, 비흡연자 입니다.  metoprolol succinate(을/를) 208회 24 hr / 100 mg씩 확장 릴리스 구강 정제 복용했습니다. 알러지는 알레르기 성 배치, 곰팡이 있습니다. 수술 이력은 Gingivae의 검사, Morse Fall Scale을 사용한 평가, 가정 폭력을위한 선별, 간호/보충 감시, 개별화 된 치료 계획의 개발, 건강 및 사회 복지 요구 평가, 구강 건강 교육, 대장 내시경 검사, 물리 치료 절차, 물질 사용의 평가, 병원 퇴원, 복합 치과 충전재의 적용 치아 골절 후 치아의 상아질에 적용, 불안의 평가, 알코올 사용 장애 식별 테스트 - 소비를 사용한 평가, 약물 남용을위한 선별, 약물 조정, 역사와 신체 검사, 우울증 스크리닝, 작업 요법, 전문 / 보조 서비스 관리, 전하 전 평가, 초기 환자 평가, 치과 불소 처리, 치과 상담 및 보고서, 치과 용 엑스레이 비트, 치과 치료, 치과 치료를위한 환자 진료 의뢰, 치과기구를 사용하여 모든 치아에서 우위 플라크 및 미적분학 제거, 치과기구를 사용하여 모든 치아에서 하위 징징 기형 플라크 및 미적분학 제거 있습니다.\n",
            "예시 문서:\n",
            " 만 67세 97.8kg의 환자는 최고 혈압은 103, 최저 혈압은 80, 기저질환은 1 차 치과 충치, 급성 기관지염, 필수 고혈압, 허혈성 심장병, 바이러스 성 부비동염, 치은염 있습니다. 성별은 남성, 비흡연자 입니다. 급성 기관지염를 이유로 Acetaminophen, Dextromethorphan Hydrobromide, doxylamine succinate  Oral(을/를) 1회 21.7 mg/ml, 1 mg/ml, 0.417 mg/ml씩 해결책 복용했습니다. 알러지는 알레르기 성 배치, 곰팡이 있습니다. 수술 이력은 Gingivae의 검사, Morse Fall Scale을 사용한 평가, 가정 폭력을위한 선별, 간호/보충 감시, 개별화 된 치료 계획의 개발, 건강 및 사회 복지 요구 평가, 구강 건강 교육, 대장 내시경 검사, 물리 치료 절차, 물질 사용의 평가, 병원 퇴원, 복합 치과 충전재의 적용 치아 골절 후 치아의 상아질에 적용, 불안의 평가, 알코올 사용 장애 식별 테스트 - 소비를 사용한 평가, 약물 남용을위한 선별, 약물 조정, 역사와 신체 검사, 우울증 스크리닝, 작업 요법, 전문 / 보조 서비스 관리, 전하 전 평가, 초기 환자 평가, 치과 불소 처리, 치과 상담 및 보고서, 치과 용 엑스레이 비트, 치과 치료, 치과 치료를위한 환자 진료 의뢰, 치과기구를 사용하여 모든 치아에서 우위 플라크 및 미적분학 제거, 치과기구를 사용하여 모든 치아에서 하위 징징 기형 플라크 및 미적분학 제거 있습니다.\n",
            "예시 문서:\n",
            " 만 67세 97.8kg의 환자는 최고 혈압은 103, 최저 혈압은 80, 기저질환은 1 차 치과 충치, 급성 기관지염, 필수 고혈압, 허혈성 심장병, 바이러스 성 부비동염, 치은염 있습니다. 성별은 남성, 비흡연자 입니다. 바이러스 성 부비동염를 이유로 Amoxicillin, Clavulanate(을/를) 1회 250 mg, 125 mg씩 구강 정제 복용했습니다. 알러지는 알레르기 성 배치, 곰팡이 있습니다. 수술 이력은 Gingivae의 검사, Morse Fall Scale을 사용한 평가, 가정 폭력을위한 선별, 간호/보충 감시, 개별화 된 치료 계획의 개발, 건강 및 사회 복지 요구 평가, 구강 건강 교육, 대장 내시경 검사, 물리 치료 절차, 물질 사용의 평가, 병원 퇴원, 복합 치과 충전재의 적용 치아 골절 후 치아의 상아질에 적용, 불안의 평가, 알코올 사용 장애 식별 테스트 - 소비를 사용한 평가, 약물 남용을위한 선별, 약물 조정, 역사와 신체 검사, 우울증 스크리닝, 작업 요법, 전문 / 보조 서비스 관리, 전하 전 평가, 초기 환자 평가, 치과 불소 처리, 치과 상담 및 보고서, 치과 용 엑스레이 비트, 치과 치료, 치과 치료를위한 환자 진료 의뢰, 치과기구를 사용하여 모든 치아에서 우위 플라크 및 미적분학 제거, 치과기구를 사용하여 모든 치아에서 하위 징징 기형 플라크 및 미적분학 제거 있습니다.\n",
            "예시 문서:\n",
            " 만 67세 97.8kg의 환자는 최고 혈압은 103, 최저 혈압은 80, 기저질환은 1 차 치과 충치, 급성 기관지염, 필수 고혈압, 허혈성 심장병, 바이러스 성 부비동염, 치은염 있습니다. 성별은 남성, 비흡연자 입니다.  Clopidogrel(을/를) 208회 75 mg씩 구강 정제 복용했습니다. 알러지는 알레르기 성 배치, 곰팡이 있습니다. 수술 이력은 Gingivae의 검사, Morse Fall Scale을 사용한 평가, 가정 폭력을위한 선별, 간호/보충 감시, 개별화 된 치료 계획의 개발, 건강 및 사회 복지 요구 평가, 구강 건강 교육, 대장 내시경 검사, 물리 치료 절차, 물질 사용의 평가, 병원 퇴원, 복합 치과 충전재의 적용 치아 골절 후 치아의 상아질에 적용, 불안의 평가, 알코올 사용 장애 식별 테스트 - 소비를 사용한 평가, 약물 남용을위한 선별, 약물 조정, 역사와 신체 검사, 우울증 스크리닝, 작업 요법, 전문 / 보조 서비스 관리, 전하 전 평가, 초기 환자 평가, 치과 불소 처리, 치과 상담 및 보고서, 치과 용 엑스레이 비트, 치과 치료, 치과 치료를위한 환자 진료 의뢰, 치과기구를 사용하여 모든 치아에서 우위 플라크 및 미적분학 제거, 치과기구를 사용하여 모든 치아에서 하위 징징 기형 플라크 및 미적분학 제거 있습니다.\n",
            "예시 문서:\n",
            " 만 67세 97.8kg의 환자는 최고 혈압은 103, 최저 혈압은 80, 기저질환은 1 차 치과 충치, 급성 기관지염, 필수 고혈압, 허혈성 심장병, 바이러스 성 부비동염, 치은염 있습니다. 성별은 남성, 비흡연자 입니다. 피부염에 연락하십시오를 이유로 Hydrocortisone(을/를) 461회 10 mg/ml씩 국소 크림 복용했습니다. 알러지는 알레르기 성 배치, 곰팡이 있습니다. 수술 이력은 Gingivae의 검사, Morse Fall Scale을 사용한 평가, 가정 폭력을위한 선별, 간호/보충 감시, 개별화 된 치료 계획의 개발, 건강 및 사회 복지 요구 평가, 구강 건강 교육, 대장 내시경 검사, 물리 치료 절차, 물질 사용의 평가, 병원 퇴원, 복합 치과 충전재의 적용 치아 골절 후 치아의 상아질에 적용, 불안의 평가, 알코올 사용 장애 식별 테스트 - 소비를 사용한 평가, 약물 남용을위한 선별, 약물 조정, 역사와 신체 검사, 우울증 스크리닝, 작업 요법, 전문 / 보조 서비스 관리, 전하 전 평가, 초기 환자 평가, 치과 불소 처리, 치과 상담 및 보고서, 치과 용 엑스레이 비트, 치과 치료, 치과 치료를위한 환자 진료 의뢰, 치과기구를 사용하여 모든 치아에서 우위 플라크 및 미적분학 제거, 치과기구를 사용하여 모든 치아에서 하위 징징 기형 플라크 및 미적분학 제거 있습니다.\n",
            "예시 문서:\n",
            " 만 67세 97.8kg의 환자는 최고 혈압은 103, 최저 혈압은 80, 기저질환은 1 차 치과 충치, 급성 기관지염, 필수 고혈압, 허혈성 심장병, 바이러스 성 부비동염, 치은염 있습니다. 성별은 남성, 비흡연자 입니다.  NDA020800  Epinephrine(을/를) 461회 0.3 ml / 1 mg/ml씩 자동 주사기 복용했습니다. 알러지는 알레르기 성 배치, 곰팡이 있습니다. 수술 이력은 Gingivae의 검사, Morse Fall Scale을 사용한 평가, 가정 폭력을위한 선별, 간호/보충 감시, 개별화 된 치료 계획의 개발, 건강 및 사회 복지 요구 평가, 구강 건강 교육, 대장 내시경 검사, 물리 치료 절차, 물질 사용의 평가, 병원 퇴원, 복합 치과 충전재의 적용 치아 골절 후 치아의 상아질에 적용, 불안의 평가, 알코올 사용 장애 식별 테스트 - 소비를 사용한 평가, 약물 남용을위한 선별, 약물 조정, 역사와 신체 검사, 우울증 스크리닝, 작업 요법, 전문 / 보조 서비스 관리, 전하 전 평가, 초기 환자 평가, 치과 불소 처리, 치과 상담 및 보고서, 치과 용 엑스레이 비트, 치과 치료, 치과 치료를위한 환자 진료 의뢰, 치과기구를 사용하여 모든 치아에서 우위 플라크 및 미적분학 제거, 치과기구를 사용하여 모든 치아에서 하위 징징 기형 플라크 및 미적분학 제거 있습니다.\n",
            "예시 문서:\n",
            " 만 67세 97.8kg의 환자는 최고 혈압은 103, 최저 혈압은 80, 기저질환은 1 차 치과 충치, 급성 기관지염, 필수 고혈압, 허혈성 심장병, 바이러스 성 부비동염, 치은염 있습니다. 성별은 남성, 비흡연자 입니다.  Nitroglycerin(을/를) 208회 0.4 mg/actuat씩 점막 스프레이 복용했습니다. 알러지는 알레르기 성 배치, 곰팡이 있습니다. 수술 이력은 Gingivae의 검사, Morse Fall Scale을 사용한 평가, 가정 폭력을위한 선별, 간호/보충 감시, 개별화 된 치료 계획의 개발, 건강 및 사회 복지 요구 평가, 구강 건강 교육, 대장 내시경 검사, 물리 치료 절차, 물질 사용의 평가, 병원 퇴원, 복합 치과 충전재의 적용 치아 골절 후 치아의 상아질에 적용, 불안의 평가, 알코올 사용 장애 식별 테스트 - 소비를 사용한 평가, 약물 남용을위한 선별, 약물 조정, 역사와 신체 검사, 우울증 스크리닝, 작업 요법, 전문 / 보조 서비스 관리, 전하 전 평가, 초기 환자 평가, 치과 불소 처리, 치과 상담 및 보고서, 치과 용 엑스레이 비트, 치과 치료, 치과 치료를위한 환자 진료 의뢰, 치과기구를 사용하여 모든 치아에서 우위 플라크 및 미적분학 제거, 치과기구를 사용하여 모든 치아에서 하위 징징 기형 플라크 및 미적분학 제거 있습니다.\n",
            "예시 문서:\n",
            " 만 67세 97.8kg의 환자는 최고 혈압은 103, 최저 혈압은 80, 기저질환은 1 차 치과 충치, 급성 기관지염, 필수 고혈압, 허혈성 심장병, 바이러스 성 부비동염, 치은염 있습니다. 성별은 남성, 비흡연자 입니다.  Simvastatin(을/를) 208회 20 mg씩 구강 정제 복용했습니다. 알러지는 알레르기 성 배치, 곰팡이 있습니다. 수술 이력은 Gingivae의 검사, Morse Fall Scale을 사용한 평가, 가정 폭력을위한 선별, 간호/보충 감시, 개별화 된 치료 계획의 개발, 건강 및 사회 복지 요구 평가, 구강 건강 교육, 대장 내시경 검사, 물리 치료 절차, 물질 사용의 평가, 병원 퇴원, 복합 치과 충전재의 적용 치아 골절 후 치아의 상아질에 적용, 불안의 평가, 알코올 사용 장애 식별 테스트 - 소비를 사용한 평가, 약물 남용을위한 선별, 약물 조정, 역사와 신체 검사, 우울증 스크리닝, 작업 요법, 전문 / 보조 서비스 관리, 전하 전 평가, 초기 환자 평가, 치과 불소 처리, 치과 상담 및 보고서, 치과 용 엑스레이 비트, 치과 치료, 치과 치료를위한 환자 진료 의뢰, 치과기구를 사용하여 모든 치아에서 우위 플라크 및 미적분학 제거, 치과기구를 사용하여 모든 치아에서 하위 징징 기형 플라크 및 미적분학 제거 있습니다.\n",
            "예시 문서:\n",
            " 만 67세 97.8kg의 환자는 최고 혈압은 103, 최저 혈압은 80, 기저질환은 1 차 치과 충치, 급성 기관지염, 필수 고혈압, 허혈성 심장병, 바이러스 성 부비동염, 치은염 있습니다. 성별은 남성, 비흡연자 입니다.  Terfenadine(을/를) 461회 60 mg씩 구강 정제 복용했습니다. 알러지는 알레르기 성 배치, 곰팡이 있습니다. 수술 이력은 Gingivae의 검사, Morse Fall Scale을 사용한 평가, 가정 폭력을위한 선별, 간호/보충 감시, 개별화 된 치료 계획의 개발, 건강 및 사회 복지 요구 평가, 구강 건강 교육, 대장 내시경 검사, 물리 치료 절차, 물질 사용의 평가, 병원 퇴원, 복합 치과 충전재의 적용 치아 골절 후 치아의 상아질에 적용, 불안의 평가, 알코올 사용 장애 식별 테스트 - 소비를 사용한 평가, 약물 남용을위한 선별, 약물 조정, 역사와 신체 검사, 우울증 스크리닝, 작업 요법, 전문 / 보조 서비스 관리, 전하 전 평가, 초기 환자 평가, 치과 불소 처리, 치과 상담 및 보고서, 치과 용 엑스레이 비트, 치과 치료, 치과 치료를위한 환자 진료 의뢰, 치과기구를 사용하여 모든 치아에서 우위 플라크 및 미적분학 제거, 치과기구를 사용하여 모든 치아에서 하위 징징 기형 플라크 및 미적분학 제거 있습니다.\n",
            "예시 문서:\n",
            " 만 67세 97.8kg의 환자는 최고 혈압은 103, 최저 혈압은 80, 기저질환은 1 차 치과 충치, 급성 기관지염, 필수 고혈압, 허혈성 심장병, 바이러스 성 부비동염, 치은염 있습니다. 성별은 남성, 비흡연자 입니다. 필수 고혈압를 이유로 amLODIPine(을/를) 40회 2.5 mg씩 구강 정제 복용했습니다. 알러지는 알레르기 성 배치, 곰팡이 있습니다. 수술 이력은 Gingivae의 검사, Morse Fall Scale을 사용한 평가, 가정 폭력을위한 선별, 간호/보충 감시, 개별화 된 치료 계획의 개발, 건강 및 사회 복지 요구 평가, 구강 건강 교육, 대장 내시경 검사, 물리 치료 절차, 물질 사용의 평가, 병원 퇴원, 복합 치과 충전재의 적용 치아 골절 후 치아의 상아질에 적용, 불안의 평가, 알코올 사용 장애 식별 테스트 - 소비를 사용한 평가, 약물 남용을위한 선별, 약물 조정, 역사와 신체 검사, 우울증 스크리닝, 작업 요법, 전문 / 보조 서비스 관리, 전하 전 평가, 초기 환자 평가, 치과 불소 처리, 치과 상담 및 보고서, 치과 용 엑스레이 비트, 치과 치료, 치과 치료를위한 환자 진료 의뢰, 치과기구를 사용하여 모든 치아에서 우위 플라크 및 미적분학 제거, 치과기구를 사용하여 모든 치아에서 하위 징징 기형 플라크 및 미적분학 제거 있습니다.\n",
            "예시 문서:\n",
            " 만 67세 97.8kg의 환자는 최고 혈압은 103, 최저 혈압은 80, 기저질환은 1 차 치과 충치, 급성 기관지염, 필수 고혈압, 허혈성 심장병, 바이러스 성 부비동염, 치은염 있습니다. 성별은 남성, 비흡연자 입니다. 필수 고혈압를 이유로 lisinopril(을/를) 40회 10 mg씩 구강 정제 복용했습니다. 알러지는 알레르기 성 배치, 곰팡이 있습니다. 수술 이력은 Gingivae의 검사, Morse Fall Scale을 사용한 평가, 가정 폭력을위한 선별, 간호/보충 감시, 개별화 된 치료 계획의 개발, 건강 및 사회 복지 요구 평가, 구강 건강 교육, 대장 내시경 검사, 물리 치료 절차, 물질 사용의 평가, 병원 퇴원, 복합 치과 충전재의 적용 치아 골절 후 치아의 상아질에 적용, 불안의 평가, 알코올 사용 장애 식별 테스트 - 소비를 사용한 평가, 약물 남용을위한 선별, 약물 조정, 역사와 신체 검사, 우울증 스크리닝, 작업 요법, 전문 / 보조 서비스 관리, 전하 전 평가, 초기 환자 평가, 치과 불소 처리, 치과 상담 및 보고서, 치과 용 엑스레이 비트, 치과 치료, 치과 치료를위한 환자 진료 의뢰, 치과기구를 사용하여 모든 치아에서 우위 플라크 및 미적분학 제거, 치과기구를 사용하여 모든 치아에서 하위 징징 기형 플라크 및 미적분학 제거 있습니다.\n",
            "예시 문서:\n",
            " 만 67세 97.8kg의 환자는 최고 혈압은 103, 최저 혈압은 80, 기저질환은 1 차 치과 충치, 급성 기관지염, 필수 고혈압, 허혈성 심장병, 바이러스 성 부비동염, 치은염 있습니다. 성별은 남성, 비흡연자 입니다. 치은염, 치과 치료를위한 환자 진료 의뢰를 이유로 sodium fluoride(을/를) 2회 0.0272 mg/mg씩 구강 겔 복용했습니다. 알러지는 알레르기 성 배치, 곰팡이 있습니다. 수술 이력은 Gingivae의 검사, Morse Fall Scale을 사용한 평가, 가정 폭력을위한 선별, 간호/보충 감시, 개별화 된 치료 계획의 개발, 건강 및 사회 복지 요구 평가, 구강 건강 교육, 대장 내시경 검사, 물리 치료 절차, 물질 사용의 평가, 병원 퇴원, 복합 치과 충전재의 적용 치아 골절 후 치아의 상아질에 적용, 불안의 평가, 알코올 사용 장애 식별 테스트 - 소비를 사용한 평가, 약물 남용을위한 선별, 약물 조정, 역사와 신체 검사, 우울증 스크리닝, 작업 요법, 전문 / 보조 서비스 관리, 전하 전 평가, 초기 환자 평가, 치과 불소 처리, 치과 상담 및 보고서, 치과 용 엑스레이 비트, 치과 치료, 치과 치료를위한 환자 진료 의뢰, 치과기구를 사용하여 모든 치아에서 우위 플라크 및 미적분학 제거, 치과기구를 사용하여 모든 치아에서 하위 징징 기형 플라크 및 미적분학 제거 있습니다.\n",
            "예시 문서:\n",
            " 만 32세 74.7kg의 환자는 최고 혈압은 136, 최저 혈압은 87, 기저질환은 급성 바이러스 성 인두염, 급성 감염 방광염, 피부 표피 화상 있습니다. 성별은 여성, 비흡연자 입니다.  Ethinyl Estradiol, norelgestromin(을/를) 12회 168 hr / 0.00146 mg/hr, 0.00625 mg/hr씩 경피 시스템 복용했습니다. 알러지는 없습니다. 수술 이력은 B 형 간염 표면 항원 측정, C 형 간염 항체 확인 검사, 가정 폭력을위한 선별, 간호/보충 감시, 개별화 된 치료 계획의 개발, 건강 및 사회 복지 요구 평가, 결핵 타인 검사에 대한 피부 검사, 당뇨병에 대한 소변 검사 검사, 매독 감염성 역가 테스트, 목구멍 문화, 물리 치료 절차, 물질 사용의 평가, 병원 퇴원, 세포 병리학 절차 도말 생식기 소스의 준비, 소변 검사 단백질 질적, 소변 문화, 소변 표본 수집, 수두 대기 바이러스 항체의 측정, 신체 검사 절차, 알코올 사용 장애 식별 테스트 - 소비를 사용한 평가, 알파 - 페트로 단백질 검사 - 산전, 약물 남용을위한 선별, 약물 조정, 언어 및 언어 치료 체제, 역사 및 신체 검사 제한, 역사 복용, 역사와 신체 검사, 우울증 스크리닝, 인간 면역 결핍 바이러스 항원 검사, 임신 종료 관리, 임신 종료 유도, 임신 종료에 대한 상담, 임신에 대한 토론, 임질 감염 역가 검사, 자궁 기본 높이 평가, 작업 요법, 적혈구로 자동화 된 헤모 그램 백혈구 헤모글로빈 헤마토크릿 지수 혈소판 수 및 수동 백혈구 차이, 전문 / 보조 서비스 관리, 전하 전 평가, 징후 및 증상에 대한 토론, 초기 환자 평가, 클라미디아 항원 검사, 태아 생존력에 대한 초음파 검사, 태아 심장의 청진, 태아 해부학 연구, 평가 절차, 표준 임신 검사, 풍진 스크리닝 테스트, 항생제 요법, 현미경 및 배양에 대한 반사와 소변 검사, 혈액형 타이핑, 형광을 사용하여 사전 양수 유체 시편에서 염색체 이수성의 검출 현장 하이브리드 화 스크리닝 기술 있습니다.\n",
            "예시 문서:\n",
            " 만 32세 74.7kg의 환자는 최고 혈압은 136, 최저 혈압은 87, 기저질환은 급성 바이러스 성 인두염, 급성 감염 방광염, 피부 표피 화상 있습니다. 성별은 여성, 비흡연자 입니다.  Camila(을/를) 12회 28 day씩 팩 복용했습니다. 알러지는 없습니다. 수술 이력은 B 형 간염 표면 항원 측정, C 형 간염 항체 확인 검사, 가정 폭력을위한 선별, 간호/보충 감시, 개별화 된 치료 계획의 개발, 건강 및 사회 복지 요구 평가, 결핵 타인 검사에 대한 피부 검사, 당뇨병에 대한 소변 검사 검사, 매독 감염성 역가 테스트, 목구멍 문화, 물리 치료 절차, 물질 사용의 평가, 병원 퇴원, 세포 병리학 절차 도말 생식기 소스의 준비, 소변 검사 단백질 질적, 소변 문화, 소변 표본 수집, 수두 대기 바이러스 항체의 측정, 신체 검사 절차, 알코올 사용 장애 식별 테스트 - 소비를 사용한 평가, 알파 - 페트로 단백질 검사 - 산전, 약물 남용을위한 선별, 약물 조정, 언어 및 언어 치료 체제, 역사 및 신체 검사 제한, 역사 복용, 역사와 신체 검사, 우울증 스크리닝, 인간 면역 결핍 바이러스 항원 검사, 임신 종료 관리, 임신 종료 유도, 임신 종료에 대한 상담, 임신에 대한 토론, 임질 감염 역가 검사, 자궁 기본 높이 평가, 작업 요법, 적혈구로 자동화 된 헤모 그램 백혈구 헤모글로빈 헤마토크릿 지수 혈소판 수 및 수동 백혈구 차이, 전문 / 보조 서비스 관리, 전하 전 평가, 징후 및 증상에 대한 토론, 초기 환자 평가, 클라미디아 항원 검사, 태아 생존력에 대한 초음파 검사, 태아 심장의 청진, 태아 해부학 연구, 평가 절차, 표준 임신 검사, 풍진 스크리닝 테스트, 항생제 요법, 현미경 및 배양에 대한 반사와 소변 검사, 혈액형 타이핑, 형광을 사용하여 사전 양수 유체 시편에서 염색체 이수성의 검출 현장 하이브리드 화 스크리닝 기술 있습니다.\n",
            "예시 문서:\n",
            " 만 32세 74.7kg의 환자는 최고 혈압은 136, 최저 혈압은 87, 기저질환은 급성 바이러스 성 인두염, 급성 감염 방광염, 피부 표피 화상 있습니다. 성별은 여성, 비흡연자 입니다.  Jolivette(을/를) 24회 28 day씩 팩 복용했습니다. 알러지는 없습니다. 수술 이력은 B 형 간염 표면 항원 측정, C 형 간염 항체 확인 검사, 가정 폭력을위한 선별, 간호/보충 감시, 개별화 된 치료 계획의 개발, 건강 및 사회 복지 요구 평가, 결핵 타인 검사에 대한 피부 검사, 당뇨병에 대한 소변 검사 검사, 매독 감염성 역가 테스트, 목구멍 문화, 물리 치료 절차, 물질 사용의 평가, 병원 퇴원, 세포 병리학 절차 도말 생식기 소스의 준비, 소변 검사 단백질 질적, 소변 문화, 소변 표본 수집, 수두 대기 바이러스 항체의 측정, 신체 검사 절차, 알코올 사용 장애 식별 테스트 - 소비를 사용한 평가, 알파 - 페트로 단백질 검사 - 산전, 약물 남용을위한 선별, 약물 조정, 언어 및 언어 치료 체제, 역사 및 신체 검사 제한, 역사 복용, 역사와 신체 검사, 우울증 스크리닝, 인간 면역 결핍 바이러스 항원 검사, 임신 종료 관리, 임신 종료 유도, 임신 종료에 대한 상담, 임신에 대한 토론, 임질 감염 역가 검사, 자궁 기본 높이 평가, 작업 요법, 적혈구로 자동화 된 헤모 그램 백혈구 헤모글로빈 헤마토크릿 지수 혈소판 수 및 수동 백혈구 차이, 전문 / 보조 서비스 관리, 전하 전 평가, 징후 및 증상에 대한 토론, 초기 환자 평가, 클라미디아 항원 검사, 태아 생존력에 대한 초음파 검사, 태아 심장의 청진, 태아 해부학 연구, 평가 절차, 표준 임신 검사, 풍진 스크리닝 테스트, 항생제 요법, 현미경 및 배양에 대한 반사와 소변 검사, 혈액형 타이핑, 형광을 사용하여 사전 양수 유체 시편에서 염색체 이수성의 검출 현장 하이브리드 화 스크리닝 기술 있습니다.\n",
            "예시 문서:\n",
            " 만 32세 74.7kg의 환자는 최고 혈압은 136, 최저 혈압은 87, 기저질환은 급성 바이러스 성 인두염, 급성 감염 방광염, 피부 표피 화상 있습니다. 성별은 여성, 비흡연자 입니다.  Naproxen sodium(을/를) 2회 220 mg씩 구강 정제 복용했습니다. 알러지는 없습니다. 수술 이력은 B 형 간염 표면 항원 측정, C 형 간염 항체 확인 검사, 가정 폭력을위한 선별, 간호/보충 감시, 개별화 된 치료 계획의 개발, 건강 및 사회 복지 요구 평가, 결핵 타인 검사에 대한 피부 검사, 당뇨병에 대한 소변 검사 검사, 매독 감염성 역가 테스트, 목구멍 문화, 물리 치료 절차, 물질 사용의 평가, 병원 퇴원, 세포 병리학 절차 도말 생식기 소스의 준비, 소변 검사 단백질 질적, 소변 문화, 소변 표본 수집, 수두 대기 바이러스 항체의 측정, 신체 검사 절차, 알코올 사용 장애 식별 테스트 - 소비를 사용한 평가, 알파 - 페트로 단백질 검사 - 산전, 약물 남용을위한 선별, 약물 조정, 언어 및 언어 치료 체제, 역사 및 신체 검사 제한, 역사 복용, 역사와 신체 검사, 우울증 스크리닝, 인간 면역 결핍 바이러스 항원 검사, 임신 종료 관리, 임신 종료 유도, 임신 종료에 대한 상담, 임신에 대한 토론, 임질 감염 역가 검사, 자궁 기본 높이 평가, 작업 요법, 적혈구로 자동화 된 헤모 그램 백혈구 헤모글로빈 헤마토크릿 지수 혈소판 수 및 수동 백혈구 차이, 전문 / 보조 서비스 관리, 전하 전 평가, 징후 및 증상에 대한 토론, 초기 환자 평가, 클라미디아 항원 검사, 태아 생존력에 대한 초음파 검사, 태아 심장의 청진, 태아 해부학 연구, 평가 절차, 표준 임신 검사, 풍진 스크리닝 테스트, 항생제 요법, 현미경 및 배양에 대한 반사와 소변 검사, 혈액형 타이핑, 형광을 사용하여 사전 양수 유체 시편에서 염색체 이수성의 검출 현장 하이브리드 화 스크리닝 기술 있습니다.\n",
            "예시 문서:\n",
            " 만 32세 74.7kg의 환자는 최고 혈압은 136, 최저 혈압은 87, 기저질환은 급성 바이러스 성 인두염, 급성 감염 방광염, 피부 표피 화상 있습니다. 성별은 여성, 비흡연자 입니다. 급성 감염 방광염를 이유로 sulfamethoxazole, trimethoprim(을/를) 1회 800 mg, 160 mg씩 구강 정제 복용했습니다. 알러지는 없습니다. 수술 이력은 B 형 간염 표면 항원 측정, C 형 간염 항체 확인 검사, 가정 폭력을위한 선별, 간호/보충 감시, 개별화 된 치료 계획의 개발, 건강 및 사회 복지 요구 평가, 결핵 타인 검사에 대한 피부 검사, 당뇨병에 대한 소변 검사 검사, 매독 감염성 역가 테스트, 목구멍 문화, 물리 치료 절차, 물질 사용의 평가, 병원 퇴원, 세포 병리학 절차 도말 생식기 소스의 준비, 소변 검사 단백질 질적, 소변 문화, 소변 표본 수집, 수두 대기 바이러스 항체의 측정, 신체 검사 절차, 알코올 사용 장애 식별 테스트 - 소비를 사용한 평가, 알파 - 페트로 단백질 검사 - 산전, 약물 남용을위한 선별, 약물 조정, 언어 및 언어 치료 체제, 역사 및 신체 검사 제한, 역사 복용, 역사와 신체 검사, 우울증 스크리닝, 인간 면역 결핍 바이러스 항원 검사, 임신 종료 관리, 임신 종료 유도, 임신 종료에 대한 상담, 임신에 대한 토론, 임질 감염 역가 검사, 자궁 기본 높이 평가, 작업 요법, 적혈구로 자동화 된 헤모 그램 백혈구 헤모글로빈 헤마토크릿 지수 혈소판 수 및 수동 백혈구 차이, 전문 / 보조 서비스 관리, 전하 전 평가, 징후 및 증상에 대한 토론, 초기 환자 평가, 클라미디아 항원 검사, 태아 생존력에 대한 초음파 검사, 태아 심장의 청진, 태아 해부학 연구, 평가 절차, 표준 임신 검사, 풍진 스크리닝 테스트, 항생제 요법, 현미경 및 배양에 대한 반사와 소변 검사, 혈액형 타이핑, 형광을 사용하여 사전 양수 유체 시편에서 염색체 이수성의 검출 현장 하이브리드 화 스크리닝 기술 있습니다.\n",
            "예시 문서:\n",
            " 만 10세 13.3kg의 환자는 최고 혈압은 123, 최저 혈압은 84, 기저질환은 1 차 치과 충치, 급성 기관지염, 손목의 염좌, 치은 질병, 바이러스 성 부비동염, 치은염 있습니다. 성별은 남성, 비흡연자 입니다.  Acetaminophen(을/를) 1회 160 mg씩 씹을 수있는 태블릿 복용했습니다. 알러지는 없습니다. 수술 이력은 Gingivae의 검사, 구강 건강 교육, 복합 치과 충전재의 적용 치아 골절 후 치아의 상아질에 적용, 약물 조정, 치과 불소 처리, 치과 상담 및 보고서, 치과 수술 절차, 치과 용 엑스레이 비트, 치과 절차를위한 수술 후 치료, 치과 치료, 치과 치료를위한 환자 진료 의뢰, 치과기구를 사용하여 모든 치아에서 우위 플라크 및 미적분학 제거, 치과기구를 사용하여 모든 치아에서 하위 징징 기형 플라크 및 미적분학 제거, 치은 절제술 또는 치은 치지 성형술, 탈감작 의료의 치과 적용, 호흡기 기능 측정 있습니다.\n",
            "예시 문서:\n",
            " 만 10세 13.3kg의 환자는 최고 혈압은 123, 최저 혈압은 84, 기저질환은 1 차 치과 충치, 급성 기관지염, 손목의 염좌, 치은 질병, 바이러스 성 부비동염, 치은염 있습니다. 성별은 남성, 비흡연자 입니다. 급성 기관지염를 이유로 Acetaminophen(을/를) 1회 325 mg씩 구강 정제 복용했습니다. 알러지는 없습니다. 수술 이력은 Gingivae의 검사, 구강 건강 교육, 복합 치과 충전재의 적용 치아 골절 후 치아의 상아질에 적용, 약물 조정, 치과 불소 처리, 치과 상담 및 보고서, 치과 수술 절차, 치과 용 엑스레이 비트, 치과 절차를위한 수술 후 치료, 치과 치료, 치과 치료를위한 환자 진료 의뢰, 치과기구를 사용하여 모든 치아에서 우위 플라크 및 미적분학 제거, 치과기구를 사용하여 모든 치아에서 하위 징징 기형 플라크 및 미적분학 제거, 치은 절제술 또는 치은 치지 성형술, 탈감작 의료의 치과 적용, 호흡기 기능 측정 있습니다.\n",
            "예시 문서:\n",
            " 만 10세 13.3kg의 환자는 최고 혈압은 123, 최저 혈압은 84, 기저질환은 1 차 치과 충치, 급성 기관지염, 손목의 염좌, 치은 질병, 바이러스 성 부비동염, 치은염 있습니다. 성별은 남성, 비흡연자 입니다. 치과 치료를위한 환자 진료 의뢰를 이유로 sodium fluoride(을/를) 2회 0.0272 mg/mg씩 구강 겔 복용했습니다. 알러지는 없습니다. 수술 이력은 Gingivae의 검사, 구강 건강 교육, 복합 치과 충전재의 적용 치아 골절 후 치아의 상아질에 적용, 약물 조정, 치과 불소 처리, 치과 상담 및 보고서, 치과 수술 절차, 치과 용 엑스레이 비트, 치과 절차를위한 수술 후 치료, 치과 치료, 치과 치료를위한 환자 진료 의뢰, 치과기구를 사용하여 모든 치아에서 우위 플라크 및 미적분학 제거, 치과기구를 사용하여 모든 치아에서 하위 징징 기형 플라크 및 미적분학 제거, 치은 절제술 또는 치은 치지 성형술, 탈감작 의료의 치과 적용, 호흡기 기능 측정 있습니다.\n",
            "예시 문서:\n",
            " 만 27세 65.7kg의 환자는 최고 혈압은 119, 최저 혈압은 79, 기저질환은 만성 부비동염, 급성 바이러스 성 인두염, 급성 세균성 부비동염, 바이러스 성 부비동염, 치은염 있습니다. 성별은 여성, 흡연자 입니다. 바이러스 성 부비동염를 이유로 Amoxicillin, Clavulanate(을/를) 1회 250 mg, 125 mg씩 구강 정제 복용했습니다. 알러지는 없습니다. 수술 이력은 B 형 간염 표면 항원 측정, Bordetella pertussis 및 clostridium tetani 및 Corynebacterium diphtheriae 항원 만 포함하는 백신 제품의 투여, C 형 간염 항체 확인 검사, Gingivae의 검사, 건강 및 사회 복지 요구 평가, 결핵 타인 검사에 대한 피부 검사, 구강 건강 교육, 당뇨병에 대한 소변 검사 검사, 도구 전달, 매독 감염성 역가 테스트, 물질 사용의 평가, 불안의 평가, 세포 병리학 절차 도말 생식기 소스의 준비, 소변 검사 단백질 질적, 소변 문화, 수두 대기 바이러스 항체의 측정, 신생아의 조기 탄생, 신체 검사 절차, 알코올 사용 장애 식별 테스트 - 소비를 사용한 평가, 알파 - 페트로 단백질 검사 - 산전, 약물 남용을위한 선별, 약물 조정, 예상 지침, 우울증 스크리닝, 인간 면역 결핍 바이러스 항원 검사, 임질 감염 역가 검사, 자궁 기본 높이 평가, 자동차를 사용한 평가 혼자 휴식을 취하십시오. 친구 잊어, 적혈구로 자동화 된 헤모 그램 백혈구 헤모글로빈 헤마토크릿 지수 혈소판 수 및 수동 백혈구 차이, 치과 불소 처리, 치과 상담 및 보고서, 치과 용 엑스레이 비트, 치과 치료, 치과 치료를위한 환자 진료 의뢰, 치과기구를 사용하여 모든 치아에서 우위 플라크 및 미적분학 제거, 치과기구를 사용하여 모든 치아에서 하위 징징 기형 플라크 및 미적분학 제거, 클라미디아 항원 검사, 태아 생존력에 대한 초음파 검사, 태아 심장의 청진, 태아 해부학 연구, 포도당에 대한 소변 스크리닝, 표준 임신 검사, 풍진 스크리닝 테스트, 혈액형 타이핑, 형광을 사용하여 사전 양수 유체 시편에서 염색체 이수성의 검출 현장 하이브리드 화 스크리닝 기술, 환자 건강 설문지 9 항목 점수를 사용한 우울증 스크리닝 있습니다.\n",
            "예시 문서:\n",
            " 만 27세 65.7kg의 환자는 최고 혈압은 119, 최저 혈압은 79, 기저질환은 만성 부비동염, 급성 바이러스 성 인두염, 급성 세균성 부비동염, 바이러스 성 부비동염, 치은염 있습니다. 성별은 여성, 흡연자 입니다.  Seasonique(을/를) 12회 91 day씩 팩 복용했습니다. 알러지는 없습니다. 수술 이력은 B 형 간염 표면 항원 측정, Bordetella pertussis 및 clostridium tetani 및 Corynebacterium diphtheriae 항원 만 포함하는 백신 제품의 투여, C 형 간염 항체 확인 검사, Gingivae의 검사, 건강 및 사회 복지 요구 평가, 결핵 타인 검사에 대한 피부 검사, 구강 건강 교육, 당뇨병에 대한 소변 검사 검사, 도구 전달, 매독 감염성 역가 테스트, 물질 사용의 평가, 불안의 평가, 세포 병리학 절차 도말 생식기 소스의 준비, 소변 검사 단백질 질적, 소변 문화, 수두 대기 바이러스 항체의 측정, 신생아의 조기 탄생, 신체 검사 절차, 알코올 사용 장애 식별 테스트 - 소비를 사용한 평가, 알파 - 페트로 단백질 검사 - 산전, 약물 남용을위한 선별, 약물 조정, 예상 지침, 우울증 스크리닝, 인간 면역 결핍 바이러스 항원 검사, 임질 감염 역가 검사, 자궁 기본 높이 평가, 자동차를 사용한 평가 혼자 휴식을 취하십시오. 친구 잊어, 적혈구로 자동화 된 헤모 그램 백혈구 헤모글로빈 헤마토크릿 지수 혈소판 수 및 수동 백혈구 차이, 치과 불소 처리, 치과 상담 및 보고서, 치과 용 엑스레이 비트, 치과 치료, 치과 치료를위한 환자 진료 의뢰, 치과기구를 사용하여 모든 치아에서 우위 플라크 및 미적분학 제거, 치과기구를 사용하여 모든 치아에서 하위 징징 기형 플라크 및 미적분학 제거, 클라미디아 항원 검사, 태아 생존력에 대한 초음파 검사, 태아 심장의 청진, 태아 해부학 연구, 포도당에 대한 소변 스크리닝, 표준 임신 검사, 풍진 스크리닝 테스트, 혈액형 타이핑, 형광을 사용하여 사전 양수 유체 시편에서 염색체 이수성의 검출 현장 하이브리드 화 스크리닝 기술, 환자 건강 설문지 9 항목 점수를 사용한 우울증 스크리닝 있습니다.\n",
            "예시 문서:\n",
            " 만 27세 65.7kg의 환자는 최고 혈압은 119, 최저 혈압은 79, 기저질환은 만성 부비동염, 급성 바이러스 성 인두염, 급성 세균성 부비동염, 바이러스 성 부비동염, 치은염 있습니다. 성별은 여성, 흡연자 입니다.  Trinessa(을/를) 18회 28 day씩 팩 복용했습니다. 알러지는 없습니다. 수술 이력은 B 형 간염 표면 항원 측정, Bordetella pertussis 및 clostridium tetani 및 Corynebacterium diphtheriae 항원 만 포함하는 백신 제품의 투여, C 형 간염 항체 확인 검사, Gingivae의 검사, 건강 및 사회 복지 요구 평가, 결핵 타인 검사에 대한 피부 검사, 구강 건강 교육, 당뇨병에 대한 소변 검사 검사, 도구 전달, 매독 감염성 역가 테스트, 물질 사용의 평가, 불안의 평가, 세포 병리학 절차 도말 생식기 소스의 준비, 소변 검사 단백질 질적, 소변 문화, 수두 대기 바이러스 항체의 측정, 신생아의 조기 탄생, 신체 검사 절차, 알코올 사용 장애 식별 테스트 - 소비를 사용한 평가, 알파 - 페트로 단백질 검사 - 산전, 약물 남용을위한 선별, 약물 조정, 예상 지침, 우울증 스크리닝, 인간 면역 결핍 바이러스 항원 검사, 임질 감염 역가 검사, 자궁 기본 높이 평가, 자동차를 사용한 평가 혼자 휴식을 취하십시오. 친구 잊어, 적혈구로 자동화 된 헤모 그램 백혈구 헤모글로빈 헤마토크릿 지수 혈소판 수 및 수동 백혈구 차이, 치과 불소 처리, 치과 상담 및 보고서, 치과 용 엑스레이 비트, 치과 치료, 치과 치료를위한 환자 진료 의뢰, 치과기구를 사용하여 모든 치아에서 우위 플라크 및 미적분학 제거, 치과기구를 사용하여 모든 치아에서 하위 징징 기형 플라크 및 미적분학 제거, 클라미디아 항원 검사, 태아 생존력에 대한 초음파 검사, 태아 심장의 청진, 태아 해부학 연구, 포도당에 대한 소변 스크리닝, 표준 임신 검사, 풍진 스크리닝 테스트, 혈액형 타이핑, 형광을 사용하여 사전 양수 유체 시편에서 염색체 이수성의 검출 현장 하이브리드 화 스크리닝 기술, 환자 건강 설문지 9 항목 점수를 사용한 우울증 스크리닝 있습니다.\n",
            "예시 문서:\n",
            " 만 27세 65.7kg의 환자는 최고 혈압은 119, 최저 혈압은 79, 기저질환은 만성 부비동염, 급성 바이러스 성 인두염, 급성 세균성 부비동염, 바이러스 성 부비동염, 치은염 있습니다. 성별은 여성, 흡연자 입니다.  Yaz(을/를) 12회 28 day씩 팩 복용했습니다. 알러지는 없습니다. 수술 이력은 B 형 간염 표면 항원 측정, Bordetella pertussis 및 clostridium tetani 및 Corynebacterium diphtheriae 항원 만 포함하는 백신 제품의 투여, C 형 간염 항체 확인 검사, Gingivae의 검사, 건강 및 사회 복지 요구 평가, 결핵 타인 검사에 대한 피부 검사, 구강 건강 교육, 당뇨병에 대한 소변 검사 검사, 도구 전달, 매독 감염성 역가 테스트, 물질 사용의 평가, 불안의 평가, 세포 병리학 절차 도말 생식기 소스의 준비, 소변 검사 단백질 질적, 소변 문화, 수두 대기 바이러스 항체의 측정, 신생아의 조기 탄생, 신체 검사 절차, 알코올 사용 장애 식별 테스트 - 소비를 사용한 평가, 알파 - 페트로 단백질 검사 - 산전, 약물 남용을위한 선별, 약물 조정, 예상 지침, 우울증 스크리닝, 인간 면역 결핍 바이러스 항원 검사, 임질 감염 역가 검사, 자궁 기본 높이 평가, 자동차를 사용한 평가 혼자 휴식을 취하십시오. 친구 잊어, 적혈구로 자동화 된 헤모 그램 백혈구 헤모글로빈 헤마토크릿 지수 혈소판 수 및 수동 백혈구 차이, 치과 불소 처리, 치과 상담 및 보고서, 치과 용 엑스레이 비트, 치과 치료, 치과 치료를위한 환자 진료 의뢰, 치과기구를 사용하여 모든 치아에서 우위 플라크 및 미적분학 제거, 치과기구를 사용하여 모든 치아에서 하위 징징 기형 플라크 및 미적분학 제거, 클라미디아 항원 검사, 태아 생존력에 대한 초음파 검사, 태아 심장의 청진, 태아 해부학 연구, 포도당에 대한 소변 스크리닝, 표준 임신 검사, 풍진 스크리닝 테스트, 혈액형 타이핑, 형광을 사용하여 사전 양수 유체 시편에서 염색체 이수성의 검출 현장 하이브리드 화 스크리닝 기술, 환자 건강 설문지 9 항목 점수를 사용한 우울증 스크리닝 있습니다.\n",
            "예시 문서:\n",
            " 만 27세 65.7kg의 환자는 최고 혈압은 119, 최저 혈압은 79, 기저질환은 만성 부비동염, 급성 바이러스 성 인두염, 급성 세균성 부비동염, 바이러스 성 부비동염, 치은염 있습니다. 성별은 여성, 흡연자 입니다. 치과 치료를위한 환자 진료 의뢰를 이유로 sodium fluoride(을/를) 1회 0.0272 mg/mg씩 구강 겔 복용했습니다. 알러지는 없습니다. 수술 이력은 B 형 간염 표면 항원 측정, Bordetella pertussis 및 clostridium tetani 및 Corynebacterium diphtheriae 항원 만 포함하는 백신 제품의 투여, C 형 간염 항체 확인 검사, Gingivae의 검사, 건강 및 사회 복지 요구 평가, 결핵 타인 검사에 대한 피부 검사, 구강 건강 교육, 당뇨병에 대한 소변 검사 검사, 도구 전달, 매독 감염성 역가 테스트, 물질 사용의 평가, 불안의 평가, 세포 병리학 절차 도말 생식기 소스의 준비, 소변 검사 단백질 질적, 소변 문화, 수두 대기 바이러스 항체의 측정, 신생아의 조기 탄생, 신체 검사 절차, 알코올 사용 장애 식별 테스트 - 소비를 사용한 평가, 알파 - 페트로 단백질 검사 - 산전, 약물 남용을위한 선별, 약물 조정, 예상 지침, 우울증 스크리닝, 인간 면역 결핍 바이러스 항원 검사, 임질 감염 역가 검사, 자궁 기본 높이 평가, 자동차를 사용한 평가 혼자 휴식을 취하십시오. 친구 잊어, 적혈구로 자동화 된 헤모 그램 백혈구 헤모글로빈 헤마토크릿 지수 혈소판 수 및 수동 백혈구 차이, 치과 불소 처리, 치과 상담 및 보고서, 치과 용 엑스레이 비트, 치과 치료, 치과 치료를위한 환자 진료 의뢰, 치과기구를 사용하여 모든 치아에서 우위 플라크 및 미적분학 제거, 치과기구를 사용하여 모든 치아에서 하위 징징 기형 플라크 및 미적분학 제거, 클라미디아 항원 검사, 태아 생존력에 대한 초음파 검사, 태아 심장의 청진, 태아 해부학 연구, 포도당에 대한 소변 스크리닝, 표준 임신 검사, 풍진 스크리닝 테스트, 혈액형 타이핑, 형광을 사용하여 사전 양수 유체 시편에서 염색체 이수성의 검출 현장 하이브리드 화 스크리닝 기술, 환자 건강 설문지 9 항목 점수를 사용한 우울증 스크리닝 있습니다.\n",
            "예시 문서:\n",
            " 만 59세 82.6kg의 환자는 최고 혈압은 130, 최저 혈압은 90, 기저질환은 만성 부비동염, 치아 상실, 필수 고혈압, 빈혈증, 대사 증후군 x, 치은염 있습니다. 성별은 여성, 흡연자 입니다.  Fexofenadine hydrochloride(을/를) 346회 60 mg씩 구강 정제 복용했습니다. 알러지는 알레르기 성 배치, 이부프로펜 있습니다. 수술 이력은 Gingivae의 검사, 가정 폭력을위한 선별, 건강 및 사회 복지 요구 평가, 구강 건강 교육, 구강 또는 치과 인상을 받으십시오, 대장 내시경 검사, 물질 사용의 평가, 불안의 평가, 알코올 사용 장애 식별 테스트 - 소비를 사용한 평가, 약물 남용을위한 선별, 약물 조정, 우울증 스크리닝, 의치의 피팅, 자궁 내 피임 장치 제거, 치과 불소 처리, 치과 상담 및 보고서, 치과 용 엑스레이 비트, 치과 치료, 치과 치료를위한 환자 진료 의뢰, 치과기구를 사용하여 모든 치아에서 우위 플라크 및 미적분학 제거, 치과기구를 사용하여 모든 치아에서 하위 징징 기형 플라크 및 미적분학 제거, 환자 건강 설문지 9 항목 점수를 사용한 우울증 스크리닝 있습니다.\n",
            "예시 문서:\n",
            " 만 59세 82.6kg의 환자는 최고 혈압은 130, 최저 혈압은 90, 기저질환은 만성 부비동염, 치아 상실, 필수 고혈압, 빈혈증, 대사 증후군 x, 치은염 있습니다. 성별은 여성, 흡연자 입니다. 필수 고혈압를 이유로 Hydrochlorothiazide(을/를) 42회 25 mg씩 구강 정제 복용했습니다. 알러지는 알레르기 성 배치, 이부프로펜 있습니다. 수술 이력은 Gingivae의 검사, 가정 폭력을위한 선별, 건강 및 사회 복지 요구 평가, 구강 건강 교육, 구강 또는 치과 인상을 받으십시오, 대장 내시경 검사, 물질 사용의 평가, 불안의 평가, 알코올 사용 장애 식별 테스트 - 소비를 사용한 평가, 약물 남용을위한 선별, 약물 조정, 우울증 스크리닝, 의치의 피팅, 자궁 내 피임 장치 제거, 치과 불소 처리, 치과 상담 및 보고서, 치과 용 엑스레이 비트, 치과 치료, 치과 치료를위한 환자 진료 의뢰, 치과기구를 사용하여 모든 치아에서 우위 플라크 및 미적분학 제거, 치과기구를 사용하여 모든 치아에서 하위 징징 기형 플라크 및 미적분학 제거, 환자 건강 설문지 9 항목 점수를 사용한 우울증 스크리닝 있습니다.\n",
            "예시 문서:\n",
            " 만 59세 82.6kg의 환자는 최고 혈압은 130, 최저 혈압은 90, 기저질환은 만성 부비동염, 치아 상실, 필수 고혈압, 빈혈증, 대사 증후군 x, 치은염 있습니다. 성별은 여성, 흡연자 입니다. 피부염에 연락하십시오를 이유로 Hydrocortisone(을/를) 347회 10 mg/ml씩 국소 크림 복용했습니다. 알러지는 알레르기 성 배치, 이부프로펜 있습니다. 수술 이력은 Gingivae의 검사, 가정 폭력을위한 선별, 건강 및 사회 복지 요구 평가, 구강 건강 교육, 구강 또는 치과 인상을 받으십시오, 대장 내시경 검사, 물질 사용의 평가, 불안의 평가, 알코올 사용 장애 식별 테스트 - 소비를 사용한 평가, 약물 남용을위한 선별, 약물 조정, 우울증 스크리닝, 의치의 피팅, 자궁 내 피임 장치 제거, 치과 불소 처리, 치과 상담 및 보고서, 치과 용 엑스레이 비트, 치과 치료, 치과 치료를위한 환자 진료 의뢰, 치과기구를 사용하여 모든 치아에서 우위 플라크 및 미적분학 제거, 치과기구를 사용하여 모든 치아에서 하위 징징 기형 플라크 및 미적분학 제거, 환자 건강 설문지 9 항목 점수를 사용한 우울증 스크리닝 있습니다.\n",
            "예시 문서:\n",
            " 만 59세 82.6kg의 환자는 최고 혈압은 130, 최저 혈압은 90, 기저질환은 만성 부비동염, 치아 상실, 필수 고혈압, 빈혈증, 대사 증후군 x, 치은염 있습니다. 성별은 여성, 흡연자 입니다.  NDA020800  Epinephrine(을/를) 346회 0.3 ml / 1 mg/ml씩 자동 주사기 복용했습니다. 알러지는 알레르기 성 배치, 이부프로펜 있습니다. 수술 이력은 Gingivae의 검사, 가정 폭력을위한 선별, 건강 및 사회 복지 요구 평가, 구강 건강 교육, 구강 또는 치과 인상을 받으십시오, 대장 내시경 검사, 물질 사용의 평가, 불안의 평가, 알코올 사용 장애 식별 테스트 - 소비를 사용한 평가, 약물 남용을위한 선별, 약물 조정, 우울증 스크리닝, 의치의 피팅, 자궁 내 피임 장치 제거, 치과 불소 처리, 치과 상담 및 보고서, 치과 용 엑스레이 비트, 치과 치료, 치과 치료를위한 환자 진료 의뢰, 치과기구를 사용하여 모든 치아에서 우위 플라크 및 미적분학 제거, 치과기구를 사용하여 모든 치아에서 하위 징징 기형 플라크 및 미적분학 제거, 환자 건강 설문지 9 항목 점수를 사용한 우울증 스크리닝 있습니다.\n",
            "예시 문서:\n",
            " 만 59세 82.6kg의 환자는 최고 혈압은 130, 최저 혈압은 90, 기저질환은 만성 부비동염, 치아 상실, 필수 고혈압, 빈혈증, 대사 증후군 x, 치은염 있습니다. 성별은 여성, 흡연자 입니다. 치과 치료를위한 환자 진료 의뢰를 이유로 sodium fluoride(을/를) 1회 0.0272 mg/mg씩 구강 겔 복용했습니다. 알러지는 알레르기 성 배치, 이부프로펜 있습니다. 수술 이력은 Gingivae의 검사, 가정 폭력을위한 선별, 건강 및 사회 복지 요구 평가, 구강 건강 교육, 구강 또는 치과 인상을 받으십시오, 대장 내시경 검사, 물질 사용의 평가, 불안의 평가, 알코올 사용 장애 식별 테스트 - 소비를 사용한 평가, 약물 남용을위한 선별, 약물 조정, 우울증 스크리닝, 의치의 피팅, 자궁 내 피임 장치 제거, 치과 불소 처리, 치과 상담 및 보고서, 치과 용 엑스레이 비트, 치과 치료, 치과 치료를위한 환자 진료 의뢰, 치과기구를 사용하여 모든 치아에서 우위 플라크 및 미적분학 제거, 치과기구를 사용하여 모든 치아에서 하위 징징 기형 플라크 및 미적분학 제거, 환자 건강 설문지 9 항목 점수를 사용한 우울증 스크리닝 있습니다.\n",
            "예시 문서:\n",
            " 만 41세 102.5kg의 환자는 최고 혈압은 140, 최저 혈압은 89, 기저질환은 1 차 치과 충치, 의식 상실없이 뇌진탕, 심한 급성 호흡기 증후군 코로나 바이러스로 인한 질병 2, 당뇨병으로 인한 신장 장애, 급성 기관지염, 급성 바이러스 성 인두염, 만성 신장 질환 단계 1, 필수 고혈압, 뇌의 뇌진탕 손상, 대사 증후군 x, 치은 질병, 바이러스 성 부비동염, 치은염 있습니다. 성별은 여성, 비흡연자 입니다.  medroxyprogesterone acetate(을/를) 12회 1 ml / 150 mg/ml씩 주입 복용했습니다. 알러지는 없습니다. 수술 이력은 B 형 간염 표면 항원 측정, Bordetella pertussis 및 clostridium tetani 및 Corynebacterium diphtheriae 항원 만 포함하는 백신 제품의 투여, C 형 간염 항체 확인 검사, Gingivae의 검사, Streptococcus pneumoniae Group B 항원 분석, 가정 폭력을위한 선별, 건강 및 사회 복지 요구 평가, 결핵 타인 검사에 대한 피부 검사, 구강 건강 교육, 근육 내 주사, 당뇨병에 대한 소변 검사 검사, 매독 감염성 역가 테스트, 물질 사용의 평가, 복합 치과 충전재의 적용 치아 골절 후 치아의 상아질에 적용, 불안의 평가, 산전 RHD 항체 스크리닝, 세포 병리학 절차 도말 생식기 소스의 준비, 소변 검사 단백질 질적, 소변 문화, 수동 면역, 수두 대기 바이러스 항체의 측정, 신체 검사 절차, 알코올 사용 장애 식별 테스트 - 소비를 사용한 평가, 알파 - 페트로 단백질 검사 - 산전, 약물 남용을위한 선별, 약물 조정, 에스 오토 절개, 우울증 스크리닝, 인간 면역 결핍 바이러스 항원 검사, 임질 감염 역가 검사, 자궁 기본 높이 평가, 자궁 내 피임 장치의 삽입, 적혈구로 자동화 된 헤모 그램 백혈구 헤모글로빈 헤마토크릿 지수 혈소판 수 및 수동 백혈구 차이, 제왕 절개, 치과 불소 처리, 치과 상담 및 보고서, 치과 수술 절차, 치과 용 엑스레이 비트, 치과 절차를위한 수술 후 치료, 치과 충전재를 사용하여 모든 교두의 커버리지로 치아의 복원, 치과 치료, 치과 치료를위한 환자 진료 의뢰, 치과기구를 사용하여 모든 치아에서 우위 플라크 및 미적분학 제거, 치과기구를 사용하여 모든 치아에서 하위 징징 기형 플라크 및 미적분학 제거, 치은 절제술 또는 치은 치지 성형술, 클라미디아 항원 검사, 탈감작 의료의 치과 적용, 태아 생존력에 대한 초음파 검사, 태아 심장의 청진, 태아 해부학 연구, 포도당에 대한 소변 스크리닝, 표준 임신 검사, 풍진 스크리닝 테스트, 피하 피임약의 삽입, 피하 피임약의 제거, 혈액형 타이핑, 형광을 사용하여 사전 양수 유체 시편에서 염색체 이수성의 검출 현장 하이브리드 화 스크리닝 기술, 환자 건강 설문지 9 항목 점수를 사용한 우울증 스크리닝 있습니다.\n",
            "예시 문서:\n",
            " 만 41세 102.5kg의 환자는 최고 혈압은 140, 최저 혈압은 89, 기저질환은 1 차 치과 충치, 의식 상실없이 뇌진탕, 심한 급성 호흡기 증후군 코로나 바이러스로 인한 질병 2, 당뇨병으로 인한 신장 장애, 급성 기관지염, 급성 바이러스 성 인두염, 만성 신장 질환 단계 1, 필수 고혈압, 뇌의 뇌진탕 손상, 대사 증후군 x, 치은 질병, 바이러스 성 부비동염, 치은염 있습니다. 성별은 여성, 비흡연자 입니다. 급성 기관지염를 이유로 Acetaminophen, Dextromethorphan Hydrobromide, doxylamine succinate  Oral(을/를) 1회 21.7 mg/ml, 1 mg/ml, 0.417 mg/ml씩 해결책 복용했습니다. 알러지는 없습니다. 수술 이력은 B 형 간염 표면 항원 측정, Bordetella pertussis 및 clostridium tetani 및 Corynebacterium diphtheriae 항원 만 포함하는 백신 제품의 투여, C 형 간염 항체 확인 검사, Gingivae의 검사, Streptococcus pneumoniae Group B 항원 분석, 가정 폭력을위한 선별, 건강 및 사회 복지 요구 평가, 결핵 타인 검사에 대한 피부 검사, 구강 건강 교육, 근육 내 주사, 당뇨병에 대한 소변 검사 검사, 매독 감염성 역가 테스트, 물질 사용의 평가, 복합 치과 충전재의 적용 치아 골절 후 치아의 상아질에 적용, 불안의 평가, 산전 RHD 항체 스크리닝, 세포 병리학 절차 도말 생식기 소스의 준비, 소변 검사 단백질 질적, 소변 문화, 수동 면역, 수두 대기 바이러스 항체의 측정, 신체 검사 절차, 알코올 사용 장애 식별 테스트 - 소비를 사용한 평가, 알파 - 페트로 단백질 검사 - 산전, 약물 남용을위한 선별, 약물 조정, 에스 오토 절개, 우울증 스크리닝, 인간 면역 결핍 바이러스 항원 검사, 임질 감염 역가 검사, 자궁 기본 높이 평가, 자궁 내 피임 장치의 삽입, 적혈구로 자동화 된 헤모 그램 백혈구 헤모글로빈 헤마토크릿 지수 혈소판 수 및 수동 백혈구 차이, 제왕 절개, 치과 불소 처리, 치과 상담 및 보고서, 치과 수술 절차, 치과 용 엑스레이 비트, 치과 절차를위한 수술 후 치료, 치과 충전재를 사용하여 모든 교두의 커버리지로 치아의 복원, 치과 치료, 치과 치료를위한 환자 진료 의뢰, 치과기구를 사용하여 모든 치아에서 우위 플라크 및 미적분학 제거, 치과기구를 사용하여 모든 치아에서 하위 징징 기형 플라크 및 미적분학 제거, 치은 절제술 또는 치은 치지 성형술, 클라미디아 항원 검사, 탈감작 의료의 치과 적용, 태아 생존력에 대한 초음파 검사, 태아 심장의 청진, 태아 해부학 연구, 포도당에 대한 소변 스크리닝, 표준 임신 검사, 풍진 스크리닝 테스트, 피하 피임약의 삽입, 피하 피임약의 제거, 혈액형 타이핑, 형광을 사용하여 사전 양수 유체 시편에서 염색체 이수성의 검출 현장 하이브리드 화 스크리닝 기술, 환자 건강 설문지 9 항목 점수를 사용한 우울증 스크리닝 있습니다.\n",
            "예시 문서:\n",
            " 만 41세 102.5kg의 환자는 최고 혈압은 140, 최저 혈압은 89, 기저질환은 1 차 치과 충치, 의식 상실없이 뇌진탕, 심한 급성 호흡기 증후군 코로나 바이러스로 인한 질병 2, 당뇨병으로 인한 신장 장애, 급성 기관지염, 급성 바이러스 성 인두염, 만성 신장 질환 단계 1, 필수 고혈압, 뇌의 뇌진탕 손상, 대사 증후군 x, 치은 질병, 바이러스 성 부비동염, 치은염 있습니다. 성별은 여성, 비흡연자 입니다. 급성 기관지염를 이유로 Acetaminophen(을/를) 2회 325 mg씩 구강 정제 복용했습니다. 알러지는 없습니다. 수술 이력은 B 형 간염 표면 항원 측정, Bordetella pertussis 및 clostridium tetani 및 Corynebacterium diphtheriae 항원 만 포함하는 백신 제품의 투여, C 형 간염 항체 확인 검사, Gingivae의 검사, Streptococcus pneumoniae Group B 항원 분석, 가정 폭력을위한 선별, 건강 및 사회 복지 요구 평가, 결핵 타인 검사에 대한 피부 검사, 구강 건강 교육, 근육 내 주사, 당뇨병에 대한 소변 검사 검사, 매독 감염성 역가 테스트, 물질 사용의 평가, 복합 치과 충전재의 적용 치아 골절 후 치아의 상아질에 적용, 불안의 평가, 산전 RHD 항체 스크리닝, 세포 병리학 절차 도말 생식기 소스의 준비, 소변 검사 단백질 질적, 소변 문화, 수동 면역, 수두 대기 바이러스 항체의 측정, 신체 검사 절차, 알코올 사용 장애 식별 테스트 - 소비를 사용한 평가, 알파 - 페트로 단백질 검사 - 산전, 약물 남용을위한 선별, 약물 조정, 에스 오토 절개, 우울증 스크리닝, 인간 면역 결핍 바이러스 항원 검사, 임질 감염 역가 검사, 자궁 기본 높이 평가, 자궁 내 피임 장치의 삽입, 적혈구로 자동화 된 헤모 그램 백혈구 헤모글로빈 헤마토크릿 지수 혈소판 수 및 수동 백혈구 차이, 제왕 절개, 치과 불소 처리, 치과 상담 및 보고서, 치과 수술 절차, 치과 용 엑스레이 비트, 치과 절차를위한 수술 후 치료, 치과 충전재를 사용하여 모든 교두의 커버리지로 치아의 복원, 치과 치료, 치과 치료를위한 환자 진료 의뢰, 치과기구를 사용하여 모든 치아에서 우위 플라크 및 미적분학 제거, 치과기구를 사용하여 모든 치아에서 하위 징징 기형 플라크 및 미적분학 제거, 치은 절제술 또는 치은 치지 성형술, 클라미디아 항원 검사, 탈감작 의료의 치과 적용, 태아 생존력에 대한 초음파 검사, 태아 심장의 청진, 태아 해부학 연구, 포도당에 대한 소변 스크리닝, 표준 임신 검사, 풍진 스크리닝 테스트, 피하 피임약의 삽입, 피하 피임약의 제거, 혈액형 타이핑, 형광을 사용하여 사전 양수 유체 시편에서 염색체 이수성의 검출 현장 하이브리드 화 스크리닝 기술, 환자 건강 설문지 9 항목 점수를 사용한 우울증 스크리닝 있습니다.\n",
            "예시 문서:\n",
            " 만 41세 102.5kg의 환자는 최고 혈압은 140, 최저 혈압은 89, 기저질환은 1 차 치과 충치, 의식 상실없이 뇌진탕, 심한 급성 호흡기 증후군 코로나 바이러스로 인한 질병 2, 당뇨병으로 인한 신장 장애, 급성 기관지염, 급성 바이러스 성 인두염, 만성 신장 질환 단계 1, 필수 고혈압, 뇌의 뇌진탕 손상, 대사 증후군 x, 치은 질병, 바이러스 성 부비동염, 치은염 있습니다. 성별은 여성, 비흡연자 입니다.  Errin(을/를) 12회 28 day씩 팩 복용했습니다. 알러지는 없습니다. 수술 이력은 B 형 간염 표면 항원 측정, Bordetella pertussis 및 clostridium tetani 및 Corynebacterium diphtheriae 항원 만 포함하는 백신 제품의 투여, C 형 간염 항체 확인 검사, Gingivae의 검사, Streptococcus pneumoniae Group B 항원 분석, 가정 폭력을위한 선별, 건강 및 사회 복지 요구 평가, 결핵 타인 검사에 대한 피부 검사, 구강 건강 교육, 근육 내 주사, 당뇨병에 대한 소변 검사 검사, 매독 감염성 역가 테스트, 물질 사용의 평가, 복합 치과 충전재의 적용 치아 골절 후 치아의 상아질에 적용, 불안의 평가, 산전 RHD 항체 스크리닝, 세포 병리학 절차 도말 생식기 소스의 준비, 소변 검사 단백질 질적, 소변 문화, 수동 면역, 수두 대기 바이러스 항체의 측정, 신체 검사 절차, 알코올 사용 장애 식별 테스트 - 소비를 사용한 평가, 알파 - 페트로 단백질 검사 - 산전, 약물 남용을위한 선별, 약물 조정, 에스 오토 절개, 우울증 스크리닝, 인간 면역 결핍 바이러스 항원 검사, 임질 감염 역가 검사, 자궁 기본 높이 평가, 자궁 내 피임 장치의 삽입, 적혈구로 자동화 된 헤모 그램 백혈구 헤모글로빈 헤마토크릿 지수 혈소판 수 및 수동 백혈구 차이, 제왕 절개, 치과 불소 처리, 치과 상담 및 보고서, 치과 수술 절차, 치과 용 엑스레이 비트, 치과 절차를위한 수술 후 치료, 치과 충전재를 사용하여 모든 교두의 커버리지로 치아의 복원, 치과 치료, 치과 치료를위한 환자 진료 의뢰, 치과기구를 사용하여 모든 치아에서 우위 플라크 및 미적분학 제거, 치과기구를 사용하여 모든 치아에서 하위 징징 기형 플라크 및 미적분학 제거, 치은 절제술 또는 치은 치지 성형술, 클라미디아 항원 검사, 탈감작 의료의 치과 적용, 태아 생존력에 대한 초음파 검사, 태아 심장의 청진, 태아 해부학 연구, 포도당에 대한 소변 스크리닝, 표준 임신 검사, 풍진 스크리닝 테스트, 피하 피임약의 삽입, 피하 피임약의 제거, 혈액형 타이핑, 형광을 사용하여 사전 양수 유체 시편에서 염색체 이수성의 검출 현장 하이브리드 화 스크리닝 기술, 환자 건강 설문지 9 항목 점수를 사용한 우울증 스크리닝 있습니다.\n",
            "예시 문서:\n",
            " 만 41세 102.5kg의 환자는 최고 혈압은 140, 최저 혈압은 89, 기저질환은 1 차 치과 충치, 의식 상실없이 뇌진탕, 심한 급성 호흡기 증후군 코로나 바이러스로 인한 질병 2, 당뇨병으로 인한 신장 장애, 급성 기관지염, 급성 바이러스 성 인두염, 만성 신장 질환 단계 1, 필수 고혈압, 뇌의 뇌진탕 손상, 대사 증후군 x, 치은 질병, 바이러스 성 부비동염, 치은염 있습니다. 성별은 여성, 비흡연자 입니다.  Etonogestrel(을/를) 12회 68 mg씩 약물 임플란트 복용했습니다. 알러지는 없습니다. 수술 이력은 B 형 간염 표면 항원 측정, Bordetella pertussis 및 clostridium tetani 및 Corynebacterium diphtheriae 항원 만 포함하는 백신 제품의 투여, C 형 간염 항체 확인 검사, Gingivae의 검사, Streptococcus pneumoniae Group B 항원 분석, 가정 폭력을위한 선별, 건강 및 사회 복지 요구 평가, 결핵 타인 검사에 대한 피부 검사, 구강 건강 교육, 근육 내 주사, 당뇨병에 대한 소변 검사 검사, 매독 감염성 역가 테스트, 물질 사용의 평가, 복합 치과 충전재의 적용 치아 골절 후 치아의 상아질에 적용, 불안의 평가, 산전 RHD 항체 스크리닝, 세포 병리학 절차 도말 생식기 소스의 준비, 소변 검사 단백질 질적, 소변 문화, 수동 면역, 수두 대기 바이러스 항체의 측정, 신체 검사 절차, 알코올 사용 장애 식별 테스트 - 소비를 사용한 평가, 알파 - 페트로 단백질 검사 - 산전, 약물 남용을위한 선별, 약물 조정, 에스 오토 절개, 우울증 스크리닝, 인간 면역 결핍 바이러스 항원 검사, 임질 감염 역가 검사, 자궁 기본 높이 평가, 자궁 내 피임 장치의 삽입, 적혈구로 자동화 된 헤모 그램 백혈구 헤모글로빈 헤마토크릿 지수 혈소판 수 및 수동 백혈구 차이, 제왕 절개, 치과 불소 처리, 치과 상담 및 보고서, 치과 수술 절차, 치과 용 엑스레이 비트, 치과 절차를위한 수술 후 치료, 치과 충전재를 사용하여 모든 교두의 커버리지로 치아의 복원, 치과 치료, 치과 치료를위한 환자 진료 의뢰, 치과기구를 사용하여 모든 치아에서 우위 플라크 및 미적분학 제거, 치과기구를 사용하여 모든 치아에서 하위 징징 기형 플라크 및 미적분학 제거, 치은 절제술 또는 치은 치지 성형술, 클라미디아 항원 검사, 탈감작 의료의 치과 적용, 태아 생존력에 대한 초음파 검사, 태아 심장의 청진, 태아 해부학 연구, 포도당에 대한 소변 스크리닝, 표준 임신 검사, 풍진 스크리닝 테스트, 피하 피임약의 삽입, 피하 피임약의 제거, 혈액형 타이핑, 형광을 사용하여 사전 양수 유체 시편에서 염색체 이수성의 검출 현장 하이브리드 화 스크리닝 기술, 환자 건강 설문지 9 항목 점수를 사용한 우울증 스크리닝 있습니다.\n",
            "예시 문서:\n",
            " 만 41세 102.5kg의 환자는 최고 혈압은 140, 최저 혈압은 89, 기저질환은 1 차 치과 충치, 의식 상실없이 뇌진탕, 심한 급성 호흡기 증후군 코로나 바이러스로 인한 질병 2, 당뇨병으로 인한 신장 장애, 급성 기관지염, 급성 바이러스 성 인두염, 만성 신장 질환 단계 1, 필수 고혈압, 뇌의 뇌진탕 손상, 대사 증후군 x, 치은 질병, 바이러스 성 부비동염, 치은염 있습니다. 성별은 여성, 비흡연자 입니다.  Jolivette(을/를) 10회 28 day씩 팩 복용했습니다. 알러지는 없습니다. 수술 이력은 B 형 간염 표면 항원 측정, Bordetella pertussis 및 clostridium tetani 및 Corynebacterium diphtheriae 항원 만 포함하는 백신 제품의 투여, C 형 간염 항체 확인 검사, Gingivae의 검사, Streptococcus pneumoniae Group B 항원 분석, 가정 폭력을위한 선별, 건강 및 사회 복지 요구 평가, 결핵 타인 검사에 대한 피부 검사, 구강 건강 교육, 근육 내 주사, 당뇨병에 대한 소변 검사 검사, 매독 감염성 역가 테스트, 물질 사용의 평가, 복합 치과 충전재의 적용 치아 골절 후 치아의 상아질에 적용, 불안의 평가, 산전 RHD 항체 스크리닝, 세포 병리학 절차 도말 생식기 소스의 준비, 소변 검사 단백질 질적, 소변 문화, 수동 면역, 수두 대기 바이러스 항체의 측정, 신체 검사 절차, 알코올 사용 장애 식별 테스트 - 소비를 사용한 평가, 알파 - 페트로 단백질 검사 - 산전, 약물 남용을위한 선별, 약물 조정, 에스 오토 절개, 우울증 스크리닝, 인간 면역 결핍 바이러스 항원 검사, 임질 감염 역가 검사, 자궁 기본 높이 평가, 자궁 내 피임 장치의 삽입, 적혈구로 자동화 된 헤모 그램 백혈구 헤모글로빈 헤마토크릿 지수 혈소판 수 및 수동 백혈구 차이, 제왕 절개, 치과 불소 처리, 치과 상담 및 보고서, 치과 수술 절차, 치과 용 엑스레이 비트, 치과 절차를위한 수술 후 치료, 치과 충전재를 사용하여 모든 교두의 커버리지로 치아의 복원, 치과 치료, 치과 치료를위한 환자 진료 의뢰, 치과기구를 사용하여 모든 치아에서 우위 플라크 및 미적분학 제거, 치과기구를 사용하여 모든 치아에서 하위 징징 기형 플라크 및 미적분학 제거, 치은 절제술 또는 치은 치지 성형술, 클라미디아 항원 검사, 탈감작 의료의 치과 적용, 태아 생존력에 대한 초음파 검사, 태아 심장의 청진, 태아 해부학 연구, 포도당에 대한 소변 스크리닝, 표준 임신 검사, 풍진 스크리닝 테스트, 피하 피임약의 삽입, 피하 피임약의 제거, 혈액형 타이핑, 형광을 사용하여 사전 양수 유체 시편에서 염색체 이수성의 검출 현장 하이브리드 화 스크리닝 기술, 환자 건강 설문지 9 항목 점수를 사용한 우울증 스크리닝 있습니다.\n",
            "예시 문서:\n",
            " 만 41세 102.5kg의 환자는 최고 혈압은 140, 최저 혈압은 89, 기저질환은 1 차 치과 충치, 의식 상실없이 뇌진탕, 심한 급성 호흡기 증후군 코로나 바이러스로 인한 질병 2, 당뇨병으로 인한 신장 장애, 급성 기관지염, 급성 바이러스 성 인두염, 만성 신장 질환 단계 1, 필수 고혈압, 뇌의 뇌진탕 손상, 대사 증후군 x, 치은 질병, 바이러스 성 부비동염, 치은염 있습니다. 성별은 여성, 비흡연자 입니다.  Mirena(을/를) 24회 52 mg씩 자궁 내 시스템 복용했습니다. 알러지는 없습니다. 수술 이력은 B 형 간염 표면 항원 측정, Bordetella pertussis 및 clostridium tetani 및 Corynebacterium diphtheriae 항원 만 포함하는 백신 제품의 투여, C 형 간염 항체 확인 검사, Gingivae의 검사, Streptococcus pneumoniae Group B 항원 분석, 가정 폭력을위한 선별, 건강 및 사회 복지 요구 평가, 결핵 타인 검사에 대한 피부 검사, 구강 건강 교육, 근육 내 주사, 당뇨병에 대한 소변 검사 검사, 매독 감염성 역가 테스트, 물질 사용의 평가, 복합 치과 충전재의 적용 치아 골절 후 치아의 상아질에 적용, 불안의 평가, 산전 RHD 항체 스크리닝, 세포 병리학 절차 도말 생식기 소스의 준비, 소변 검사 단백질 질적, 소변 문화, 수동 면역, 수두 대기 바이러스 항체의 측정, 신체 검사 절차, 알코올 사용 장애 식별 테스트 - 소비를 사용한 평가, 알파 - 페트로 단백질 검사 - 산전, 약물 남용을위한 선별, 약물 조정, 에스 오토 절개, 우울증 스크리닝, 인간 면역 결핍 바이러스 항원 검사, 임질 감염 역가 검사, 자궁 기본 높이 평가, 자궁 내 피임 장치의 삽입, 적혈구로 자동화 된 헤모 그램 백혈구 헤모글로빈 헤마토크릿 지수 혈소판 수 및 수동 백혈구 차이, 제왕 절개, 치과 불소 처리, 치과 상담 및 보고서, 치과 수술 절차, 치과 용 엑스레이 비트, 치과 절차를위한 수술 후 치료, 치과 충전재를 사용하여 모든 교두의 커버리지로 치아의 복원, 치과 치료, 치과 치료를위한 환자 진료 의뢰, 치과기구를 사용하여 모든 치아에서 우위 플라크 및 미적분학 제거, 치과기구를 사용하여 모든 치아에서 하위 징징 기형 플라크 및 미적분학 제거, 치은 절제술 또는 치은 치지 성형술, 클라미디아 항원 검사, 탈감작 의료의 치과 적용, 태아 생존력에 대한 초음파 검사, 태아 심장의 청진, 태아 해부학 연구, 포도당에 대한 소변 스크리닝, 표준 임신 검사, 풍진 스크리닝 테스트, 피하 피임약의 삽입, 피하 피임약의 제거, 혈액형 타이핑, 형광을 사용하여 사전 양수 유체 시편에서 염색체 이수성의 검출 현장 하이브리드 화 스크리닝 기술, 환자 건강 설문지 9 항목 점수를 사용한 우울증 스크리닝 있습니다.\n",
            "예시 문서:\n",
            " 만 41세 102.5kg의 환자는 최고 혈압은 140, 최저 혈압은 89, 기저질환은 1 차 치과 충치, 의식 상실없이 뇌진탕, 심한 급성 호흡기 증후군 코로나 바이러스로 인한 질병 2, 당뇨병으로 인한 신장 장애, 급성 기관지염, 급성 바이러스 성 인두염, 만성 신장 질환 단계 1, 필수 고혈압, 뇌의 뇌진탕 손상, 대사 증후군 x, 치은 질병, 바이러스 성 부비동염, 치은염 있습니다. 성별은 여성, 비흡연자 입니다. prediabetes를 이유로 insulin isophane  human, insulin  regular  human(을/를) 57회 70 unt/ml, 30 unt/ml씩 주사 할 수없는 서스펜션 복용했습니다. 알러지는 없습니다. 수술 이력은 B 형 간염 표면 항원 측정, Bordetella pertussis 및 clostridium tetani 및 Corynebacterium diphtheriae 항원 만 포함하는 백신 제품의 투여, C 형 간염 항체 확인 검사, Gingivae의 검사, Streptococcus pneumoniae Group B 항원 분석, 가정 폭력을위한 선별, 건강 및 사회 복지 요구 평가, 결핵 타인 검사에 대한 피부 검사, 구강 건강 교육, 근육 내 주사, 당뇨병에 대한 소변 검사 검사, 매독 감염성 역가 테스트, 물질 사용의 평가, 복합 치과 충전재의 적용 치아 골절 후 치아의 상아질에 적용, 불안의 평가, 산전 RHD 항체 스크리닝, 세포 병리학 절차 도말 생식기 소스의 준비, 소변 검사 단백질 질적, 소변 문화, 수동 면역, 수두 대기 바이러스 항체의 측정, 신체 검사 절차, 알코올 사용 장애 식별 테스트 - 소비를 사용한 평가, 알파 - 페트로 단백질 검사 - 산전, 약물 남용을위한 선별, 약물 조정, 에스 오토 절개, 우울증 스크리닝, 인간 면역 결핍 바이러스 항원 검사, 임질 감염 역가 검사, 자궁 기본 높이 평가, 자궁 내 피임 장치의 삽입, 적혈구로 자동화 된 헤모 그램 백혈구 헤모글로빈 헤마토크릿 지수 혈소판 수 및 수동 백혈구 차이, 제왕 절개, 치과 불소 처리, 치과 상담 및 보고서, 치과 수술 절차, 치과 용 엑스레이 비트, 치과 절차를위한 수술 후 치료, 치과 충전재를 사용하여 모든 교두의 커버리지로 치아의 복원, 치과 치료, 치과 치료를위한 환자 진료 의뢰, 치과기구를 사용하여 모든 치아에서 우위 플라크 및 미적분학 제거, 치과기구를 사용하여 모든 치아에서 하위 징징 기형 플라크 및 미적분학 제거, 치은 절제술 또는 치은 치지 성형술, 클라미디아 항원 검사, 탈감작 의료의 치과 적용, 태아 생존력에 대한 초음파 검사, 태아 심장의 청진, 태아 해부학 연구, 포도당에 대한 소변 스크리닝, 표준 임신 검사, 풍진 스크리닝 테스트, 피하 피임약의 삽입, 피하 피임약의 제거, 혈액형 타이핑, 형광을 사용하여 사전 양수 유체 시편에서 염색체 이수성의 검출 현장 하이브리드 화 스크리닝 기술, 환자 건강 설문지 9 항목 점수를 사용한 우울증 스크리닝 있습니다.\n",
            "예시 문서:\n",
            " 만 41세 102.5kg의 환자는 최고 혈압은 140, 최저 혈압은 89, 기저질환은 1 차 치과 충치, 의식 상실없이 뇌진탕, 심한 급성 호흡기 증후군 코로나 바이러스로 인한 질병 2, 당뇨병으로 인한 신장 장애, 급성 기관지염, 급성 바이러스 성 인두염, 만성 신장 질환 단계 1, 필수 고혈압, 뇌의 뇌진탕 손상, 대사 증후군 x, 치은 질병, 바이러스 성 부비동염, 치은염 있습니다. 성별은 여성, 비흡연자 입니다. 필수 고혈압를 이유로 lisinopril(을/를) 52회 10 mg씩 구강 정제 복용했습니다. 알러지는 없습니다. 수술 이력은 B 형 간염 표면 항원 측정, Bordetella pertussis 및 clostridium tetani 및 Corynebacterium diphtheriae 항원 만 포함하는 백신 제품의 투여, C 형 간염 항체 확인 검사, Gingivae의 검사, Streptococcus pneumoniae Group B 항원 분석, 가정 폭력을위한 선별, 건강 및 사회 복지 요구 평가, 결핵 타인 검사에 대한 피부 검사, 구강 건강 교육, 근육 내 주사, 당뇨병에 대한 소변 검사 검사, 매독 감염성 역가 테스트, 물질 사용의 평가, 복합 치과 충전재의 적용 치아 골절 후 치아의 상아질에 적용, 불안의 평가, 산전 RHD 항체 스크리닝, 세포 병리학 절차 도말 생식기 소스의 준비, 소변 검사 단백질 질적, 소변 문화, 수동 면역, 수두 대기 바이러스 항체의 측정, 신체 검사 절차, 알코올 사용 장애 식별 테스트 - 소비를 사용한 평가, 알파 - 페트로 단백질 검사 - 산전, 약물 남용을위한 선별, 약물 조정, 에스 오토 절개, 우울증 스크리닝, 인간 면역 결핍 바이러스 항원 검사, 임질 감염 역가 검사, 자궁 기본 높이 평가, 자궁 내 피임 장치의 삽입, 적혈구로 자동화 된 헤모 그램 백혈구 헤모글로빈 헤마토크릿 지수 혈소판 수 및 수동 백혈구 차이, 제왕 절개, 치과 불소 처리, 치과 상담 및 보고서, 치과 수술 절차, 치과 용 엑스레이 비트, 치과 절차를위한 수술 후 치료, 치과 충전재를 사용하여 모든 교두의 커버리지로 치아의 복원, 치과 치료, 치과 치료를위한 환자 진료 의뢰, 치과기구를 사용하여 모든 치아에서 우위 플라크 및 미적분학 제거, 치과기구를 사용하여 모든 치아에서 하위 징징 기형 플라크 및 미적분학 제거, 치은 절제술 또는 치은 치지 성형술, 클라미디아 항원 검사, 탈감작 의료의 치과 적용, 태아 생존력에 대한 초음파 검사, 태아 심장의 청진, 태아 해부학 연구, 포도당에 대한 소변 스크리닝, 표준 임신 검사, 풍진 스크리닝 테스트, 피하 피임약의 삽입, 피하 피임약의 제거, 혈액형 타이핑, 형광을 사용하여 사전 양수 유체 시편에서 염색체 이수성의 검출 현장 하이브리드 화 스크리닝 기술, 환자 건강 설문지 9 항목 점수를 사용한 우울증 스크리닝 있습니다.\n",
            "예시 문서:\n",
            " 만 41세 102.5kg의 환자는 최고 혈압은 140, 최저 혈압은 89, 기저질환은 1 차 치과 충치, 의식 상실없이 뇌진탕, 심한 급성 호흡기 증후군 코로나 바이러스로 인한 질병 2, 당뇨병으로 인한 신장 장애, 급성 기관지염, 급성 바이러스 성 인두염, 만성 신장 질환 단계 1, 필수 고혈압, 뇌의 뇌진탕 손상, 대사 증후군 x, 치은 질병, 바이러스 성 부비동염, 치은염 있습니다. 성별은 여성, 비흡연자 입니다. 치과 치료를위한 환자 진료 의뢰, 치은염를 이유로 sodium fluoride(을/를) 7회 0.0272 mg/mg씩 구강 겔 복용했습니다. 알러지는 없습니다. 수술 이력은 B 형 간염 표면 항원 측정, Bordetella pertussis 및 clostridium tetani 및 Corynebacterium diphtheriae 항원 만 포함하는 백신 제품의 투여, C 형 간염 항체 확인 검사, Gingivae의 검사, Streptococcus pneumoniae Group B 항원 분석, 가정 폭력을위한 선별, 건강 및 사회 복지 요구 평가, 결핵 타인 검사에 대한 피부 검사, 구강 건강 교육, 근육 내 주사, 당뇨병에 대한 소변 검사 검사, 매독 감염성 역가 테스트, 물질 사용의 평가, 복합 치과 충전재의 적용 치아 골절 후 치아의 상아질에 적용, 불안의 평가, 산전 RHD 항체 스크리닝, 세포 병리학 절차 도말 생식기 소스의 준비, 소변 검사 단백질 질적, 소변 문화, 수동 면역, 수두 대기 바이러스 항체의 측정, 신체 검사 절차, 알코올 사용 장애 식별 테스트 - 소비를 사용한 평가, 알파 - 페트로 단백질 검사 - 산전, 약물 남용을위한 선별, 약물 조정, 에스 오토 절개, 우울증 스크리닝, 인간 면역 결핍 바이러스 항원 검사, 임질 감염 역가 검사, 자궁 기본 높이 평가, 자궁 내 피임 장치의 삽입, 적혈구로 자동화 된 헤모 그램 백혈구 헤모글로빈 헤마토크릿 지수 혈소판 수 및 수동 백혈구 차이, 제왕 절개, 치과 불소 처리, 치과 상담 및 보고서, 치과 수술 절차, 치과 용 엑스레이 비트, 치과 절차를위한 수술 후 치료, 치과 충전재를 사용하여 모든 교두의 커버리지로 치아의 복원, 치과 치료, 치과 치료를위한 환자 진료 의뢰, 치과기구를 사용하여 모든 치아에서 우위 플라크 및 미적분학 제거, 치과기구를 사용하여 모든 치아에서 하위 징징 기형 플라크 및 미적분학 제거, 치은 절제술 또는 치은 치지 성형술, 클라미디아 항원 검사, 탈감작 의료의 치과 적용, 태아 생존력에 대한 초음파 검사, 태아 심장의 청진, 태아 해부학 연구, 포도당에 대한 소변 스크리닝, 표준 임신 검사, 풍진 스크리닝 테스트, 피하 피임약의 삽입, 피하 피임약의 제거, 혈액형 타이핑, 형광을 사용하여 사전 양수 유체 시편에서 염색체 이수성의 검출 현장 하이브리드 화 스크리닝 기술, 환자 건강 설문지 9 항목 점수를 사용한 우울증 스크리닝 있습니다.\n",
            "예시 문서:\n",
            " 만 39세 74.1kg의 환자는 최고 혈압은 115, 최저 혈압은 93, 기저질환은 영향을받은 어금니, 의존적 약물 남용, 급성 기관지염, 오라가없는 만성적 인 다루기 어려운 편두통, 과다 복용, 치은 질병, 치은염 있습니다. 성별은 남성, 비흡연자 입니다. 급성 기관지염를 이유로 Acetaminophen(을/를) 2회 325 mg씩 구강 정제 복용했습니다. 알러지는 없습니다. 수술 이력은 Gingivae의 검사, 가래 검사, 가정 폭력을위한 선별, 건강 및 사회 복지 요구 평가, 구강 건강 교육, 불안의 평가, 약물 조정, 우울증 스크리닝, 재활 요법, 치과 불소 처리, 치과 상담 및 보고서, 치과 수술 절차, 치과 용 엑스레이 비트, 치과 절차를위한 수술 후 치료, 치과 치료, 치과 치료를위한 환자 진료 의뢰, 치과기구를 사용하여 모든 치아에서 우위 플라크 및 미적분학 제거, 치과기구를 사용하여 모든 치아에서 하위 징징 기형 플라크 및 미적분학 제거, 치은 절제술 또는 치은 치지 성형술, 탈감작 의료의 치과 적용, 호흡기 기능 측정 있습니다.\n",
            "예시 문서:\n",
            " 만 39세 74.1kg의 환자는 최고 혈압은 115, 최저 혈압은 93, 기저질환은 영향을받은 어금니, 의존적 약물 남용, 급성 기관지염, 오라가없는 만성적 인 다루기 어려운 편두통, 과다 복용, 치은 질병, 치은염 있습니다. 성별은 남성, 비흡연자 입니다. 치은염를 이유로 sodium fluoride(을/를) 1회 0.0272 mg/mg씩 구강 겔 복용했습니다. 알러지는 없습니다. 수술 이력은 Gingivae의 검사, 가래 검사, 가정 폭력을위한 선별, 건강 및 사회 복지 요구 평가, 구강 건강 교육, 불안의 평가, 약물 조정, 우울증 스크리닝, 재활 요법, 치과 불소 처리, 치과 상담 및 보고서, 치과 수술 절차, 치과 용 엑스레이 비트, 치과 절차를위한 수술 후 치료, 치과 치료, 치과 치료를위한 환자 진료 의뢰, 치과기구를 사용하여 모든 치아에서 우위 플라크 및 미적분학 제거, 치과기구를 사용하여 모든 치아에서 하위 징징 기형 플라크 및 미적분학 제거, 치은 절제술 또는 치은 치지 성형술, 탈감작 의료의 치과 적용, 호흡기 기능 측정 있습니다.\n",
            "예시 문서:\n",
            " 만 35세 81.8kg의 환자는 최고 혈압은 113, 최저 혈압은 68, 기저질환은 목에 대한 채찍 부상, 목의 부상, 치은염, 빈혈증 있습니다. 성별은 여성, 비흡연자 입니다.  Ibuprofen(을/를) 2회 200 mg씩 구강 정제 복용했습니다. 알러지는 알레르기 성 배치, 꿀벌 독, 곰팡이, 동물 반드시, 잔디 꽃가루, 나무 꽃가루, 젖소의 우유, 트리 너트 있습니다. 수술 이력은 Gingivae의 검사, 가정 폭력을위한 선별, 간호/보충 감시, 개별화 된 치료 계획의 개발, 건강 및 사회 복지 요구 평가, 구강 건강 교육, 멸균 교육, 물리 치료 절차, 물질 사용의 평가, 병원 퇴원, 불안의 평가, 수술 후 치료, 알코올 사용 장애 식별 테스트 - 소비를 사용한 평가, 약물 남용을위한 선별, 약물 조정, 양측 난관 튜브의 결찰, 언어 및 언어 치료 체제, 역사와 신체 검사, 우울증 스크리닝, 작업 요법, 전문 / 보조 서비스 관리, 전하 전 평가, 초기 환자 평가, 치과 불소 처리, 치과 상담 및 보고서, 치과 치료, 치과 치료를위한 환자 진료 의뢰, 치과기구를 사용하여 모든 치아에서 우위 플라크 및 미적분학 제거, 치과기구를 사용하여 모든 치아에서 하위 징징 기형 플라크 및 미적분학 제거, 치료 체제 평가 있습니다.\n",
            "예시 문서:\n",
            " 만 35세 81.8kg의 환자는 최고 혈압은 113, 최저 혈압은 68, 기저질환은 목에 대한 채찍 부상, 목의 부상, 치은염, 빈혈증 있습니다. 성별은 여성, 비흡연자 입니다.  Jolivette(을/를) 12회 28 day씩 팩 복용했습니다. 알러지는 알레르기 성 배치, 꿀벌 독, 곰팡이, 동물 반드시, 잔디 꽃가루, 나무 꽃가루, 젖소의 우유, 트리 너트 있습니다. 수술 이력은 Gingivae의 검사, 가정 폭력을위한 선별, 간호/보충 감시, 개별화 된 치료 계획의 개발, 건강 및 사회 복지 요구 평가, 구강 건강 교육, 멸균 교육, 물리 치료 절차, 물질 사용의 평가, 병원 퇴원, 불안의 평가, 수술 후 치료, 알코올 사용 장애 식별 테스트 - 소비를 사용한 평가, 약물 남용을위한 선별, 약물 조정, 양측 난관 튜브의 결찰, 언어 및 언어 치료 체제, 역사와 신체 검사, 우울증 스크리닝, 작업 요법, 전문 / 보조 서비스 관리, 전하 전 평가, 초기 환자 평가, 치과 불소 처리, 치과 상담 및 보고서, 치과 치료, 치과 치료를위한 환자 진료 의뢰, 치과기구를 사용하여 모든 치아에서 우위 플라크 및 미적분학 제거, 치과기구를 사용하여 모든 치아에서 하위 징징 기형 플라크 및 미적분학 제거, 치료 체제 평가 있습니다.\n",
            "예시 문서:\n",
            " 만 35세 81.8kg의 환자는 최고 혈압은 113, 최저 혈압은 68, 기저질환은 목에 대한 채찍 부상, 목의 부상, 치은염, 빈혈증 있습니다. 성별은 여성, 비흡연자 입니다.  NDA020800  Epinephrine(을/를) 407회 0.3 ml / 1 mg/ml씩 자동 주사기 복용했습니다. 알러지는 알레르기 성 배치, 꿀벌 독, 곰팡이, 동물 반드시, 잔디 꽃가루, 나무 꽃가루, 젖소의 우유, 트리 너트 있습니다. 수술 이력은 Gingivae의 검사, 가정 폭력을위한 선별, 간호/보충 감시, 개별화 된 치료 계획의 개발, 건강 및 사회 복지 요구 평가, 구강 건강 교육, 멸균 교육, 물리 치료 절차, 물질 사용의 평가, 병원 퇴원, 불안의 평가, 수술 후 치료, 알코올 사용 장애 식별 테스트 - 소비를 사용한 평가, 약물 남용을위한 선별, 약물 조정, 양측 난관 튜브의 결찰, 언어 및 언어 치료 체제, 역사와 신체 검사, 우울증 스크리닝, 작업 요법, 전문 / 보조 서비스 관리, 전하 전 평가, 초기 환자 평가, 치과 불소 처리, 치과 상담 및 보고서, 치과 치료, 치과 치료를위한 환자 진료 의뢰, 치과기구를 사용하여 모든 치아에서 우위 플라크 및 미적분학 제거, 치과기구를 사용하여 모든 치아에서 하위 징징 기형 플라크 및 미적분학 제거, 치료 체제 평가 있습니다.\n",
            "예시 문서:\n",
            " 만 35세 81.8kg의 환자는 최고 혈압은 113, 최저 혈압은 68, 기저질환은 목에 대한 채찍 부상, 목의 부상, 치은염, 빈혈증 있습니다. 성별은 여성, 비흡연자 입니다.  diphenhydrAMINE Hydrochloride(을/를) 407회 25 mg씩 구강 정제 복용했습니다. 알러지는 알레르기 성 배치, 꿀벌 독, 곰팡이, 동물 반드시, 잔디 꽃가루, 나무 꽃가루, 젖소의 우유, 트리 너트 있습니다. 수술 이력은 Gingivae의 검사, 가정 폭력을위한 선별, 간호/보충 감시, 개별화 된 치료 계획의 개발, 건강 및 사회 복지 요구 평가, 구강 건강 교육, 멸균 교육, 물리 치료 절차, 물질 사용의 평가, 병원 퇴원, 불안의 평가, 수술 후 치료, 알코올 사용 장애 식별 테스트 - 소비를 사용한 평가, 약물 남용을위한 선별, 약물 조정, 양측 난관 튜브의 결찰, 언어 및 언어 치료 체제, 역사와 신체 검사, 우울증 스크리닝, 작업 요법, 전문 / 보조 서비스 관리, 전하 전 평가, 초기 환자 평가, 치과 불소 처리, 치과 상담 및 보고서, 치과 치료, 치과 치료를위한 환자 진료 의뢰, 치과기구를 사용하여 모든 치아에서 우위 플라크 및 미적분학 제거, 치과기구를 사용하여 모든 치아에서 하위 징징 기형 플라크 및 미적분학 제거, 치료 체제 평가 있습니다.\n",
            "예시 문서:\n",
            " 만 35세 81.8kg의 환자는 최고 혈압은 113, 최저 혈압은 68, 기저질환은 목에 대한 채찍 부상, 목의 부상, 치은염, 빈혈증 있습니다. 성별은 여성, 비흡연자 입니다. 치과 치료를위한 환자 진료 의뢰를 이유로 sodium fluoride(을/를) 1회 0.0272 mg/mg씩 구강 겔 복용했습니다. 알러지는 알레르기 성 배치, 꿀벌 독, 곰팡이, 동물 반드시, 잔디 꽃가루, 나무 꽃가루, 젖소의 우유, 트리 너트 있습니다. 수술 이력은 Gingivae의 검사, 가정 폭력을위한 선별, 간호/보충 감시, 개별화 된 치료 계획의 개발, 건강 및 사회 복지 요구 평가, 구강 건강 교육, 멸균 교육, 물리 치료 절차, 물질 사용의 평가, 병원 퇴원, 불안의 평가, 수술 후 치료, 알코올 사용 장애 식별 테스트 - 소비를 사용한 평가, 약물 남용을위한 선별, 약물 조정, 양측 난관 튜브의 결찰, 언어 및 언어 치료 체제, 역사와 신체 검사, 우울증 스크리닝, 작업 요법, 전문 / 보조 서비스 관리, 전하 전 평가, 초기 환자 평가, 치과 불소 처리, 치과 상담 및 보고서, 치과 치료, 치과 치료를위한 환자 진료 의뢰, 치과기구를 사용하여 모든 치아에서 우위 플라크 및 미적분학 제거, 치과기구를 사용하여 모든 치아에서 하위 징징 기형 플라크 및 미적분학 제거, 치료 체제 평가 있습니다.\n",
            "예시 문서:\n",
            " 만 49세 88.1kg의 환자는 최고 혈압은 106, 최저 혈압은 69, 기저질환은 1 차 치과 충치, 급성 바이러스 성 인두염, 빈혈증, 만성 폐쇄성 기관지염, 오피오이드 남용, 치은 질병, 바이러스 성 부비동염, 치은염 있습니다. 성별은 남성, 비흡연자 입니다. 만성 폐쇄성 기관지염를 이유로 Fluticasone propionate, salmeterol  Dry Powder(을/를) 118회 60 actuat / 0.25 mg/actuat, 0.05 mg/actuat씩 흡입기 복용했습니다. 알러지는 없습니다. 수술 이력은 Gingivae의 검사, 간단한 일반 검사, 건강 및 사회 복지 요구 평가, 구강 건강 교육, 말초 혈액 도말 해석, 목구멍 문화, 복합 치과 충전재의 적용 치아 골절 후 치아의 상아질에 적용, 불안의 평가, 시스템 검토, 약물 조정, 우울증 스크리닝, 치과 불소 처리, 치과 상담 및 보고서, 치과 수술 절차, 치과 용 엑스레이 비트, 치과 절차를위한 수술 후 치료, 치과 치료, 치과 치료를위한 환자 진료 의뢰, 치과기구를 사용하여 모든 치아에서 우위 플라크 및 미적분학 제거, 치과기구를 사용하여 모든 치아에서 하위 징징 기형 플라크 및 미적분학 제거, 치은 절제술 또는 치은 치지 성형술, 탈감작 의료의 치과 적용, 폐활량 측정, 환자 건강 설문지 9 항목 점수를 사용한 우울증 스크리닝 있습니다.\n",
            "예시 문서:\n",
            " 만 49세 88.1kg의 환자는 최고 혈압은 106, 최저 혈압은 69, 기저질환은 1 차 치과 충치, 급성 바이러스 성 인두염, 빈혈증, 만성 폐쇄성 기관지염, 오피오이드 남용, 치은 질병, 바이러스 성 부비동염, 치은염 있습니다. 성별은 남성, 비흡연자 입니다.  Fentanyl(을/를) 36회 72 hr / 0.025 mg/hr씩 경피 시스템 복용했습니다. 알러지는 없습니다. 수술 이력은 Gingivae의 검사, 간단한 일반 검사, 건강 및 사회 복지 요구 평가, 구강 건강 교육, 말초 혈액 도말 해석, 목구멍 문화, 복합 치과 충전재의 적용 치아 골절 후 치아의 상아질에 적용, 불안의 평가, 시스템 검토, 약물 조정, 우울증 스크리닝, 치과 불소 처리, 치과 상담 및 보고서, 치과 수술 절차, 치과 용 엑스레이 비트, 치과 절차를위한 수술 후 치료, 치과 치료, 치과 치료를위한 환자 진료 의뢰, 치과기구를 사용하여 모든 치아에서 우위 플라크 및 미적분학 제거, 치과기구를 사용하여 모든 치아에서 하위 징징 기형 플라크 및 미적분학 제거, 치은 절제술 또는 치은 치지 성형술, 탈감작 의료의 치과 적용, 폐활량 측정, 환자 건강 설문지 9 항목 점수를 사용한 우울증 스크리닝 있습니다.\n",
            "예시 문서:\n",
            " 만 49세 88.1kg의 환자는 최고 혈압은 106, 최저 혈압은 69, 기저질환은 1 차 치과 충치, 급성 바이러스 성 인두염, 빈혈증, 만성 폐쇄성 기관지염, 오피오이드 남용, 치은 질병, 바이러스 성 부비동염, 치은염 있습니다. 성별은 남성, 비흡연자 입니다.  Acetaminophen, Hydrocodone Bitartrate(을/를) 36회 300 mg, 5 mg씩 구강 정제 복용했습니다. 알러지는 없습니다. 수술 이력은 Gingivae의 검사, 간단한 일반 검사, 건강 및 사회 복지 요구 평가, 구강 건강 교육, 말초 혈액 도말 해석, 목구멍 문화, 복합 치과 충전재의 적용 치아 골절 후 치아의 상아질에 적용, 불안의 평가, 시스템 검토, 약물 조정, 우울증 스크리닝, 치과 불소 처리, 치과 상담 및 보고서, 치과 수술 절차, 치과 용 엑스레이 비트, 치과 절차를위한 수술 후 치료, 치과 치료, 치과 치료를위한 환자 진료 의뢰, 치과기구를 사용하여 모든 치아에서 우위 플라크 및 미적분학 제거, 치과기구를 사용하여 모든 치아에서 하위 징징 기형 플라크 및 미적분학 제거, 치은 절제술 또는 치은 치지 성형술, 탈감작 의료의 치과 적용, 폐활량 측정, 환자 건강 설문지 9 항목 점수를 사용한 우울증 스크리닝 있습니다.\n",
            "예시 문서:\n",
            " 만 49세 88.1kg의 환자는 최고 혈압은 106, 최저 혈압은 69, 기저질환은 1 차 치과 충치, 급성 바이러스 성 인두염, 빈혈증, 만성 폐쇄성 기관지염, 오피오이드 남용, 치은 질병, 바이러스 성 부비동염, 치은염 있습니다. 성별은 남성, 비흡연자 입니다. 만성 폐쇄성 기관지염를 이유로 albuterol(을/를) 39회 5 mg/ml씩 흡입 솔루션 복용했습니다. 알러지는 없습니다. 수술 이력은 Gingivae의 검사, 간단한 일반 검사, 건강 및 사회 복지 요구 평가, 구강 건강 교육, 말초 혈액 도말 해석, 목구멍 문화, 복합 치과 충전재의 적용 치아 골절 후 치아의 상아질에 적용, 불안의 평가, 시스템 검토, 약물 조정, 우울증 스크리닝, 치과 불소 처리, 치과 상담 및 보고서, 치과 수술 절차, 치과 용 엑스레이 비트, 치과 절차를위한 수술 후 치료, 치과 치료, 치과 치료를위한 환자 진료 의뢰, 치과기구를 사용하여 모든 치아에서 우위 플라크 및 미적분학 제거, 치과기구를 사용하여 모든 치아에서 하위 징징 기형 플라크 및 미적분학 제거, 치은 절제술 또는 치은 치지 성형술, 탈감작 의료의 치과 적용, 폐활량 측정, 환자 건강 설문지 9 항목 점수를 사용한 우울증 스크리닝 있습니다.\n",
            "예시 문서:\n",
            " 만 49세 88.1kg의 환자는 최고 혈압은 106, 최저 혈압은 69, 기저질환은 1 차 치과 충치, 급성 바이러스 성 인두염, 빈혈증, 만성 폐쇄성 기관지염, 오피오이드 남용, 치은 질병, 바이러스 성 부비동염, 치은염 있습니다. 성별은 남성, 비흡연자 입니다. 오피오이드 남용를 이유로 buprenorphine, naloxone(을/를) 36회 2 mg, 0.5 mg씩 설하 태블릿 복용했습니다. 알러지는 없습니다. 수술 이력은 Gingivae의 검사, 간단한 일반 검사, 건강 및 사회 복지 요구 평가, 구강 건강 교육, 말초 혈액 도말 해석, 목구멍 문화, 복합 치과 충전재의 적용 치아 골절 후 치아의 상아질에 적용, 불안의 평가, 시스템 검토, 약물 조정, 우울증 스크리닝, 치과 불소 처리, 치과 상담 및 보고서, 치과 수술 절차, 치과 용 엑스레이 비트, 치과 절차를위한 수술 후 치료, 치과 치료, 치과 치료를위한 환자 진료 의뢰, 치과기구를 사용하여 모든 치아에서 우위 플라크 및 미적분학 제거, 치과기구를 사용하여 모든 치아에서 하위 징징 기형 플라크 및 미적분학 제거, 치은 절제술 또는 치은 치지 성형술, 탈감작 의료의 치과 적용, 폐활량 측정, 환자 건강 설문지 9 항목 점수를 사용한 우울증 스크리닝 있습니다.\n",
            "예시 문서:\n",
            " 만 49세 88.1kg의 환자는 최고 혈압은 106, 최저 혈압은 69, 기저질환은 1 차 치과 충치, 급성 바이러스 성 인두염, 빈혈증, 만성 폐쇄성 기관지염, 오피오이드 남용, 치은 질병, 바이러스 성 부비동염, 치은염 있습니다. 성별은 남성, 비흡연자 입니다. 치과 치료를위한 환자 진료 의뢰, 치은염를 이유로 sodium fluoride(을/를) 3회 0.0272 mg/mg씩 구강 겔 복용했습니다. 알러지는 없습니다. 수술 이력은 Gingivae의 검사, 간단한 일반 검사, 건강 및 사회 복지 요구 평가, 구강 건강 교육, 말초 혈액 도말 해석, 목구멍 문화, 복합 치과 충전재의 적용 치아 골절 후 치아의 상아질에 적용, 불안의 평가, 시스템 검토, 약물 조정, 우울증 스크리닝, 치과 불소 처리, 치과 상담 및 보고서, 치과 수술 절차, 치과 용 엑스레이 비트, 치과 절차를위한 수술 후 치료, 치과 치료, 치과 치료를위한 환자 진료 의뢰, 치과기구를 사용하여 모든 치아에서 우위 플라크 및 미적분학 제거, 치과기구를 사용하여 모든 치아에서 하위 징징 기형 플라크 및 미적분학 제거, 치은 절제술 또는 치은 치지 성형술, 탈감작 의료의 치과 적용, 폐활량 측정, 환자 건강 설문지 9 항목 점수를 사용한 우울증 스크리닝 있습니다.\n",
            "예시 문서:\n",
            " 만 38세 93.5kg의 환자는 최고 혈압은 112, 최저 혈압은 73, 기저질환은 갈비뼈의 골절, 급성 기관지염, 급성 바이러스 성 인두염, 치은 질병, 바이러스 성 부비동염, 치은염, 뼈의 골절 있습니다. 성별은 남성, 비흡연자 입니다. 급성 기관지염를 이유로 Acetaminophen(을/를) 1회 325 mg씩 구강 정제 복용했습니다. 알러지는 알레르기 성 배치, 곰팡이, 집 먼지 진드기, 동물 반드시, 나무 꽃가루, 리 시노 프릴, 아스피린, 글리신 맥스, 계란 있습니다. 수술 이력은 Gingivae의 검사, 가슴의 평범한 엑스레이, 가정 폭력을위한 선별, 건강 및 사회 복지 요구 평가, 구강 건강 교육, 물질 사용의 평가, 불안의 평가, 뼈 고정, 알코올 사용 장애 식별 테스트 - 소비를 사용한 평가, 약물 남용을위한 선별, 약물 조정, 우울증 스크리닝, 치과 불소 처리, 치과 상담 및 보고서, 치과 수술 절차, 치과 용 엑스레이 비트, 치과 절차를위한 수술 후 치료, 치과 충전재를 사용하여 모든 교두의 커버리지로 치아의 복원, 치과 치료, 치과 치료를위한 환자 진료 의뢰, 치과기구를 사용하여 모든 치아에서 우위 플라크 및 미적분학 제거, 치과기구를 사용하여 모든 치아에서 하위 징징 기형 플라크 및 미적분학 제거, 치은 절제술 또는 치은 치지 성형술, 탈감작 의료의 치과 적용, 호흡기 기능 측정 있습니다.\n",
            "예시 문서:\n",
            " 만 38세 93.5kg의 환자는 최고 혈압은 112, 최저 혈압은 73, 기저질환은 갈비뼈의 골절, 급성 기관지염, 급성 바이러스 성 인두염, 치은 질병, 바이러스 성 부비동염, 치은염, 뼈의 골절 있습니다. 성별은 남성, 비흡연자 입니다. 바이러스 성 부비동염를 이유로 Amoxicillin, Clavulanate(을/를) 1회 250 mg, 125 mg씩 구강 정제 복용했습니다. 알러지는 알레르기 성 배치, 곰팡이, 집 먼지 진드기, 동물 반드시, 나무 꽃가루, 리 시노 프릴, 아스피린, 글리신 맥스, 계란 있습니다. 수술 이력은 Gingivae의 검사, 가슴의 평범한 엑스레이, 가정 폭력을위한 선별, 건강 및 사회 복지 요구 평가, 구강 건강 교육, 물질 사용의 평가, 불안의 평가, 뼈 고정, 알코올 사용 장애 식별 테스트 - 소비를 사용한 평가, 약물 남용을위한 선별, 약물 조정, 우울증 스크리닝, 치과 불소 처리, 치과 상담 및 보고서, 치과 수술 절차, 치과 용 엑스레이 비트, 치과 절차를위한 수술 후 치료, 치과 충전재를 사용하여 모든 교두의 커버리지로 치아의 복원, 치과 치료, 치과 치료를위한 환자 진료 의뢰, 치과기구를 사용하여 모든 치아에서 우위 플라크 및 미적분학 제거, 치과기구를 사용하여 모든 치아에서 하위 징징 기형 플라크 및 미적분학 제거, 치은 절제술 또는 치은 치지 성형술, 탈감작 의료의 치과 적용, 호흡기 기능 측정 있습니다.\n",
            "예시 문서:\n",
            " 만 38세 93.5kg의 환자는 최고 혈압은 112, 최저 혈압은 73, 기저질환은 갈비뼈의 골절, 급성 기관지염, 급성 바이러스 성 인두염, 치은 질병, 바이러스 성 부비동염, 치은염, 뼈의 골절 있습니다. 성별은 남성, 비흡연자 입니다.  Chlorpheniramine Maleate  Oral(을/를) 460회 2 mg/ml씩 해결책 복용했습니다. 알러지는 알레르기 성 배치, 곰팡이, 집 먼지 진드기, 동물 반드시, 나무 꽃가루, 리 시노 프릴, 아스피린, 글리신 맥스, 계란 있습니다. 수술 이력은 Gingivae의 검사, 가슴의 평범한 엑스레이, 가정 폭력을위한 선별, 건강 및 사회 복지 요구 평가, 구강 건강 교육, 물질 사용의 평가, 불안의 평가, 뼈 고정, 알코올 사용 장애 식별 테스트 - 소비를 사용한 평가, 약물 남용을위한 선별, 약물 조정, 우울증 스크리닝, 치과 불소 처리, 치과 상담 및 보고서, 치과 수술 절차, 치과 용 엑스레이 비트, 치과 절차를위한 수술 후 치료, 치과 충전재를 사용하여 모든 교두의 커버리지로 치아의 복원, 치과 치료, 치과 치료를위한 환자 진료 의뢰, 치과기구를 사용하여 모든 치아에서 우위 플라크 및 미적분학 제거, 치과기구를 사용하여 모든 치아에서 하위 징징 기형 플라크 및 미적분학 제거, 치은 절제술 또는 치은 치지 성형술, 탈감작 의료의 치과 적용, 호흡기 기능 측정 있습니다.\n",
            "예시 문서:\n",
            " 만 38세 93.5kg의 환자는 최고 혈압은 112, 최저 혈압은 73, 기저질환은 갈비뼈의 골절, 급성 기관지염, 급성 바이러스 성 인두염, 치은 질병, 바이러스 성 부비동염, 치은염, 뼈의 골절 있습니다. 성별은 남성, 비흡연자 입니다.  Ibuprofen(을/를) 39회 400 mg씩 구강 정제 복용했습니다. 알러지는 알레르기 성 배치, 곰팡이, 집 먼지 진드기, 동물 반드시, 나무 꽃가루, 리 시노 프릴, 아스피린, 글리신 맥스, 계란 있습니다. 수술 이력은 Gingivae의 검사, 가슴의 평범한 엑스레이, 가정 폭력을위한 선별, 건강 및 사회 복지 요구 평가, 구강 건강 교육, 물질 사용의 평가, 불안의 평가, 뼈 고정, 알코올 사용 장애 식별 테스트 - 소비를 사용한 평가, 약물 남용을위한 선별, 약물 조정, 우울증 스크리닝, 치과 불소 처리, 치과 상담 및 보고서, 치과 수술 절차, 치과 용 엑스레이 비트, 치과 절차를위한 수술 후 치료, 치과 충전재를 사용하여 모든 교두의 커버리지로 치아의 복원, 치과 치료, 치과 치료를위한 환자 진료 의뢰, 치과기구를 사용하여 모든 치아에서 우위 플라크 및 미적분학 제거, 치과기구를 사용하여 모든 치아에서 하위 징징 기형 플라크 및 미적분학 제거, 치은 절제술 또는 치은 치지 성형술, 탈감작 의료의 치과 적용, 호흡기 기능 측정 있습니다.\n"
          ]
        }
      ]
    },
    {
      "cell_type": "code",
      "source": [
        "import numpy as np\n",
        "\n",
        "# 각 문서의 문자열 길이 측정\n",
        "lengths = [len(doc.page_content) for doc in merged_docs]\n",
        "\n",
        "# 통계 계산\n",
        "avg_len = np.mean(lengths)\n",
        "median_len = np.median(lengths)\n",
        "min_len = np.min(lengths)\n",
        "max_len = np.max(lengths)\n",
        "\n",
        "# 출력\n",
        "print(\"총 문서 수:\", len(lengths))\n",
        "print(f\"평균 문자열 길이: {avg_len:.2f}\")\n",
        "print(f\"중앙값 문자열 길이: {median_len}\")\n",
        "print(f\"최소 문자열 길이: {min_len}\")\n",
        "print(f\"최대 문자열 길이: {max_len}\")\n"
      ],
      "metadata": {
        "colab": {
          "base_uri": "https://localhost:8080/"
        },
        "id": "S4w_qJH_idh7",
        "outputId": "8ddea837-b270-48e0-9d5c-868d5d424d5a"
      },
      "execution_count": null,
      "outputs": [
        {
          "output_type": "stream",
          "name": "stdout",
          "text": [
            "총 문서 수: 8166\n",
            "평균 문자열 길이: 912.91\n",
            "중앙값 문자열 길이: 889.0\n",
            "최소 문자열 길이: 114\n",
            "최대 문자열 길이: 1804\n"
          ]
        }
      ]
    },
    {
      "cell_type": "markdown",
      "source": [
        "## Chunking 작업"
      ],
      "metadata": {
        "id": "u5DoSL_nAA6e"
      }
    },
    {
      "cell_type": "code",
      "source": [
        "from langchain.text_splitter import RecursiveCharacterTextSplitter\n",
        "\n",
        "# Splitter 설정\n",
        "text_splitter = RecursiveCharacterTextSplitter(\n",
        "    chunk_size=2000,\n",
        "    chunk_overlap=0,\n",
        ")\n",
        "\n",
        "# 실제 split\n",
        "splits = text_splitter.split_documents(merged_docs)\n",
        "\n",
        "# 결과 출력\n",
        "print(\"Splits:\", len(splits))\n"
      ],
      "metadata": {
        "colab": {
          "base_uri": "https://localhost:8080/"
        },
        "id": "GscosMzbKEB8",
        "outputId": "1a2b5c2a-08c8-4dbf-d4fb-11d22a6a6516"
      },
      "execution_count": null,
      "outputs": [
        {
          "output_type": "stream",
          "name": "stdout",
          "text": [
            "Splits: 8166\n"
          ]
        }
      ]
    },
    {
      "cell_type": "code",
      "source": [
        "import pickle\n",
        "\n",
        "# Split 저장\n",
        "with open(\"splits.pkl\", \"wb\") as f:\n",
        "    pickle.dump(splits, f)\n",
        "\n",
        "print(\"✅ splits.pkl 파일로 저장 완료!\")\n"
      ],
      "metadata": {
        "colab": {
          "base_uri": "https://localhost:8080/"
        },
        "id": "HWpIQOD_1rXp",
        "outputId": "8343230d-dfb1-4b02-e061-eb7f9b557621"
      },
      "execution_count": null,
      "outputs": [
        {
          "output_type": "stream",
          "name": "stdout",
          "text": [
            "✅ splits.pkl 파일로 저장 완료!\n"
          ]
        }
      ]
    },
    {
      "cell_type": "code",
      "source": [
        "import pickle\n",
        "\n",
        "# Split 로드\n",
        "with open(\"splits.pkl\", \"rb\") as f:\n",
        "    splits = pickle.load(f)\n",
        "\n",
        "print(\"✅ splits.pkl 파일에서 splits 로드 완료!\")\n",
        "print(\"Splits 개수:\", len(splits))\n"
      ],
      "metadata": {
        "colab": {
          "base_uri": "https://localhost:8080/"
        },
        "id": "gucqxh1f1yMJ",
        "outputId": "f2f5f97e-5f7a-45c5-ba83-eb30a8d1485f"
      },
      "execution_count": null,
      "outputs": [
        {
          "output_type": "stream",
          "name": "stdout",
          "text": [
            "✅ splits.pkl 파일에서 splits 로드 완료!\n",
            "Splits 개수: 8166\n"
          ]
        }
      ]
    },
    {
      "cell_type": "markdown",
      "source": [
        "### Plot 시각화"
      ],
      "metadata": {
        "id": "mBEbWw6ABJH7"
      }
    },
    {
      "cell_type": "code",
      "source": [
        "# 시각화\n",
        "import matplotlib.pyplot as plt\n",
        "\n",
        "split_lengths = [len(split.page_content) for split in splits]\n",
        "\n",
        "plt.bar(range(len(split_lengths)), split_lengths)\n",
        "plt.title(\"RecursiveCharacterTextSplitter\")\n",
        "plt.xlabel(\"Split Index\")\n",
        "plt.ylabel(\"Split Content Length\")\n",
        "plt.xticks(range(len(split_lengths)), [])\n",
        "plt.show()"
      ],
      "metadata": {
        "colab": {
          "base_uri": "https://localhost:8080/",
          "height": 458
        },
        "id": "bnu1vgUCBE-v",
        "outputId": "1442a484-4e9f-4149-9b7b-b8a179b665e8"
      },
      "execution_count": null,
      "outputs": [
        {
          "output_type": "display_data",
          "data": {
            "text/plain": [
              "<Figure size 640x480 with 1 Axes>"
            ],
            "image/png": "[encoded data removed]"
          },
          "metadata": {}
        }
      ]
    },
    {
      "cell_type": "markdown",
      "source": [
        "## Vector DB 저장"
      ],
      "metadata": {
        "id": "VELHS6FKBUTX"
      }
    },
    {
      "cell_type": "code",
      "source": [
        "!pip install httpx==0.24.1"
      ],
      "metadata": {
        "colab": {
          "base_uri": "https://localhost:8080/",
          "height": 718
        },
        "id": "AyCPQ3l8xp7L",
        "outputId": "50788695-154e-4695-ef4d-104ba7bc248f"
      },
      "execution_count": null,
      "outputs": [
        {
          "output_type": "stream",
          "name": "stdout",
          "text": [
            "Collecting httpx==0.24.1\n",
            "  Using cached httpx-0.24.1-py3-none-any.whl.metadata (7.4 kB)\n",
            "Requirement already satisfied: certifi in /usr/local/lib/python3.11/dist-packages (from httpx==0.24.1) (2025.6.15)\n",
            "Collecting httpcore<0.18.0,>=0.15.0 (from httpx==0.24.1)\n",
            "  Using cached httpcore-0.17.3-py3-none-any.whl.metadata (18 kB)\n",
            "Requirement already satisfied: idna in /usr/local/lib/python3.11/dist-packages (from httpx==0.24.1) (2.10)\n",
            "Requirement already satisfied: sniffio in /usr/local/lib/python3.11/dist-packages (from httpx==0.24.1) (1.3.1)\n",
            "Collecting h11<0.15,>=0.13 (from httpcore<0.18.0,>=0.15.0->httpx==0.24.1)\n",
            "  Using cached h11-0.14.0-py3-none-any.whl.metadata (8.2 kB)\n",
            "Requirement already satisfied: anyio<5.0,>=3.0 in /usr/local/lib/python3.11/dist-packages (from httpcore<0.18.0,>=0.15.0->httpx==0.24.1) (4.9.0)\n",
            "Requirement already satisfied: typing_extensions>=4.5 in /usr/local/lib/python3.11/dist-packages (from anyio<5.0,>=3.0->httpcore<0.18.0,>=0.15.0->httpx==0.24.1) (4.14.0)\n",
            "Using cached httpx-0.24.1-py3-none-any.whl (75 kB)\n",
            "Using cached httpcore-0.17.3-py3-none-any.whl (74 kB)\n",
            "Using cached h11-0.14.0-py3-none-any.whl (58 kB)\n",
            "Installing collected packages: h11, httpcore, httpx\n",
            "  Attempting uninstall: h11\n",
            "    Found existing installation: h11 0.9.0\n",
            "    Uninstalling h11-0.9.0:\n",
            "      Successfully uninstalled h11-0.9.0\n",
            "  Attempting uninstall: httpcore\n",
            "    Found existing installation: httpcore 0.9.1\n",
            "    Uninstalling httpcore-0.9.1:\n",
            "      Successfully uninstalled httpcore-0.9.1\n",
            "  Attempting uninstall: httpx\n",
            "    Found existing installation: httpx 0.13.3\n",
            "    Uninstalling httpx-0.13.3:\n",
            "      Successfully uninstalled httpx-0.13.3\n",
            "\u001b[31mERROR: pip's dependency resolver does not currently take into account all the packages that are installed. This behaviour is the source of the following dependency conflicts.\n",
            "googletrans 4.0.0rc1 requires httpx==0.13.3, but you have httpx 0.24.1 which is incompatible.\n",
            "chromadb 1.0.15 requires httpx>=0.27.0, but you have httpx 0.24.1 which is incompatible.\n",
            "google-genai 1.23.0 requires httpx<1.0.0,>=0.28.1, but you have httpx 0.24.1 which is incompatible.\n",
            "firebase-admin 6.9.0 requires httpx[http2]==0.28.1, but you have httpx 0.24.1 which is incompatible.\u001b[0m\u001b[31m\n",
            "\u001b[0mSuccessfully installed h11-0.14.0 httpcore-0.17.3 httpx-0.24.1\n"
          ]
        },
        {
          "output_type": "display_data",
          "data": {
            "application/vnd.colab-display-data+json": {
              "pip_warning": {
                "packages": [
                  "h11",
                  "httpcore",
                  "httpx"
                ]
              },
              "id": "a28c678673e046688c280108229abac0"
            }
          },
          "metadata": {}
        }
      ]
    },
    {
      "cell_type": "code",
      "source": [
        "from langchain_chroma import Chroma\n",
        "from langchain_upstage import UpstageEmbeddings\n",
        "from langchain.docstore.document import Document"
      ],
      "metadata": {
        "id": "7ddlfhFr-9GV"
      },
      "execution_count": null,
      "outputs": []
    },
    {
      "cell_type": "code",
      "source": [
        "import time\n",
        "\n",
        "# 1️⃣ Embeddings 객체 선언\n",
        "embeddings = UpstageEmbeddings(model=\"embedding-query\")\n",
        "\n",
        "batch_size = 100  # 한 번에 처리할 문서 수\n",
        "\n",
        "for i in range(0, len(splits), batch_size):\n",
        "    batch = splits[i:i+batch_size]\n",
        "    try:\n",
        "        vectorstore = Chroma.from_documents(\n",
        "            documents=batch,\n",
        "            embedding=embeddings,\n",
        "            persist_directory=\"./chroma_db1\"\n",
        "        )\n",
        "    except Exception as e:\n",
        "        print(f\"Batch {i//batch_size + 1} 처리 중 오류 발생:\", e)\n",
        "        time.sleep(60)  # Rate limit 회피를 위해 잠시 대기\n"
      ],
      "metadata": {
        "id": "837B16Q4Czuq"
      },
      "execution_count": null,
      "outputs": []
    },
    {
      "cell_type": "code",
      "source": [
        "# @title zip으로 압축/저장\n",
        "!zip -r /content/chroma_db.zip /content/chroma_db1"
      ],
      "metadata": {
        "colab": {
          "base_uri": "https://localhost:8080/"
        },
        "id": "i2Qef11J3g26",
        "outputId": "2570c358-3cee-425b-cbc3-6fa2f4f4bed7"
      },
      "execution_count": null,
      "outputs": [
        {
          "output_type": "stream",
          "name": "stdout",
          "text": [
            "  adding: content/chroma_db1/ (stored 0%)\n",
            "  adding: content/chroma_db1/chroma.sqlite3 (deflated 73%)\n",
            "  adding: content/chroma_db1/fe3314cf-1083-48d1-82f5-b6d5483858d3/ (stored 0%)\n",
            "  adding: content/chroma_db1/fe3314cf-1083-48d1-82f5-b6d5483858d3/header.bin (deflated 55%)\n",
            "  adding: content/chroma_db1/fe3314cf-1083-48d1-82f5-b6d5483858d3/data_level0.bin (deflated 53%)\n",
            "  adding: content/chroma_db1/fe3314cf-1083-48d1-82f5-b6d5483858d3/length.bin (deflated 100%)\n",
            "  adding: content/chroma_db1/fe3314cf-1083-48d1-82f5-b6d5483858d3/link_lists.bin (deflated 80%)\n",
            "  adding: content/chroma_db1/fe3314cf-1083-48d1-82f5-b6d5483858d3/index_metadata.pickle (deflated 45%)\n"
          ]
        }
      ]
    },
    {
      "cell_type": "markdown",
      "source": [
        "# Vector DB 로드"
      ],
      "metadata": {
        "id": "Z-1NNe3edXDv"
      }
    },
    {
      "cell_type": "code",
      "source": [
        "# @title 압축 풀기\n",
        "!unzip /content/chroma_db.zip -d ./"
      ],
      "metadata": {
        "colab": {
          "base_uri": "https://localhost:8080/"
        },
        "id": "GR1Xfs33fbtb",
        "outputId": "cc84e909-157a-44f7-a4cf-81089a48510d"
      },
      "execution_count": null,
      "outputs": [
        {
          "output_type": "stream",
          "name": "stdout",
          "text": [
            "Archive:  /content/chroma_db.zip\n",
            "   creating: /content/chroma_db/content/chroma_db/content/chroma_db/\n",
            "  inflating: /content/chroma_db/content/chroma_db/content/chroma_db/chroma.sqlite3  \n",
            "   creating: /content/chroma_db/content/chroma_db/content/chroma_db/0b73a7ae-b747-4a33-bb10-4a03fb090c54/\n",
            "  inflating: /content/chroma_db/content/chroma_db/content/chroma_db/0b73a7ae-b747-4a33-bb10-4a03fb090c54/length.bin  \n",
            "  inflating: /content/chroma_db/content/chroma_db/content/chroma_db/0b73a7ae-b747-4a33-bb10-4a03fb090c54/index_metadata.pickle  \n",
            "  inflating: /content/chroma_db/content/chroma_db/content/chroma_db/0b73a7ae-b747-4a33-bb10-4a03fb090c54/data_level0.bin  \n",
            "  inflating: /content/chroma_db/content/chroma_db/content/chroma_db/0b73a7ae-b747-4a33-bb10-4a03fb090c54/link_lists.bin  \n",
            "  inflating: /content/chroma_db/content/chroma_db/content/chroma_db/0b73a7ae-b747-4a33-bb10-4a03fb090c54/header.bin  \n"
          ]
        }
      ]
    },
    {
      "cell_type": "code",
      "source": [
        "from langchain_chroma import Chroma\n",
        "from langchain_upstage import UpstageEmbeddings\n",
        "from langchain.docstore.document import Document\n",
        "\n",
        "# 1️⃣ Embeddings 객체 선언\n",
        "embeddings = UpstageEmbeddings(model=\"embedding-query\")\n",
        "\n",
        "vectorstore = Chroma(\n",
        "    persist_directory=\"/content/chroma_db/content/chroma_db\",\n",
        "    embedding_function=embeddings\n",
        ")"
      ],
      "metadata": {
        "id": "TwZLwE2zn0_w"
      },
      "execution_count": null,
      "outputs": []
    },
    {
      "cell_type": "markdown",
      "source": [
        "# LLM 생성"
      ],
      "metadata": {
        "id": "kp81DqS3ECOq"
      }
    },
    {
      "cell_type": "code",
      "source": [
        "# ✅ 사용자의 한국어 질문 예시\n",
        "query = \"환자가 심장이 아프다고 하는데, 어떤 약물을 투약해야 돼?\"\n",
        "\n",
        "# ✅ Dense Retriever 생성\n",
        "retriever = vectorstore.as_retriever(\n",
        "    search_type=\"mmr\",\n",
        "    search_kwargs={\"k\": 5},\n",
        ")\n",
        "\n",
        "## similarity\n",
        "# retriever = vectorstore.as_retriever(\n",
        "#     search_type=\"similarity_score_threshold\",\n",
        "#     search_kwargs={\"k\": 5, \"score_threshold\": 0.1},\n",
        "# )\n",
        "\n",
        "# print(retriever)\n",
        "\n",
        "results = vectorstore.similarity_search_with_score(query, k=5)\n",
        "\n",
        "for doc, score in results:\n",
        "    print(f\"Score: {score}\")\n",
        "    print(f\"Content: {doc.page_content}\")\n",
        "    print(\"-\" * 30)\n",
        "\n",
        "# ✅ 검색된 문서 가져오기\n",
        "docs = retriever.invoke(query)\n",
        "\n",
        "# ✅ 한국어 system 프롬프트 정의\n",
        "from langchain_upstage import ChatUpstage\n",
        "from langchain_core.prompts import ChatPromptTemplate\n",
        "from langchain_core.output_parsers import StrOutputParser\n",
        "\n",
        "llm = ChatUpstage()\n",
        "\n",
        "prompt = ChatPromptTemplate.from_messages(\n",
        "    [\n",
        "        (\n",
        "            \"system\",\n",
        "            \"\"\"\n",
        "            당신은 환자 정보 기반으로 약물 투여를 제안하는 한국어 의료 AI 어시스턴트입니다.\n",
        "\n",
        "            아래 CONTEXT는 하나의 통합된 환자 사례 정보로 제공됩니다. 이 정보를 참고하여 전문 의료진에게 전달할 수 있도록 간결하고 핵심적으로 요약해 주세요.\n",
        "\n",
        "            - CONTEXT에 포함되지 않은 내용은 절대 작성하지 마세요. 모르면 \"모른다\"고 명확히 답변하세요.\n",
        "            - 의료진이 빠르게 참고할 수 있도록 문단 형태로 정리하며, 불필요한 수식어는 생략하고 중요한 핵심 정보만 포함하세요.\n",
        "            - 투약 권장 시, 환자의 기본 정보, 진단 질병, 바이탈/검사 결과, 기존 투약 기록, 알러지 정보를 함께 고려해 주세요.\n",
        "            - 환자 ID는 CONTEXT 상단에 이미 명시되어 있으므로 다시 반복하지 마세요.\n",
        "\n",
        "            간결하고 전문적인 톤으로 작성하며, 필요 시 투약 제안 및 주의사항도 포함하세요.\n",
        "            ---\n",
        "            CONTEXT:\n",
        "            {context}\n",
        "            \"\"\",\n",
        "        ),\n",
        "        (\"human\", \"{input}\"),\n",
        "    ]\n",
        ")\n",
        "\n",
        "# ✅ LLM chain 구성\n",
        "chain = prompt | llm | StrOutputParser()\n",
        "\n",
        "# ✅ 최종 chain 호출\n",
        "response = chain.invoke({\"context\": docs, \"input\": query})\n",
        "\n",
        "print(\"\\n💬 AI의 답변:\")\n",
        "print(response)\n"
      ],
      "metadata": {
        "colab": {
          "base_uri": "https://localhost:8080/"
        },
        "id": "E8a4C1MzD_x4",
        "outputId": "48728a4e-a78a-4015-a503-33d9ed2cb17d"
      },
      "execution_count": null,
      "outputs": [
        {
          "output_type": "stream",
          "name": "stdout",
          "text": [
            "Score: 1.2072370052337646\n",
            "Content: 만 88세 98.9kg의 환자는 최고 혈압은 73, 최저 혈압은 63, 기저질환은 팔뚝의 열상, 대동맥 판막 협착증, 급성 기관지염, 만성 울혈 성 심부전, 고지혈증, 필수 고혈압, 심근 경색, 급성 ST 세그먼트 고도 심근 경색, 빈혈증, 대사 증후군 x, 열상 - 부상, 치은염 있습니다. 성별은 남성, 비흡연자 입니다.  nitroglycerin(을/를) 1회 0.4 mg씩 설하 태블릿 복용했습니다. 알러지는 없습니다. 수술 이력은 Gingivae의 검사, Morse Fall Scale을 사용한 평가, 가슴의 평범한 엑스레이, 가정 폭력을위한 선별, 개별화 된 치료 계획의 개발, 건강 및 사회 복지 요구 평가, 경피 관상 동맥 중재, 관상 동맥의 혈관 조영술, 구강 건강 교육, 뉴욕 심장 협회 분류를 사용한 평가, 마스크에 의한 산소 투여, 모니터링 장치를 사용한 심장 상태 평가, 물질 사용의 평가, 봉합 된 상처, 불안의 평가, 실험실 테스트, 심 초음파, 심부전 교육, 심전도 절차, 알림, 알코올 사용 장애 식별 테스트 - 소비를 사용한 평가, 약물 남용을위한 선별, 약물 조정, 우울증 스크리닝, 인증 절차, 주제를 쉽게 위치에 놓습니다, 진단 평가, 초기 환자 평가, 치과 불소 처리, 치과 상담 및 보고서, 치과 용 엑스레이 비트, 치과 충전재를 사용하여 모든 교두의 커버리지로 치아의 복원, 치과 치료, 치과 치료를위한 환자 진료 의뢰, 치과기구를 사용하여 모든 치아에서 우위 플라크 및 미적분학 제거, 치과기구를 사용하여 모든 치아에서 하위 징징 기형 플라크 및 미적분학 제거, 치료를위한 상담, 호스피스 관리, 호흡기 기능 측정, 환자 건강 설문지 9 항목 점수를 사용한 우울증 스크리닝, 흉부 성 심 초음파 검사 있습니다.\n",
            "------------------------------\n",
            "Score: 1.218178629875183\n",
            "Content: 만 83세 83.4kg의 환자는 최고 혈압은 109, 최저 혈압은 60, 기저질환은 어깨의 회전식 관목의 힘줄 부상, 만성 울혈 성 심부전, 고지혈증, 허혈성 심장병, 빈혈증, 연쇄상 구균 인후, 치은 질병, 치은염 있습니다. 성별은 남성, 비흡연자 입니다.  Nitroglycerin(을/를) 116회 0.4 mg/actuat씩 점막 스프레이 복용했습니다. 알러지는 없습니다. 수술 이력은 Gingivae의 검사, Morse Fall Scale을 사용한 평가, Swan-Ganz 카테터를 사용한 폐 카테터 화, 가슴의 평범한 엑스레이, 가정 건강 관리 서비스에 의뢰, 가정 건강 보조원 서비스, 간호/보충 감시, 개별화 된 치료 계획의 개발, 건강 및 사회 복지 요구 평가, 걷는 운동 시험, 계단 클리밍 테스트, 관상 동맥 우회 이식, 관상 동맥의 혈관 조영술, 구강 건강 교육, 기관 내 튜브 제거, 뉴욕 심장 협회 분류를 사용한 평가, 대동맥 교차 클램프의 배치, 대동맥 교차 클램프의 제거, 동맥에 카테터를 삽입합니다, 마스크에 의한 산소 투여, 목구멍 문화, 문서화 절차, 물리 치료 절차, 물질 사용의 평가, 병원 퇴원, 불안의 평가, 삽관, 서비스에 의뢰, 수술 전 테스트, 수술 후 절차 교육, 심 초음파, 심부전 교육, 심장 수술 서비스 참조, 심장학 서비스 참조, 심전도 절차, 심폐 우회 조작, 알코올 사용 장애 식별 테스트 - 소비를 사용한 평가, 약물 남용을위한 선별, 약물 조정, 와드로의 배출, 우울증 스크리닝, 유발 심장병증, 일정, 작업 요법, 절차를위한 마취 투여, 절차를위한 환자 준비, 주제를 쉽게 위치에 놓습니다, 중앙 흉골 절제술, 초기 환자 평가, 치과 불소 처리, 치과 상담 및 보고서, 치과 수술 절차, 치과 용 엑스레이 비트, 치과 절차를위한 수술 후 치료, 치과 충전재를 사용하여 모든 교두의 커버리지로 치아의 복원, 치과 치료, 치과 치료를위한 환자 진료 의뢰, 치과기구를 사용하여 모든 치아에서 우위 플라크 및 미적분학 제거, 치과기구를 사용하여 모든 치아에서 하위 징징 기형 플라크 및 미적분학 제거, 치료 계획 알림, 치료 계획의 조정, 치료를위한 상담, 치은 절제술 또는 치은 치지 성형술, 캐뉼 레이션, 탈감작 의료의 치과 적용, 포괄적 인 인터뷰 및 평가, 포스트 마취 치료 관리, 포장 된 적혈구 수혈, 혈관 캐뉼라 제거, 혈소판 수혈, 혈액형 타이핑, 환자 건강 설문지 9 항목 점수를 사용한 우울증 스크리닝, 환자 퇴원 있습니다.\n",
            "------------------------------\n",
            "Score: 1.2218937873840332\n",
            "Content: 만 88세 98.9kg의 환자는 최고 혈압은 73, 최저 혈압은 63, 기저질환은 팔뚝의 열상, 대동맥 판막 협착증, 급성 기관지염, 만성 울혈 성 심부전, 고지혈증, 필수 고혈압, 심근 경색, 급성 ST 세그먼트 고도 심근 경색, 빈혈증, 대사 증후군 x, 열상 - 부상, 치은염 있습니다. 성별은 남성, 비흡연자 입니다. 고지혈증를 이유로 Simvastatin(을/를) 142회 10 mg씩 구강 정제 복용했습니다. 알러지는 없습니다. 수술 이력은 Gingivae의 검사, Morse Fall Scale을 사용한 평가, 가슴의 평범한 엑스레이, 가정 폭력을위한 선별, 개별화 된 치료 계획의 개발, 건강 및 사회 복지 요구 평가, 경피 관상 동맥 중재, 관상 동맥의 혈관 조영술, 구강 건강 교육, 뉴욕 심장 협회 분류를 사용한 평가, 마스크에 의한 산소 투여, 모니터링 장치를 사용한 심장 상태 평가, 물질 사용의 평가, 봉합 된 상처, 불안의 평가, 실험실 테스트, 심 초음파, 심부전 교육, 심전도 절차, 알림, 알코올 사용 장애 식별 테스트 - 소비를 사용한 평가, 약물 남용을위한 선별, 약물 조정, 우울증 스크리닝, 인증 절차, 주제를 쉽게 위치에 놓습니다, 진단 평가, 초기 환자 평가, 치과 불소 처리, 치과 상담 및 보고서, 치과 용 엑스레이 비트, 치과 충전재를 사용하여 모든 교두의 커버리지로 치아의 복원, 치과 치료, 치과 치료를위한 환자 진료 의뢰, 치과기구를 사용하여 모든 치아에서 우위 플라크 및 미적분학 제거, 치과기구를 사용하여 모든 치아에서 하위 징징 기형 플라크 및 미적분학 제거, 치료를위한 상담, 호스피스 관리, 호흡기 기능 측정, 환자 건강 설문지 9 항목 점수를 사용한 우울증 스크리닝, 흉부 성 심 초음파 검사 있습니다.\n",
            "------------------------------\n",
            "Score: 1.23039972782135\n",
            "Content: 만 83세 83.4kg의 환자는 최고 혈압은 109, 최저 혈압은 60, 기저질환은 어깨의 회전식 관목의 힘줄 부상, 만성 울혈 성 심부전, 고지혈증, 허혈성 심장병, 빈혈증, 연쇄상 구균 인후, 치은 질병, 치은염 있습니다. 성별은 남성, 비흡연자 입니다.  Simvastatin(을/를) 116회 20 mg씩 구강 정제 복용했습니다. 알러지는 없습니다. 수술 이력은 Gingivae의 검사, Morse Fall Scale을 사용한 평가, Swan-Ganz 카테터를 사용한 폐 카테터 화, 가슴의 평범한 엑스레이, 가정 건강 관리 서비스에 의뢰, 가정 건강 보조원 서비스, 간호/보충 감시, 개별화 된 치료 계획의 개발, 건강 및 사회 복지 요구 평가, 걷는 운동 시험, 계단 클리밍 테스트, 관상 동맥 우회 이식, 관상 동맥의 혈관 조영술, 구강 건강 교육, 기관 내 튜브 제거, 뉴욕 심장 협회 분류를 사용한 평가, 대동맥 교차 클램프의 배치, 대동맥 교차 클램프의 제거, 동맥에 카테터를 삽입합니다, 마스크에 의한 산소 투여, 목구멍 문화, 문서화 절차, 물리 치료 절차, 물질 사용의 평가, 병원 퇴원, 불안의 평가, 삽관, 서비스에 의뢰, 수술 전 테스트, 수술 후 절차 교육, 심 초음파, 심부전 교육, 심장 수술 서비스 참조, 심장학 서비스 참조, 심전도 절차, 심폐 우회 조작, 알코올 사용 장애 식별 테스트 - 소비를 사용한 평가, 약물 남용을위한 선별, 약물 조정, 와드로의 배출, 우울증 스크리닝, 유발 심장병증, 일정, 작업 요법, 절차를위한 마취 투여, 절차를위한 환자 준비, 주제를 쉽게 위치에 놓습니다, 중앙 흉골 절제술, 초기 환자 평가, 치과 불소 처리, 치과 상담 및 보고서, 치과 수술 절차, 치과 용 엑스레이 비트, 치과 절차를위한 수술 후 치료, 치과 충전재를 사용하여 모든 교두의 커버리지로 치아의 복원, 치과 치료, 치과 치료를위한 환자 진료 의뢰, 치과기구를 사용하여 모든 치아에서 우위 플라크 및 미적분학 제거, 치과기구를 사용하여 모든 치아에서 하위 징징 기형 플라크 및 미적분학 제거, 치료 계획 알림, 치료 계획의 조정, 치료를위한 상담, 치은 절제술 또는 치은 치지 성형술, 캐뉼 레이션, 탈감작 의료의 치과 적용, 포괄적 인 인터뷰 및 평가, 포스트 마취 치료 관리, 포장 된 적혈구 수혈, 혈관 캐뉼라 제거, 혈소판 수혈, 혈액형 타이핑, 환자 건강 설문지 9 항목 점수를 사용한 우울증 스크리닝, 환자 퇴원 있습니다.\n",
            "------------------------------\n",
            "Score: 1.233313798904419\n",
            "Content: 만 88세 98.9kg의 환자는 최고 혈압은 73, 최저 혈압은 63, 기저질환은 팔뚝의 열상, 대동맥 판막 협착증, 급성 기관지염, 만성 울혈 성 심부전, 고지혈증, 필수 고혈압, 심근 경색, 급성 ST 세그먼트 고도 심근 경색, 빈혈증, 대사 증후군 x, 열상 - 부상, 치은염 있습니다. 성별은 남성, 비흡연자 입니다.  aspirin(을/를) 119회 81 mg씩 구강 정제 복용했습니다. 알러지는 없습니다. 수술 이력은 Gingivae의 검사, Morse Fall Scale을 사용한 평가, 가슴의 평범한 엑스레이, 가정 폭력을위한 선별, 개별화 된 치료 계획의 개발, 건강 및 사회 복지 요구 평가, 경피 관상 동맥 중재, 관상 동맥의 혈관 조영술, 구강 건강 교육, 뉴욕 심장 협회 분류를 사용한 평가, 마스크에 의한 산소 투여, 모니터링 장치를 사용한 심장 상태 평가, 물질 사용의 평가, 봉합 된 상처, 불안의 평가, 실험실 테스트, 심 초음파, 심부전 교육, 심전도 절차, 알림, 알코올 사용 장애 식별 테스트 - 소비를 사용한 평가, 약물 남용을위한 선별, 약물 조정, 우울증 스크리닝, 인증 절차, 주제를 쉽게 위치에 놓습니다, 진단 평가, 초기 환자 평가, 치과 불소 처리, 치과 상담 및 보고서, 치과 용 엑스레이 비트, 치과 충전재를 사용하여 모든 교두의 커버리지로 치아의 복원, 치과 치료, 치과 치료를위한 환자 진료 의뢰, 치과기구를 사용하여 모든 치아에서 우위 플라크 및 미적분학 제거, 치과기구를 사용하여 모든 치아에서 하위 징징 기형 플라크 및 미적분학 제거, 치료를위한 상담, 호스피스 관리, 호흡기 기능 측정, 환자 건강 설문지 9 항목 점수를 사용한 우울증 스크리닝, 흉부 성 심 초음파 검사 있습니다.\n",
            "------------------------------\n",
            "\n",
            "💬 AI의 답변:\n",
            "모든 환자 사례에서 공통적으로 나타나는 약물은 Nitroglycerin입니다. Nitroglycerin은 협심증 발작 시 통증을 빠르게 완화하기 위해 사용되는 약물입니다. 다만, 환자의 기존 투약 기록, 바이탈/검사 결과, 알러지 정보 등을 종합적으로 고려하여 의료진이 최종적으로 약물을 결정해야 합니다. 또한, 일부 환자는 Simvastatin과 같은 스타틴 계열의 약물을 복용하고 있어, 지질 관리 측면에서도 고려할 수 있습니다. 의료진은 각 환자의 상태에 맞게 약물을 선택하고, 알러지 및 기존 투약 기록을 반드시 확인해야 합니다.\n"
          ]
        }
      ]
    }
  ]
}