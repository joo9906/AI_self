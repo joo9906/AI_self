{
  "nbformat": 4,
  "nbformat_minor": 0,
  "metadata": {
    "colab": {
      "provenance": []
    },
    "kernelspec": {
      "name": "python3",
      "display_name": "Python 3"
    },
    "language_info": {
      "name": "python"
    }
  },
  "cells": [
    {
      "cell_type": "markdown",
      "source": [
        "# 계절학기 - AI 8팀\n",
        "| RAG 챗봇\n",
        "## 목차\n",
        "***\n",
        "### 1. Solar mini API 통신\n",
        "### 2. CSV 파싱\n",
        "### 3. 문서 임베딩\n",
        "#### 3-1. 문서 가공/필터링\n",
        "#### 3-2. Chroma 벡터 DB 저장\n",
        "## 4. LLM 쿼리\n",
        "### 4-1. Query 입력\n",
        "### 4-2. Retriever 병렬 처리\n",
        "### 4-3. Context 병합\n",
        "### 4-4. 질의 답변 생성\n",
        "***"
      ],
      "metadata": {
        "id": "cMj-pGq8YYZF"
      }
    },
    {
      "cell_type": "markdown",
      "source": [
        "### 필요한 라이브러리 다운로드"
      ],
      "metadata": {
        "id": "0GdzqBNr9KIH"
      }
    },
    {
      "cell_type": "code",
      "execution_count": 1,
      "metadata": {
        "id": "Y8h3AEvE1Hcs"
      },
      "outputs": [],
      "source": [
        "!pip install -qU openai langchain langchain-upstage langchain-chroma getpass4"
      ]
    },
    {
      "cell_type": "markdown",
      "source": [
        "https://console.upstage.ai/api-keys"
      ],
      "metadata": {
        "id": "UwhsNwTBbaQ5"
      }
    },
    {
      "cell_type": "code",
      "source": [
        "# @title set API key\n",
        "import os\n",
        "import getpass\n",
        "import warnings\n",
        "\n",
        "warnings.filterwarnings(\"ignore\")\n",
        "\n",
        "# Get the Upstage API key using getpass\n",
        "os.environ[\"UPSTAGE_API_KEY\"] = getpass.getpass(\"Enter your Upstage API key: \")\n",
        "\n",
        "print(\"API key has been set successfully.\")"
      ],
      "metadata": {
        "colab": {
          "base_uri": "https://localhost:8080/"
        },
        "id": "jek4UJ2G9eKX",
        "outputId": "44b61b12-824a-45e5-f95d-583cb74da3ba",
        "cellView": "form"
      },
      "execution_count": 2,
      "outputs": [
        {
          "output_type": "stream",
          "name": "stdout",
          "text": [
            "Enter your Upstage API key: ··········\n",
            "API key has been set successfully.\n"
          ]
        }
      ]
    },
    {
      "cell_type": "markdown",
      "source": [
        "# 문서 임베딩\n",
        "| vector DB 생성 이후 생략"
      ],
      "metadata": {
        "id": "0IckkW1w_tYq"
      }
    },
    {
      "cell_type": "markdown",
      "source": [
        "## CSV 파싱"
      ],
      "metadata": {
        "id": "gazv1KDRaska"
      }
    },
    {
      "cell_type": "code",
      "source": [
        "from langchain.schema import Document\n",
        "import pandas as pd\n",
        "from typing import List\n",
        "\n",
        "# patients.csv 읽기 (환자 기본 정보)\n",
        "df = pd.read_csv(\"patients.csv\")\n",
        "\n",
        "# csv에서 사례화\n",
        "def row_to_text(row) -> str:\n",
        "    text = (\n",
        "        f\"PATIENT_ID: {row['Id']} 환자는, \"\n",
        "        f\"{row['BIRTHDATE']}에 태어났고, 성별은 {row['GENDER']}, 인종은 {row['RACE']}, 민족성은 {row['ETHNICITY']}입니다.\"\n",
        "        # 나이 추가할 것\n",
        "    )\n",
        "    return text\n",
        "\n",
        "texts = df.apply(row_to_text, axis=1).tolist()\n",
        "\n",
        "# 문서 리스트 준비\n",
        "patient_docs = []\n",
        "for _, row in df.iterrows():\n",
        "    text = row_to_text(row)\n",
        "    patient_docs.append(Document(page_content=text, metadata={\"patient_id\": row[\"Id\"]}))"
      ],
      "metadata": {
        "id": "Hm_2rLOW_xHx"
      },
      "execution_count": 3,
      "outputs": []
    },
    {
      "cell_type": "code",
      "source": [
        "import pandas as pd\n",
        "from langchain.schema import Document\n",
        "\n",
        "# conditions.csv 읽기\n",
        "df = pd.read_csv(\"conditions.csv\")\n",
        "\n",
        "# disorder만 필터링\n",
        "df = df[df[\"DESCRIPTION\"].str.contains(r\"\\(disorder\\)\", na=False)].copy()\n",
        "\n",
        "# ✅ (disorder) 제거\n",
        "df[\"DESCRIPTION\"] = df[\"DESCRIPTION\"].str.replace(r\"\\s*\\(disorder\\)\", \"\", regex=True)\n",
        "\n",
        "# PATIENT_ID 기준으로 그룹화\n",
        "grouped = df.groupby(\"PATIENT\")\n",
        "\n",
        "# 환자별 사례화 함수\n",
        "def patient_conditions_to_text(patient_id, group_df):\n",
        "    conditions_text = \"\"\n",
        "    for _, row in group_df.iterrows():\n",
        "        conditions_text += (\n",
        "            f\"{row['START']}부터 {row['STOP']}까지 \"\n",
        "            f\"질병 코드 {row['CODE']}의 {row['DESCRIPTION']}을(를) 진단 받았습니다. \"\n",
        "        )\n",
        "    text = f\"PATIENT_ID: {patient_id} 환자는 다음과 같은 질병을 진단 받았습니다. {conditions_text}\"\n",
        "    return text\n",
        "\n",
        "# 문서 리스트 준비\n",
        "conditions_docs = []\n",
        "for patient_id, group_df in grouped:\n",
        "    text = patient_conditions_to_text(patient_id, group_df)\n",
        "    conditions_docs.append(Document(page_content=text, metadata={\"patient_id\": patient_id}))\n",
        "\n",
        "print(\"총 문서 수:\", len(conditions_docs))\n",
        "print(\"예시 문서:\\n\", conditions_docs[0].page_content)"
      ],
      "metadata": {
        "colab": {
          "base_uri": "https://localhost:8080/"
        },
        "id": "BrRPC5DIxk-2",
        "outputId": "ed89fae1-c2f9-4238-bb6b-276dbe717c44"
      },
      "execution_count": 7,
      "outputs": [
        {
          "output_type": "stream",
          "name": "stdout",
          "text": [
            "총 문서 수: 1171\n",
            "예시 문서:\n",
            " PATIENT_ID: 0057c08f-6c39-0080-da1a-7d535d5ecbac 환자는 다음과 같은 질병을 진단 받았습니다. 2012-03-22부터 nan까지 질병 코드 271737000.0의 Anemia을(를) 진단 받았습니다. 2015-11-12부터 2015-11-27까지 질병 코드 66383009.0의 Gingivitis을(를) 진단 받았습니다. 2015-11-13부터 2015-12-08까지 질병 코드 444814009.0의 Viral sinusitis을(를) 진단 받았습니다. 2018-11-01부터 2018-11-24까지 질병 코드 444814009.0의 Viral sinusitis을(를) 진단 받았습니다. 2024-01-19부터 2024-02-02까지 질병 코드 66383009.0의 Gingivitis을(를) 진단 받았습니다. 2024-02-02부터 2024-02-02까지 질병 코드 18718003.0의 Gingival disease을(를) 진단 받았습니다. \n"
          ]
        }
      ]
    },
    {
      "cell_type": "code",
      "source": [
        "import pandas as pd\n",
        "from langchain.schema import Document\n",
        "\n",
        "# medications.csv 읽기\n",
        "df = pd.read_csv(\"medications.csv\")\n",
        "\n",
        "# PATIENT_ID 기준으로 그룹화\n",
        "grouped = df.groupby(\"PATIENT\")\n",
        "\n",
        "# 환자별 사례화 함수\n",
        "def patient_medications_to_text(patient_id, group_df):\n",
        "    medications_text = \"\"\n",
        "\n",
        "    # 같은 약물 CODE + DESCRIPTION + reason 기준으로 그룹화\n",
        "    med_grouped = group_df.groupby([\"CODE\", \"DESCRIPTION\", \"REASONCODE\", \"REASONDESCRIPTION\"])\n",
        "\n",
        "    for (code, desc, reason, reason_desc), med_group in med_grouped:\n",
        "        # reason_desc에서 (disorder) 제거\n",
        "        if pd.notnull(reason_desc):\n",
        "            clean_reason_desc = pd.Series(reason_desc).str.replace(r\"\\s*\\(disorder\\)\", \"\", regex=True).values[0]\n",
        "        else:\n",
        "            clean_reason_desc = reason_desc\n",
        "\n",
        "        # 날짜와 dispenses 정보 결합\n",
        "        period_texts = []\n",
        "        for _, row in med_group.iterrows():\n",
        "            period_texts.append(\n",
        "                f\"{row['START']}부터 {row['STOP']}까지 {row['DISPENSES']}개\"\n",
        "            )\n",
        "        period_info = \"; \".join(period_texts)\n",
        "\n",
        "        # reason 문구 처리\n",
        "        reason_text = \"\"\n",
        "        if pd.notnull(clean_reason_desc):\n",
        "            reason_text = f\"(처방 사유: {clean_reason_desc})\"\n",
        "        elif pd.notnull(reason):\n",
        "            reason_text = f\"(처방 사유 코드: {reason})\"\n",
        "\n",
        "        medications_text += (\n",
        "            f\"약물 코드 {code}의 {desc}을(를) {period_info} 동안 투여 받았습니다. {reason_text} \"\n",
        "        )\n",
        "\n",
        "    text = f\"PATIENT_ID: {patient_id} 환자는 다음과 같은 약물을 투여 받았습니다. {medications_text}\"\n",
        "    return text\n",
        "\n",
        "# 문서 리스트 준비\n",
        "medications_docs = []\n",
        "for patient_id, group_df in grouped:\n",
        "    text = patient_medications_to_text(patient_id, group_df)\n",
        "    medications_docs.append(Document(page_content=text, metadata={\"patient_id\": patient_id, 'table': 'medications'}))\n",
        "\n",
        "print(\"총 문서 수:\", len(medications_docs))\n",
        "print(\"예시 문서:\\n\", medications_docs[0].page_content)"
      ],
      "metadata": {
        "colab": {
          "base_uri": "https://localhost:8080/"
        },
        "id": "OMtQHUkZ2Svm",
        "outputId": "a3058914-47c7-425a-aaad-743522901735"
      },
      "execution_count": null,
      "outputs": [
        {
          "output_type": "stream",
          "name": "stdout",
          "text": [
            "총 문서 수: 1158\n",
            "예시 문서:\n",
            " PATIENT_ID: 0063c9a6-c820-3d00-4e22-362776034d2a 환자는 다음과 같은 약물을 투여 받았습니다. 약물 코드 313988의 Furosemide 40 MG Oral Tablet을(를) 2009-10-25T11:31:49Z부터 nan까지 6개 동안 투여 받았습니다. (처방 사유: Chronic congestive heart failure) 약물 코드 314076의 lisinopril 10 MG Oral Tablet을(를) 2000-03-15T10:36:04Z부터 2001-03-21T10:36:04Z까지 4개; 2001-03-21T10:36:04Z부터 2002-03-27T10:36:04Z까지 4개; 2002-03-27T10:36:04Z부터 2003-04-02T10:36:04Z까지 4개; 2003-04-02T10:36:04Z부터 2004-04-07T10:36:04Z까지 4개; 2004-04-07T10:36:04Z부터 2005-04-13T10:36:04Z까지 4개; 2005-04-13T10:36:04Z부터 2006-04-19T10:36:04Z까지 4개; 2006-04-19T10:36:04Z부터 2007-04-25T10:36:04Z까지 4개; 2007-04-25T10:36:04Z부터 2008-04-30T10:36:04Z까지 4개; 2008-04-30T10:36:04Z부터 2009-05-06T10:36:04Z까지 4개; 2009-05-06T10:36:04Z부터 nan까지 4개 동안 투여 받았습니다. (처방 사유: Essential hypertension) 약물 코드 314231의 Simvastatin 10 MG Oral Tablet을(를) 2003-04-23T10:36:04Z부터 2009-05-28T10:36:04Z까지 10개; 2004-04-22T10:36:04Z부터 2005-05-04T10:36:04Z까지 12개; 2005-05-04T10:36:04Z부터 2006-05-04T10:36:04Z까지 12개; 2006-05-04T10:36:04Z부터 2007-05-16T10:36:04Z까지 12개; 2007-05-16T10:36:04Z부터 2008-05-28T10:36:04Z까지 12개; 2008-05-28T10:36:04Z부터 2009-05-28T10:36:04Z까지 12개; 2009-05-28T10:36:04Z부터 nan까지 12개 동안 투여 받았습니다. (처방 사유: Hyperlipidemia) 약물 코드 834102의 Penicillin V Potassium 500 MG Oral Tablet을(를) 2004-06-16T23:36:04Z부터 2004-06-27T09:36:04Z까지 1개 동안 투여 받았습니다. (처방 사유: Streptococcal sore throat) 약물 코드 1535362의 sodium fluoride 0.0272 MG/MG Oral Gel을(를) 2001-04-04T13:44:29Z부터 2001-04-04T13:44:29Z까지 1개; 2009-05-20T13:35:41Z부터 2009-05-20T13:35:41Z까지 1개 동안 투여 받았습니다. (처방 사유: Gingivitis) 약물 코드 1535362의 sodium fluoride 0.0272 MG/MG Oral Gel을(를) 2007-05-09T13:16:29Z부터 2007-05-09T13:16:29Z까지 1개 동안 투여 받았습니다. (처방 사유: Patient referral for dental care (procedure)) 약물 코드 1719286의 10 ML Furosemide 10 MG/ML Injection을(를) 2010-04-23T11:41:01Z부터 2010-04-23T11:41:01Z까지 1개; 2010-04-23T23:41:01Z부터 2010-04-23T23:41:01Z까지 1개; 2010-04-24T11:41:01Z부터 2010-04-24T11:41:01Z까지 1개; 2010-04-24T23:41:01Z부터 2010-04-24T23:41:01Z까지 1개; 2010-04-25T11:41:01Z부터 2010-04-25T11:41:01Z까지 1개; 2010-04-25T23:41:01Z부터 2010-04-25T23:41:01Z까지 1개; 2010-04-26T11:41:01Z부터 2010-04-26T11:41:01Z까지 1개; 2010-04-26T23:41:01Z부터 2010-04-26T23:41:01Z까지 1개; 2010-04-27T11:41:01Z부터 2010-04-27T11:41:01Z까지 1개; 2010-04-27T23:41:01Z부터 2010-04-27T23:41:01Z까지 1개 동안 투여 받았습니다. (처방 사유: Chronic congestive heart failure) \n"
          ]
        }
      ]
    },
    {
      "cell_type": "markdown",
      "source": [
        "## Chunking 작업"
      ],
      "metadata": {
        "id": "u5DoSL_nAA6e"
      }
    },
    {
      "cell_type": "code",
      "source": [
        "from langchain.text_splitter import RecursiveCharacterTextSplitter\n",
        "# @title Patitents.csv\n",
        "# Splitter 설정\n",
        "patient_text_splitter = RecursiveCharacterTextSplitter(\n",
        "    chunk_size=300,\n",
        "    chunk_overlap=0,\n",
        ")\n",
        "\n",
        "# 실제 split\n",
        "patient_splits = patient_text_splitter.split_documents(patient_docs)\n",
        "\n",
        "# 결과 출력\n",
        "print(\"Splits:\", len(patient_splits))\n"
      ],
      "metadata": {
        "colab": {
          "base_uri": "https://localhost:8080/"
        },
        "id": "4ilRBlVw_23o",
        "outputId": "5da41378-a22b-4c48-9c90-798325ea662c"
      },
      "execution_count": 8,
      "outputs": [
        {
          "output_type": "stream",
          "name": "stdout",
          "text": [
            "Splits: 1182\n"
          ]
        }
      ]
    },
    {
      "cell_type": "code",
      "source": [
        "# @title Conditions.csv\n",
        "# Splitter 설정\n",
        "conditions_text_splitter = RecursiveCharacterTextSplitter(\n",
        "    chunk_size=250,\n",
        "    chunk_overlap=20, # 같은 환자의 여러 질병을 고려\n",
        ")\n",
        "\n",
        "# 실제 split\n",
        "conditions_splits = conditions_text_splitter.split_documents(conditions_docs)\n",
        "\n",
        "# 결과 출력\n",
        "print(\"Splits:\", len(conditions_splits))\n"
      ],
      "metadata": {
        "colab": {
          "base_uri": "https://localhost:8080/"
        },
        "id": "GscosMzbKEB8",
        "outputId": "2be1d960-98ca-4481-f9b4-b31d7d81713e"
      },
      "execution_count": 9,
      "outputs": [
        {
          "output_type": "stream",
          "name": "stdout",
          "text": [
            "Splits: 5600\n"
          ]
        }
      ]
    },
    {
      "cell_type": "code",
      "source": [
        "# @title Medications.csv\n",
        "# Splitter 설정\n",
        "medications_text_splitter = RecursiveCharacterTextSplitter(\n",
        "    chunk_size=1000,\n",
        "    chunk_overlap=50,\n",
        ")\n",
        "\n",
        "# 실제 split\n",
        "medications_splits = medications_text_splitter.split_documents(medications_docs)\n",
        "\n",
        "# 결과 출력\n",
        "print(\"Splits:\", len(medications_splits))\n"
      ],
      "metadata": {
        "colab": {
          "base_uri": "https://localhost:8080/"
        },
        "id": "1ln7Avow4luO",
        "outputId": "0bcd3da2-ebaa-43da-9caf-6a3b29c80f3a"
      },
      "execution_count": null,
      "outputs": [
        {
          "output_type": "stream",
          "name": "stdout",
          "text": [
            "Splits: 3842\n"
          ]
        }
      ]
    },
    {
      "cell_type": "markdown",
      "source": [
        "### (추가) Plot 시각화"
      ],
      "metadata": {
        "id": "mBEbWw6ABJH7"
      }
    },
    {
      "cell_type": "code",
      "source": [
        "# 시각화\n",
        "import matplotlib.pyplot as plt\n",
        "\n",
        "split_lengths = [len(split.page_content) for split in patient_splits] # 여기 splits 변경\n",
        "\n",
        "plt.bar(range(len(split_lengths)), split_lengths)\n",
        "plt.title(\"RecursiveCharacterTextSplitter\")\n",
        "plt.xlabel(\"Split Index\")\n",
        "plt.ylabel(\"Split Content Length\")\n",
        "plt.xticks(range(len(split_lengths)), [])\n",
        "plt.show()"
      ],
      "metadata": {
        "colab": {
          "base_uri": "https://localhost:8080/",
          "height": 458
        },
        "id": "bnu1vgUCBE-v",
        "outputId": "cab96274-c5e5-4a5d-cb02-dafbb303f428"
      },
      "execution_count": 6,
      "outputs": [
        {
          "output_type": "display_data",
          "data": {
            "text/plain": [
              "<Figure size 640x480 with 1 Axes>"
            ],
            "image/png": "[encoded data removed]"
          },
          "metadata": {}
        }
      ]
    },
    {
      "cell_type": "markdown",
      "source": [
        "## Vector DB 저장"
      ],
      "metadata": {
        "id": "VELHS6FKBUTX"
      }
    },
    {
      "cell_type": "code",
      "source": [
        "from langchain_chroma import Chroma\n",
        "from langchain_upstage import UpstageEmbeddings\n",
        "from langchain.docstore.document import Document"
      ],
      "metadata": {
        "id": "7ddlfhFr-9GV"
      },
      "execution_count": null,
      "outputs": []
    },
    {
      "cell_type": "code",
      "source": [
        "# 1️⃣ Embeddings 객체 선언\n",
        "embeddings = UpstageEmbeddings(model=\"embedding-query\")\n",
        "\n",
        "# 2️⃣ Chroma 벡터 DB 생성 및 문서 삽입\n",
        "patient_vectorstore = Chroma.from_documents(\n",
        "    documents=patient_splits,\n",
        "    embedding=embeddings,\n",
        "    persist_directory=\"./chroma_patient_db\"  # ✅ 여기에 경로 추가!\n",
        ")"
      ],
      "metadata": {
        "colab": {
          "base_uri": "https://localhost:8080/"
        },
        "id": "837B16Q4Czuq",
        "outputId": "d7450793-b5cd-478b-f363-7e59189c1a3c"
      },
      "execution_count": null,
      "outputs": [
        {
          "output_type": "stream",
          "name": "stderr",
          "text": [
            "ERROR:chromadb.telemetry.product.posthog:Failed to send telemetry event ClientStartEvent: capture() takes 1 positional argument but 3 were given\n",
            "ERROR:chromadb.telemetry.product.posthog:Failed to send telemetry event ClientCreateCollectionEvent: capture() takes 1 positional argument but 3 were given\n"
          ]
        }
      ]
    },
    {
      "cell_type": "code",
      "source": [
        "# @title\n",
        "# 2️⃣ Chroma 벡터 DB 생성 및 문서 삽입\n",
        "conditions_vectorstore = Chroma.from_documents(\n",
        "    documents=conditions_splits, # 43975개 -> 거의 1달러 씀, 1시간 20분 정도 소요 / 5600 -> 10분\n",
        "    embedding=embeddings,\n",
        "    persist_directory=\"./chroma_conditions_db\"\n",
        ")"
      ],
      "metadata": {
        "colab": {
          "base_uri": "https://localhost:8080/"
        },
        "id": "d5Ml-1Hp2YET",
        "outputId": "2de4740b-981f-4738-8872-bd5b2d672e60",
        "cellView": "form"
      },
      "execution_count": null,
      "outputs": [
        {
          "output_type": "stream",
          "name": "stderr",
          "text": [
            "ERROR:chromadb.telemetry.product.posthog:Failed to send telemetry event ClientStartEvent: capture() takes 1 positional argument but 3 were given\n",
            "ERROR:chromadb.telemetry.product.posthog:Failed to send telemetry event ClientCreateCollectionEvent: capture() takes 1 positional argument but 3 were given\n"
          ]
        }
      ]
    },
    {
      "cell_type": "code",
      "source": [
        "# 2️⃣ Chroma 벡터 DB 생성 및 문서 삽입\n",
        "embeddings = UpstageEmbeddings(model=\"embedding-query\")\n",
        "\n",
        "medications_vectorstore = Chroma.from_documents(\n",
        "    documents=medications_splits,\n",
        "    embedding=embeddings,\n",
        "    persist_directory=\"./chroma_medications_db\"\n",
        ")"
      ],
      "metadata": {
        "colab": {
          "base_uri": "https://localhost:8080/",
          "height": 462
        },
        "id": "9T0v91if50xW",
        "outputId": "53f44f79-8797-4817-837c-b1fc877c4ff9"
      },
      "execution_count": null,
      "outputs": [
        {
          "output_type": "stream",
          "name": "stderr",
          "text": [
            "ERROR:chromadb.telemetry.product.posthog:Failed to send telemetry event ClientStartEvent: capture() takes 1 positional argument but 3 were given\n",
            "ERROR:chromadb.telemetry.product.posthog:Failed to send telemetry event ClientCreateCollectionEvent: capture() takes 1 positional argument but 3 were given\n"
          ]
        },
        {
          "output_type": "error",
          "ename": "RateLimitError",
          "evalue": "Error code: 429 - {'error': {'message': \"You've reached your API request limit. Please wait and try again later. If your use case requires a higher rate limit, you can request an increase at https://support.upstage.ai. Including your intended use case and expected volume will help us process your request faster\", 'type': 'too_many_requests', 'param': '', 'code': 'too_many_requests'}}",
          "traceback": [
            "\u001b[0;31m---------------------------------------------------------------------------\u001b[0m",
            "\u001b[0;31mRateLimitError\u001b[0m                            Traceback (most recent call last)",
            "\u001b[0;32m/tmp/ipython-input-96-2750198796.py\u001b[0m in \u001b[0;36m<cell line: 0>\u001b[0;34m()\u001b[0m\n\u001b[1;32m      2\u001b[0m \u001b[0membeddings\u001b[0m \u001b[0;34m=\u001b[0m \u001b[0mUpstageEmbeddings\u001b[0m\u001b[0;34m(\u001b[0m\u001b[0mmodel\u001b[0m\u001b[0;34m=\u001b[0m\u001b[0;34m\"embedding-query\"\u001b[0m\u001b[0;34m)\u001b[0m\u001b[0;34m\u001b[0m\u001b[0;34m\u001b[0m\u001b[0m\n\u001b[1;32m      3\u001b[0m \u001b[0;34m\u001b[0m\u001b[0m\n\u001b[0;32m----> 4\u001b[0;31m medications_vectorstore = Chroma.from_documents(\n\u001b[0m\u001b[1;32m      5\u001b[0m     \u001b[0mdocuments\u001b[0m\u001b[0;34m=\u001b[0m\u001b[0mmedications_splits\u001b[0m\u001b[0;34m,\u001b[0m\u001b[0;34m\u001b[0m\u001b[0;34m\u001b[0m\u001b[0m\n\u001b[1;32m      6\u001b[0m     \u001b[0membedding\u001b[0m\u001b[0;34m=\u001b[0m\u001b[0membeddings\u001b[0m\u001b[0;34m,\u001b[0m\u001b[0;34m\u001b[0m\u001b[0;34m\u001b[0m\u001b[0m\n",
            "\u001b[0;32m/usr/local/lib/python3.11/dist-packages/langchain_chroma/vectorstores.py\u001b[0m in \u001b[0;36mfrom_documents\u001b[0;34m(cls, documents, embedding, ids, collection_name, persist_directory, client_settings, client, collection_metadata, **kwargs)\u001b[0m\n\u001b[1;32m   1232\u001b[0m         \u001b[0;32mif\u001b[0m \u001b[0mids\u001b[0m \u001b[0;32mis\u001b[0m \u001b[0;32mNone\u001b[0m\u001b[0;34m:\u001b[0m\u001b[0;34m\u001b[0m\u001b[0;34m\u001b[0m\u001b[0m\n\u001b[1;32m   1233\u001b[0m             \u001b[0mids\u001b[0m \u001b[0;34m=\u001b[0m \u001b[0;34m[\u001b[0m\u001b[0mdoc\u001b[0m\u001b[0;34m.\u001b[0m\u001b[0mid\u001b[0m \u001b[0;32mif\u001b[0m \u001b[0mdoc\u001b[0m\u001b[0;34m.\u001b[0m\u001b[0mid\u001b[0m \u001b[0;32melse\u001b[0m \u001b[0mstr\u001b[0m\u001b[0;34m(\u001b[0m\u001b[0muuid\u001b[0m\u001b[0;34m.\u001b[0m\u001b[0muuid4\u001b[0m\u001b[0;34m(\u001b[0m\u001b[0;34m)\u001b[0m\u001b[0;34m)\u001b[0m \u001b[0;32mfor\u001b[0m \u001b[0mdoc\u001b[0m \u001b[0;32min\u001b[0m \u001b[0mdocuments\u001b[0m\u001b[0;34m]\u001b[0m\u001b[0;34m\u001b[0m\u001b[0;34m\u001b[0m\u001b[0m\n\u001b[0;32m-> 1234\u001b[0;31m         return cls.from_texts(\n\u001b[0m\u001b[1;32m   1235\u001b[0m             \u001b[0mtexts\u001b[0m\u001b[0;34m=\u001b[0m\u001b[0mtexts\u001b[0m\u001b[0;34m,\u001b[0m\u001b[0;34m\u001b[0m\u001b[0;34m\u001b[0m\u001b[0m\n\u001b[1;32m   1236\u001b[0m             \u001b[0membedding\u001b[0m\u001b[0;34m=\u001b[0m\u001b[0membedding\u001b[0m\u001b[0;34m,\u001b[0m\u001b[0;34m\u001b[0m\u001b[0;34m\u001b[0m\u001b[0m\n",
            "\u001b[0;32m/usr/local/lib/python3.11/dist-packages/langchain_chroma/vectorstores.py\u001b[0m in \u001b[0;36mfrom_texts\u001b[0;34m(cls, texts, embedding, metadatas, ids, collection_name, persist_directory, client_settings, client, collection_metadata, **kwargs)\u001b[0m\n\u001b[1;32m   1185\u001b[0m                 \u001b[0mdocuments\u001b[0m\u001b[0;34m=\u001b[0m\u001b[0mtexts\u001b[0m\u001b[0;34m,\u001b[0m\u001b[0;34m\u001b[0m\u001b[0;34m\u001b[0m\u001b[0m\n\u001b[1;32m   1186\u001b[0m             ):\n\u001b[0;32m-> 1187\u001b[0;31m                 chroma_collection.add_texts(\n\u001b[0m\u001b[1;32m   1188\u001b[0m                     \u001b[0mtexts\u001b[0m\u001b[0;34m=\u001b[0m\u001b[0mbatch\u001b[0m\u001b[0;34m[\u001b[0m\u001b[0;36m3\u001b[0m\u001b[0;34m]\u001b[0m \u001b[0;32mif\u001b[0m \u001b[0mbatch\u001b[0m\u001b[0;34m[\u001b[0m\u001b[0;36m3\u001b[0m\u001b[0;34m]\u001b[0m \u001b[0;32melse\u001b[0m \u001b[0;34m[\u001b[0m\u001b[0;34m]\u001b[0m\u001b[0;34m,\u001b[0m\u001b[0;34m\u001b[0m\u001b[0;34m\u001b[0m\u001b[0m\n\u001b[1;32m   1189\u001b[0m                     \u001b[0mmetadatas\u001b[0m\u001b[0;34m=\u001b[0m\u001b[0mbatch\u001b[0m\u001b[0;34m[\u001b[0m\u001b[0;36m2\u001b[0m\u001b[0;34m]\u001b[0m \u001b[0;32mif\u001b[0m \u001b[0mbatch\u001b[0m\u001b[0;34m[\u001b[0m\u001b[0;36m2\u001b[0m\u001b[0;34m]\u001b[0m \u001b[0;32melse\u001b[0m \u001b[0;32mNone\u001b[0m\u001b[0;34m,\u001b[0m  \u001b[0;31m# type: ignore\u001b[0m\u001b[0;34m\u001b[0m\u001b[0;34m\u001b[0m\u001b[0m\n",
            "\u001b[0;32m/usr/local/lib/python3.11/dist-packages/langchain_chroma/vectorstores.py\u001b[0m in \u001b[0;36madd_texts\u001b[0;34m(self, texts, metadatas, ids, **kwargs)\u001b[0m\n\u001b[1;32m    525\u001b[0m         \u001b[0mtexts\u001b[0m \u001b[0;34m=\u001b[0m \u001b[0mlist\u001b[0m\u001b[0;34m(\u001b[0m\u001b[0mtexts\u001b[0m\u001b[0;34m)\u001b[0m\u001b[0;34m\u001b[0m\u001b[0;34m\u001b[0m\u001b[0m\n\u001b[1;32m    526\u001b[0m         \u001b[0;32mif\u001b[0m \u001b[0mself\u001b[0m\u001b[0;34m.\u001b[0m\u001b[0m_embedding_function\u001b[0m \u001b[0;32mis\u001b[0m \u001b[0;32mnot\u001b[0m \u001b[0;32mNone\u001b[0m\u001b[0;34m:\u001b[0m\u001b[0;34m\u001b[0m\u001b[0;34m\u001b[0m\u001b[0m\n\u001b[0;32m--> 527\u001b[0;31m             \u001b[0membeddings\u001b[0m \u001b[0;34m=\u001b[0m \u001b[0mself\u001b[0m\u001b[0;34m.\u001b[0m\u001b[0m_embedding_function\u001b[0m\u001b[0;34m.\u001b[0m\u001b[0membed_documents\u001b[0m\u001b[0;34m(\u001b[0m\u001b[0mtexts\u001b[0m\u001b[0;34m)\u001b[0m\u001b[0;34m\u001b[0m\u001b[0;34m\u001b[0m\u001b[0m\n\u001b[0m\u001b[1;32m    528\u001b[0m         \u001b[0;32mif\u001b[0m \u001b[0mmetadatas\u001b[0m\u001b[0;34m:\u001b[0m\u001b[0;34m\u001b[0m\u001b[0;34m\u001b[0m\u001b[0m\n\u001b[1;32m    529\u001b[0m             \u001b[0;31m# fill metadatas with empty dicts if somebody\u001b[0m\u001b[0;34m\u001b[0m\u001b[0;34m\u001b[0m\u001b[0m\n",
            "\u001b[0;32m/usr/local/lib/python3.11/dist-packages/langchain_upstage/embeddings.py\u001b[0m in \u001b[0;36membed_documents\u001b[0;34m(self, texts)\u001b[0m\n\u001b[1;32m    213\u001b[0m         \u001b[0;32mfor\u001b[0m \u001b[0mi\u001b[0m \u001b[0;32min\u001b[0m \u001b[0mrange\u001b[0m\u001b[0;34m(\u001b[0m\u001b[0;36m0\u001b[0m\u001b[0;34m,\u001b[0m \u001b[0mlen\u001b[0m\u001b[0;34m(\u001b[0m\u001b[0mtexts\u001b[0m\u001b[0;34m)\u001b[0m\u001b[0;34m,\u001b[0m \u001b[0mbatch_size\u001b[0m\u001b[0;34m)\u001b[0m\u001b[0;34m:\u001b[0m\u001b[0;34m\u001b[0m\u001b[0;34m\u001b[0m\u001b[0m\n\u001b[1;32m    214\u001b[0m             \u001b[0mbatch\u001b[0m \u001b[0;34m=\u001b[0m \u001b[0mtexts\u001b[0m\u001b[0;34m[\u001b[0m\u001b[0mi\u001b[0m \u001b[0;34m:\u001b[0m \u001b[0mi\u001b[0m \u001b[0;34m+\u001b[0m \u001b[0mbatch_size\u001b[0m\u001b[0;34m]\u001b[0m\u001b[0;34m\u001b[0m\u001b[0;34m\u001b[0m\u001b[0m\n\u001b[0;32m--> 215\u001b[0;31m             \u001b[0mdata\u001b[0m \u001b[0;34m=\u001b[0m \u001b[0mself\u001b[0m\u001b[0;34m.\u001b[0m\u001b[0mclient\u001b[0m\u001b[0;34m.\u001b[0m\u001b[0mcreate\u001b[0m\u001b[0;34m(\u001b[0m\u001b[0minput\u001b[0m\u001b[0;34m=\u001b[0m\u001b[0mbatch\u001b[0m\u001b[0;34m,\u001b[0m \u001b[0;34m**\u001b[0m\u001b[0mparams\u001b[0m\u001b[0;34m)\u001b[0m\u001b[0;34m.\u001b[0m\u001b[0mdata\u001b[0m\u001b[0;34m\u001b[0m\u001b[0;34m\u001b[0m\u001b[0m\n\u001b[0m\u001b[1;32m    216\u001b[0m             \u001b[0membeddings\u001b[0m\u001b[0;34m.\u001b[0m\u001b[0mextend\u001b[0m\u001b[0;34m(\u001b[0m\u001b[0;34m[\u001b[0m\u001b[0mr\u001b[0m\u001b[0;34m.\u001b[0m\u001b[0membedding\u001b[0m \u001b[0;32mfor\u001b[0m \u001b[0mr\u001b[0m \u001b[0;32min\u001b[0m \u001b[0mdata\u001b[0m\u001b[0;34m]\u001b[0m\u001b[0;34m)\u001b[0m\u001b[0;34m\u001b[0m\u001b[0;34m\u001b[0m\u001b[0m\n\u001b[1;32m    217\u001b[0m \u001b[0;34m\u001b[0m\u001b[0m\n",
            "\u001b[0;32m/usr/local/lib/python3.11/dist-packages/openai/resources/embeddings.py\u001b[0m in \u001b[0;36mcreate\u001b[0;34m(self, input, model, dimensions, encoding_format, user, extra_headers, extra_query, extra_body, timeout)\u001b[0m\n\u001b[1;32m    127\u001b[0m             \u001b[0;32mreturn\u001b[0m \u001b[0mobj\u001b[0m\u001b[0;34m\u001b[0m\u001b[0;34m\u001b[0m\u001b[0m\n\u001b[1;32m    128\u001b[0m \u001b[0;34m\u001b[0m\u001b[0m\n\u001b[0;32m--> 129\u001b[0;31m         return self._post(\n\u001b[0m\u001b[1;32m    130\u001b[0m             \u001b[0;34m\"/embeddings\"\u001b[0m\u001b[0;34m,\u001b[0m\u001b[0;34m\u001b[0m\u001b[0;34m\u001b[0m\u001b[0m\n\u001b[1;32m    131\u001b[0m             \u001b[0mbody\u001b[0m\u001b[0;34m=\u001b[0m\u001b[0mmaybe_transform\u001b[0m\u001b[0;34m(\u001b[0m\u001b[0mparams\u001b[0m\u001b[0;34m,\u001b[0m \u001b[0membedding_create_params\u001b[0m\u001b[0;34m.\u001b[0m\u001b[0mEmbeddingCreateParams\u001b[0m\u001b[0;34m)\u001b[0m\u001b[0;34m,\u001b[0m\u001b[0;34m\u001b[0m\u001b[0;34m\u001b[0m\u001b[0m\n",
            "\u001b[0;32m/usr/local/lib/python3.11/dist-packages/openai/_base_client.py\u001b[0m in \u001b[0;36mpost\u001b[0;34m(self, path, cast_to, body, options, files, stream, stream_cls)\u001b[0m\n\u001b[1;32m   1247\u001b[0m             \u001b[0mmethod\u001b[0m\u001b[0;34m=\u001b[0m\u001b[0;34m\"post\"\u001b[0m\u001b[0;34m,\u001b[0m \u001b[0murl\u001b[0m\u001b[0;34m=\u001b[0m\u001b[0mpath\u001b[0m\u001b[0;34m,\u001b[0m \u001b[0mjson_data\u001b[0m\u001b[0;34m=\u001b[0m\u001b[0mbody\u001b[0m\u001b[0;34m,\u001b[0m \u001b[0mfiles\u001b[0m\u001b[0;34m=\u001b[0m\u001b[0mto_httpx_files\u001b[0m\u001b[0;34m(\u001b[0m\u001b[0mfiles\u001b[0m\u001b[0;34m)\u001b[0m\u001b[0;34m,\u001b[0m \u001b[0;34m**\u001b[0m\u001b[0moptions\u001b[0m\u001b[0;34m\u001b[0m\u001b[0;34m\u001b[0m\u001b[0m\n\u001b[1;32m   1248\u001b[0m         )\n\u001b[0;32m-> 1249\u001b[0;31m         \u001b[0;32mreturn\u001b[0m \u001b[0mcast\u001b[0m\u001b[0;34m(\u001b[0m\u001b[0mResponseT\u001b[0m\u001b[0;34m,\u001b[0m \u001b[0mself\u001b[0m\u001b[0;34m.\u001b[0m\u001b[0mrequest\u001b[0m\u001b[0;34m(\u001b[0m\u001b[0mcast_to\u001b[0m\u001b[0;34m,\u001b[0m \u001b[0mopts\u001b[0m\u001b[0;34m,\u001b[0m \u001b[0mstream\u001b[0m\u001b[0;34m=\u001b[0m\u001b[0mstream\u001b[0m\u001b[0;34m,\u001b[0m \u001b[0mstream_cls\u001b[0m\u001b[0;34m=\u001b[0m\u001b[0mstream_cls\u001b[0m\u001b[0;34m)\u001b[0m\u001b[0;34m)\u001b[0m\u001b[0;34m\u001b[0m\u001b[0;34m\u001b[0m\u001b[0m\n\u001b[0m\u001b[1;32m   1250\u001b[0m \u001b[0;34m\u001b[0m\u001b[0m\n\u001b[1;32m   1251\u001b[0m     def patch(\n",
            "\u001b[0;32m/usr/local/lib/python3.11/dist-packages/openai/_base_client.py\u001b[0m in \u001b[0;36mrequest\u001b[0;34m(self, cast_to, options, stream, stream_cls)\u001b[0m\n\u001b[1;32m   1035\u001b[0m \u001b[0;34m\u001b[0m\u001b[0m\n\u001b[1;32m   1036\u001b[0m                 \u001b[0mlog\u001b[0m\u001b[0;34m.\u001b[0m\u001b[0mdebug\u001b[0m\u001b[0;34m(\u001b[0m\u001b[0;34m\"Re-raising status error\"\u001b[0m\u001b[0;34m)\u001b[0m\u001b[0;34m\u001b[0m\u001b[0;34m\u001b[0m\u001b[0m\n\u001b[0;32m-> 1037\u001b[0;31m                 \u001b[0;32mraise\u001b[0m \u001b[0mself\u001b[0m\u001b[0;34m.\u001b[0m\u001b[0m_make_status_error_from_response\u001b[0m\u001b[0;34m(\u001b[0m\u001b[0merr\u001b[0m\u001b[0;34m.\u001b[0m\u001b[0mresponse\u001b[0m\u001b[0;34m)\u001b[0m \u001b[0;32mfrom\u001b[0m \u001b[0;32mNone\u001b[0m\u001b[0;34m\u001b[0m\u001b[0;34m\u001b[0m\u001b[0m\n\u001b[0m\u001b[1;32m   1038\u001b[0m \u001b[0;34m\u001b[0m\u001b[0m\n\u001b[1;32m   1039\u001b[0m             \u001b[0;32mbreak\u001b[0m\u001b[0;34m\u001b[0m\u001b[0;34m\u001b[0m\u001b[0m\n",
            "\u001b[0;31mRateLimitError\u001b[0m: Error code: 429 - {'error': {'message': \"You've reached your API request limit. Please wait and try again later. If your use case requires a higher rate limit, you can request an increase at https://support.upstage.ai. Including your intended use case and expected volume will help us process your request faster\", 'type': 'too_many_requests', 'param': '', 'code': 'too_many_requests'}}"
          ]
        }
      ]
    },
    {
      "cell_type": "markdown",
      "source": [
        "# Vector DB 로드"
      ],
      "metadata": {
        "id": "Z-1NNe3edXDv"
      }
    },
    {
      "cell_type": "code",
      "source": [
        "# @title 압축 풀기\n",
        "!unzip /content/chroma_patient_db.zip -d /content/chroma_patient_db\n",
        "!unzip /content/chroma_conditions_db.zip -d /content/chroma_conditions_db\n",
        "!unzip /content/chroma_observation_db.zip -d /content/chroma_observation_db\n",
        "!unzip /content/chroma_medications.zip -d /content/chroma_medications_db\n",
        "!unzip /content/chroma_alloergies.zip -d /content/chroma_alloergies_db"
      ],
      "metadata": {
        "colab": {
          "base_uri": "https://localhost:8080/"
        },
        "id": "GR1Xfs33fbtb",
        "outputId": "55780f48-38ae-40e3-dcbb-a85bf9717338"
      },
      "execution_count": null,
      "outputs": [
        {
          "output_type": "stream",
          "name": "stdout",
          "text": [
            "Archive:  /content/chroma_medications.zip\n",
            "   creating: /content/chroma_medications_db/df8167d2-d336-451e-a06a-10d3ccffcc6d/\n",
            "  inflating: /content/chroma_medications_db/chroma.sqlite3  \n",
            "  inflating: /content/chroma_medications_db/df8167d2-d336-451e-a06a-10d3ccffcc6d/length.bin  \n",
            "  inflating: /content/chroma_medications_db/df8167d2-d336-451e-a06a-10d3ccffcc6d/index_metadata.pickle  \n",
            "  inflating: /content/chroma_medications_db/df8167d2-d336-451e-a06a-10d3ccffcc6d/data_level0.bin  \n",
            "  inflating: /content/chroma_medications_db/df8167d2-d336-451e-a06a-10d3ccffcc6d/link_lists.bin  \n",
            "  inflating: /content/chroma_medications_db/df8167d2-d336-451e-a06a-10d3ccffcc6d/header.bin  \n",
            "Archive:  /content/chroma_alloergies.zip\n",
            "   creating: /content/chroma_alloergies_db/cf098646-18d3-4908-aa14-f1971b317a14/\n",
            "  inflating: /content/chroma_alloergies_db/chroma.sqlite3  \n",
            "  inflating: /content/chroma_alloergies_db/cf098646-18d3-4908-aa14-f1971b317a14/length.bin  \n",
            "  inflating: /content/chroma_alloergies_db/cf098646-18d3-4908-aa14-f1971b317a14/index_metadata.pickle  \n",
            "  inflating: /content/chroma_alloergies_db/cf098646-18d3-4908-aa14-f1971b317a14/data_level0.bin  \n",
            "  inflating: /content/chroma_alloergies_db/cf098646-18d3-4908-aa14-f1971b317a14/link_lists.bin  \n",
            "  inflating: /content/chroma_alloergies_db/cf098646-18d3-4908-aa14-f1971b317a14/header.bin  \n"
          ]
        }
      ]
    },
    {
      "cell_type": "code",
      "source": [
        "from langchain_chroma import Chroma\n",
        "from langchain_upstage import UpstageEmbeddings\n",
        "from langchain.docstore.document import Document\n",
        "\n",
        "# 1️⃣ Embeddings 객체 선언\n",
        "embeddings = UpstageEmbeddings(model=\"embedding-query\")\n",
        "\n",
        "patient_vectorstore = Chroma(\n",
        "    persist_directory=\"/content/chroma_patient_db\",\n",
        "    embedding_function=embeddings\n",
        ")\n",
        "\n",
        "conditions_vectorstore = Chroma(\n",
        "    persist_directory=\"/content/chroma_conditions_db\",\n",
        "    embedding_function=embeddings\n",
        ")\n",
        "\n",
        "observation_vectorstore = Chroma(\n",
        "    persist_directory=\"/content/chroma_observation_db\",\n",
        "    embedding_function=embeddings\n",
        ")\n",
        "\n",
        "medications_vectorstore = Chroma(\n",
        "    persist_directory=\"/content/chroma_medications_db\",\n",
        "    embedding_function=embeddings\n",
        ")\n",
        "\n",
        "alloergies_vectorstore = Chroma(\n",
        "    persist_directory=\"/content/chroma_alloergies_db\",\n",
        "    embedding_function=embeddings\n",
        ")"
      ],
      "metadata": {
        "colab": {
          "base_uri": "https://localhost:8080/"
        },
        "id": "TwZLwE2zn0_w",
        "outputId": "849d65f5-4d95-4cf5-c076-80cb5809a530"
      },
      "execution_count": 5,
      "outputs": [
        {
          "output_type": "stream",
          "name": "stderr",
          "text": [
            "ERROR:chromadb.telemetry.product.posthog:Failed to send telemetry event ClientStartEvent: capture() takes 1 positional argument but 3 were given\n",
            "ERROR:chromadb.telemetry.product.posthog:Failed to send telemetry event ClientCreateCollectionEvent: capture() takes 1 positional argument but 3 were given\n",
            "ERROR:chromadb.telemetry.product.posthog:Failed to send telemetry event ClientStartEvent: capture() takes 1 positional argument but 3 were given\n",
            "ERROR:chromadb.telemetry.product.posthog:Failed to send telemetry event ClientCreateCollectionEvent: capture() takes 1 positional argument but 3 were given\n",
            "ERROR:chromadb.telemetry.product.posthog:Failed to send telemetry event ClientStartEvent: capture() takes 1 positional argument but 3 were given\n",
            "ERROR:chromadb.telemetry.product.posthog:Failed to send telemetry event ClientCreateCollectionEvent: capture() takes 1 positional argument but 3 were given\n",
            "ERROR:chromadb.telemetry.product.posthog:Failed to send telemetry event ClientStartEvent: capture() takes 1 positional argument but 3 were given\n",
            "ERROR:chromadb.telemetry.product.posthog:Failed to send telemetry event ClientCreateCollectionEvent: capture() takes 1 positional argument but 3 were given\n",
            "ERROR:chromadb.telemetry.product.posthog:Failed to send telemetry event ClientStartEvent: capture() takes 1 positional argument but 3 were given\n",
            "ERROR:chromadb.telemetry.product.posthog:Failed to send telemetry event ClientCreateCollectionEvent: capture() takes 1 positional argument but 3 were given\n"
          ]
        }
      ]
    },
    {
      "cell_type": "markdown",
      "source": [
        "# LLM 생성"
      ],
      "metadata": {
        "id": "kp81DqS3ECOq"
      }
    },
    {
      "cell_type": "code",
      "source": [
        "# ✅ Dense Retriever 생성\n",
        "search_k = 5\n",
        "score = 0.1\n",
        "\n",
        "patient_retriever = patient_vectorstore.as_retriever(\n",
        "    search_type=\"mmr\",\n",
        "    search_kwargs={\"k\": search_k},\n",
        ")\n",
        "\n",
        "conditions_retriever = conditions_vectorstore.as_retriever(\n",
        "    search_type=\"mmr\",\n",
        "    search_kwargs={\"k\": search_k},\n",
        ")\n",
        "\n",
        "observation_retriever = observation_vectorstore.as_retriever(\n",
        "    search_type=\"mmr\",\n",
        "    search_kwargs={\"k\": search_k},\n",
        ")\n",
        "\n",
        "medications_retriever = medications_vectorstore.as_retriever(\n",
        "    search_type=\"mmr\",\n",
        "    search_kwargs={\"k\": search_k},\n",
        ")\n",
        "\n",
        "alloergies_retriever = alloergies_vectorstore.as_retriever(\n",
        "    search_type=\"mmr\",\n",
        "    search_kwargs={\"k\": search_k},\n",
        ")\n",
        "\n",
        "# ## similarity\n",
        "# patient_retriever = patient_vectorstore.as_retriever(\n",
        "#     search_type=\"similarity_score_threshold\",\n",
        "#     search_kwargs={\"k\": search_k, \"score_threshold\": score},\n",
        "# )\n",
        "\n",
        "# conditions_retriever = conditions_vectorstore.as_retriever(\n",
        "#     search_type=\"similarity_score_threshold\",\n",
        "#     search_kwargs={\"k\": search_k, \"score_threshold\": score},\n",
        "# )\n",
        "\n",
        "# observation_retriever = observation_vectorstore.as_retriever(\n",
        "#     search_type=\"similarity_score_threshold\",\n",
        "#     search_kwargs={\"k\": search_k, \"score_threshold\": score},\n",
        "# )\n",
        "\n",
        "# medications_retriever = medications_vectorstore.as_retriever(\n",
        "#     search_type=\"similarity_score_threshold\",\n",
        "#     search_kwargs={\"k\": search_k, \"score_threshold\": score},\n",
        "# )\n",
        "\n",
        "# alloergies_retriever = alloergies_vectorstore.as_retriever(\n",
        "#     search_type=\"similarity_score_threshold\",\n",
        "#     search_kwargs={\"k\": search_k, \"score_threshold\": score},\n",
        "# )\n",
        "\n",
        "# ✅ 사용자의 한국어 질문 예시\n",
        "query = \"당뇨병과 아스피린 알러지를 가진 타과 환자가 입원했어. 근데 우리 병원의 과가 달라서 어떤 약을 투약해야 할지 모르겠어. 자세한 투약 정보와 유의사항을 알려줄래?\"\n",
        "\n",
        "# ✅ 검색된 문서 가져오기\n",
        "patient_docs = patient_retriever.invoke(query)\n",
        "conditions_docs = conditions_retriever.invoke(query)\n",
        "observation_docs = observation_retriever.invoke(query)\n",
        "medications_docs = medications_retriever.invoke(query)\n",
        "alloergies_docs = alloergies_retriever.invoke(query)\n",
        "\n",
        "# ✅ 문서 합치기\n",
        "all_context = \"\\n\".join([\n",
        "    doc.page_content for doc in (patient_docs + conditions_docs + observation_docs + medications_docs + alloergies_docs)\n",
        "])\n",
        "\n",
        "print(all_context)\n",
        "\n",
        "# ✅ 한국어 system 프롬프트 정의\n",
        "from langchain_upstage import ChatUpstage\n",
        "from langchain_core.prompts import ChatPromptTemplate\n",
        "from langchain_core.output_parsers import StrOutputParser\n",
        "\n",
        "llm = ChatUpstage()\n",
        "\n",
        "prompt = ChatPromptTemplate.from_messages(\n",
        "    [\n",
        "        (\n",
        "            \"system\",\n",
        "            \"\"\"\n",
        "            당신은 환자 정보에 대한 질문에 친절히 답변하는 한국어 의료 AI 어시스턴트입니다.\n",
        "            아래 CONTEXT 정보를 참고하여 환자 정보를 자연스럽고 이해하기 쉽게 한국어로 풀어서 설명해 주세요.\n",
        "            CONTEXT에 포함되지 않은 질병명은 절대 작성하지 마세요. 모르면 \"모른다\"고 답하세요.\n",
        "            CONTEXT 정보는 총 5가지로 제공됩니다. 각각은 순서대로 환자 기본 정보, 진단 질병 정보, 바이탈/검사 수치, 약물 투여 기록, 알러지 반응 기록입니다.\n",
        "            바이탈 정보는 맥박, 혈압 등이 포함됩니다.\n",
        "            patient_id를 기준으로 같은 환자의 정보를 연결해서 참고하세요.\n",
        "            각 정보를 의료진이 환자에게 직접 설명하듯 문단 형태로 자연스럽게 이어서 작성해 주세요.\n",
        "            너무 긴 리스트 형태는 피하고, 중요한 내용은 간결히 요약해 주세요.\n",
        "            ---\n",
        "            CONTEXT:\n",
        "            {context}\n",
        "            \"\"\",\n",
        "        ),\n",
        "        (\"human\", \"{input}\"),\n",
        "    ]\n",
        ")\n",
        "\n",
        "# ✅ LLM chain 구성\n",
        "chain = prompt | llm | StrOutputParser()\n",
        "\n",
        "# ✅ 최종 chain 호출\n",
        "response = chain.invoke({\"context\": all_context, \"input\": query})\n",
        "\n",
        "print(\"\\n💬 AI의 답변:\")\n",
        "print(response)\n"
      ],
      "metadata": {
        "colab": {
          "base_uri": "https://localhost:8080/"
        },
        "id": "E8a4C1MzD_x4",
        "outputId": "aa56a75e-3456-4ca5-9a43-0b229187f98d"
      },
      "execution_count": 34,
      "outputs": [
        {
          "output_type": "stream",
          "name": "stdout",
          "text": [
            "환자 번호 ac1ed279-4fab-1610-e325-9a505b5f0802 환자는,1982-03-17에 태어났고, 성별은 F, 인종은 asian, 민족성은 nonhispanic입니다.\n",
            "환자 번호 8a742983-bada-f64a-1f75-dfc34f3a60df 환자는,1975-04-21에 태어났고, 성별은 M, 인종은 asian, 민족성은 nonhispanic입니다.\n",
            "환자 번호 d63977a6-42cc-635e-3822-52aa88338b28 환자는,1984-08-22에 태어났고, 성별은 F, 인종은 asian, 민족성은 nonhispanic입니다.\n",
            "환자 번호 4fdb9235-e9e3-cc0b-1072-0a70088772a6 환자는,2009-05-16에 태어났고, 성별은 F, 인종은 asian, 민족성은 nonhispanic입니다.\n",
            "환자 번호 c183c8b5-3352-1bdd-7a3d-4b47f7102397 환자는,2022-10-30에 태어났고, 성별은 M, 인종은 asian, 민족성은 nonhispanic입니다.\n",
            "PATIENT_ID: df2156e8-3ae4-400f-c4a0-a9f92abc5ce0 환자는 다음과 같은 질병을 진단 받았습니다. 2021-06-19부터 2021-06-20까지 질병 코드 241929008.0의 Acute allergic reaction을(를) 진단 받았습니다. 2021-12-12부터 2021-12-29까지 질병 코드 444814009.0의 Viral sinusitis을(를) 진단 받았습니다. 2022-03-04부터\n",
            "PATIENT_ID: 7376c718-34e7-8b11-5d7d-2c0d1e54e091 환자는 다음과 같은 질병을 진단 받았습니다. 2021-07-21부터 nan까지 질병 코드 24079001.0의 Atopic dermatitis을(를) 진단 받았습니다. 2022-05-06부터 2022-05-07까지 질병 코드 241929008.0의 Acute allergic reaction을(를) 진단 받았습니다.\n",
            "PATIENT_ID: 857ba3f9-9e60-f7bd-4bab-b8a62e0eb9a1 환자는 다음과 같은 질병을 진단 받았습니다. 2007-09-02부터 2022-06-18까지 질병 코드 233678006.0의 Childhood asthma을(를) 진단 받았습니다. 2008-02-07부터 2022-02-24까지 질병 코드 446096008.0의 Perennial allergic rhinitis을(를) 진단 받았습니다. 2015-07-21부터\n",
            "PATIENT_ID: 78f42c3d-ec94-1a75-443a-6276512c8da3 환자는 다음과 같은 질병을 진단 받았습니다. 1998-06-01부터 nan까지 질병 코드 44054006.0의 Diabetes mellitus type 2을(를) 진단 받았습니다. 1998-06-01부터 nan까지 질병 코드 271737000.0의 Anemia을(를) 진단 받았습니다. 2001-06-04부터 nan까지 질병 코드 302870006.0의\n",
            "질병 코드 44054006.0의 Diabetes mellitus type 2을(를) 진단 받았습니다. 2012-12-20부터 nan까지 질병 코드 302870006.0의 Hypertriglyceridemia을(를) 진단 받았습니다. 2012-12-20부터 nan까지 질병 코드 237602007.0의 Metabolic syndrome X을(를) 진단 받았습니다. 2016-01-07부터 2016-01-21까지 질병 코드 66383009.0의\n",
            "PATIENT_ID: 50ef3a36-40c2-e62f-dba5-c31960b7a439 환자는, 2011-09-25T07:21:14Z에 다음과 같은 데이터를 기록했습니다: 측정 유형: 31a1c59c-c955-9e4d-d9ae-c939398af541.\n",
            "PATIENT_ID: 9481c2b4-51b9-8a87-e667-76151d05656b 환자는, 2011-09-08T09:55:14Z에 다음과 같은 데이터를 기록했습니다: 측정 유형: a1c5396a-cb55-a2cf-2cc6-40cd84fa9e03.\n",
            "PATIENT_ID: aa27b474-57fb-60bf-0336-9503312d784d 환자는, 2006-04-22T00:21:11Z에 다음과 같은 데이터를 기록했습니다: 측정 유형: 4078dbd3-a5a8-827c-c238-1c870cb2208d.\n",
            "PATIENT_ID: eb793f36-88da-e9a0-b41e-59362c5274a4 환자는, 2004-02-05T00:58:53Z에 다음과 같은 데이터를 기록했습니다: 측정 유형: 1f63965e-a1b3-890b-cb31-19225c71dd8b.\n",
            "PATIENT_ID: e9eb06a0-c26c-9aa2-28ad-4b53c0c6c553 환자는, 2007-09-16T13:48:28Z에 다음과 같은 데이터를 기록했습니다: 측정 유형: 35943a6b-23ca-5082-463e-ab565a29dd3b.\n",
            "환자 ID eb793f36-88da-e9a0-b41e-59362c5274a4는 다음 약물을 복용했습니다:\n",
            "1974-06-06T00:58:53Z부터 2009-12-25T00:58:53Z 동안 Simvastatin 10 MG Oral Tablet을 복용했고, 총 10회 복용했습니다.\n",
            "1977-05-13T02:52:29Z부터 현재까지 동안 aspirin 81 MG Oral Tablet을 복용했고, 총 397회 복용했습니다.\n",
            "1977-05-13T02:52:29Z부터 현재까지 동안 atorvastatin 80 MG Oral Tablet을 복용했고, 총 1회 복용했습니다.\n",
            "1977-05-13T02:52:29Z부터 현재까지 동안 prasugrel 10 MG Oral Tablet을 복용했고, 총 397회 복용했습니다.\n",
            "1993-09-09T00:58:53Z부터 현재까지 동안 Simvastatin 20 MG Oral Tablet을 복용했고, 총 199회 복용했습니다.\n",
            "1993-09-09T00:58:53Z부터 현재까지 동안 24 HR metoprolol succinate 100 MG Extended Release Oral Tablet을 복용했고, 총 199회 복용했습니다.\n",
            "1993-09-09T00:58:53Z부터 현재까지 동안 Nitroglycerin 0.4 MG/ACTUAT Mucosal Spray을 복용했고, 총 199회 복용했습니다.\n",
            "1999-10-28T00:58:53Z부터 2000-11-02T00:58:53Z 동안 insulin isophane  human 70 UNT/ML / insulin  regular  human 30 UNT/ML Injectable Suspension [Humulin]을 복용했고, 총 12회 복용했습니다.\n",
            "1999-10-28T00:58:53Z부터 2000-11-02T00:58:53Z 동안 Hydrochlorothiazide 25 MG Oral Tablet을 복용했고, 총 4회 복용했습니다.\n",
            "환자 ID bcab60bc-57f6-65d3-761b-ca0330cef57f는 다음 약물을 복용했습니다:\n",
            "1964-05-11T00:10:58Z부터 현재까지 동안 diphenhydrAMINE Hydrochloride 25 MG Oral Tablet을 복용했고, 총 693회 복용했습니다.\n",
            "2004-05-14T19:27:48Z부터 현재까지 동안 aspirin 81 MG Oral Tablet을 복용했고, 총 206회 복용했습니다.\n",
            "2004-05-14T19:27:48Z부터 현재까지 동안 atorvastatin 10 MG Oral Tablet을 복용했고, 총 1회 복용했습니다.\n",
            "2004-05-14T19:27:48Z부터 현재까지 동안 losartan potassium 100 MG Oral Tablet을 복용했고, 총 1회 복용했습니다.\n",
            "2004-05-14T19:27:48Z부터 현재까지 동안 prasugrel 10 MG Oral Tablet을 복용했고, 총 206회 복용했습니다.\n",
            "2010-05-18T00:10:58Z부터 2011-05-24T00:10:58Z 동안 Hydrochlorothiazide 25 MG Oral Tablet을 복용했고, 총 4회 복용했습니다.\n",
            "2010-05-18T00:10:58Z부터 2011-05-24T00:10:58Z 동안 Insulin Lispro 100 UNT/ML Injectable Solution [Humalog]을 복용했고, 총 12회 복용했습니다.\n",
            "2010-05-18T00:10:58Z부터 2011-05-24T00:10:58Z 동안 24 HR Metformin hydrochloride 500 MG Extended Release Oral Tablet을 복용했고, 총 12회 복용했습니다.\n",
            "2011-05-24T00:10:58Z부터 2011-06-07T00:10:58Z 동안 Hydrochlorothiazide 25 MG Oral Tablet을 복용했고, 총 1회 복용했습니다.\n",
            "2020-11-05T03:37:11Z부터 2020-11-12T03:37:11Z 동안 aspirin 81 MG Oral Capsule을 복용했고, 총 7회 복용했습니다.\n",
            "2020-11-12T03:37:11Z부터 2020-12-03T03:37:11Z 동안 insulin isophane  human 70 UNT/ML / insulin  regular  human 30 UNT/ML Injectable Suspension [Humulin]을 복용했고, 총 1회 복용했습니다.\n",
            "2020-11-12T03:37:11Z부터 2020-12-03T03:37:11Z 동안 aspirin 81 MG Oral Capsule을 복용했고, 총 21회 복용했습니다.\n",
            "2020-11-13T03:37:11Z부터 2021-11-25T03:37:11Z 동안 Simvastatin 10 MG Oral Tablet을 복용했고, 총 12회 복용했습니다.\n",
            "2020-12-03T03:37:11Z부터 2021-02-04T03:37:11Z 동안 insulin isophane  human 70 UNT/ML / insulin  regular  human 30 UNT/ML Injectable Suspension [Humulin]을 복용했고, 총 2회 복용했습니다.\n",
            "2020-12-03T03:37:11Z부터 2021-02-04T03:37:11Z 동안 aspirin 81 MG Oral Capsule을 복용했고, 총 63회 복용했습니다.\n",
            "2021-02-04T03:37:11Z부터 2021-04-08T03:37:11Z 동안 insulin isophane  human 70 UNT/ML / insulin  regular  human 30 UNT/ML Injectable Suspension [Humulin]을 복용했고, 총 2회 복용했습니다.\n",
            "2021-02-04T03:37:11Z부터 2021-04-08T03:37:11Z 동안 aspirin 81 MG Oral Capsule을 복용했고, 총 63회 복용했습니다.\n",
            "환자 ID 7dd62c7a-6b72-c9c3-4bca-f429091eba24는 다음 약물을 복용했습니다:\n",
            "1966-01-19T18:24:35Z부터 현재까지 동안 Nitroglycerin 0.4 MG/ACTUAT Mucosal Spray을 복용했고, 총 723회 복용했습니다.\n",
            "2011-03-22T18:24:35Z부터 현재까지 동안 Galantamine 4 MG Oral Tablet을 복용했고, 총 173회 복용했습니다.\n",
            "2015-06-17T18:24:35Z부터 2015-07-08T18:24:35Z 동안 insulin isophane  human 70 UNT/ML / insulin  regular  human 30 UNT/ML Injectable Suspension [Humulin]을 복용했고, 총 1회 복용했습니다.\n",
            "2015-06-17T18:24:35Z부터 2015-07-08T18:24:35Z 동안 Hydrochlorothiazide 25 MG Oral Tablet을 복용했고, 총 1회 복용했습니다.\n",
            "2015-06-17T18:24:35Z부터 2015-07-08T18:24:35Z 동안 amLODIPine 2.5 MG Oral Tablet을 복용했고, 총 1회 복용했습니다.\n",
            "2015-06-17T18:24:35Z부터 2015-07-08T18:24:35Z 동안 Alendronic acid 10 MG Oral Tablet을 복용했고, 총 1회 복용했습니다.\n",
            "2015-07-08T18:24:35Z부터 2015-07-15T18:24:35Z 동안 insulin isophane  human 70 UNT/ML / insulin  regular  human 30 UNT/ML Injectable Suspension [Humulin]을 복용했고, 총 1회 복용했습니다.\n",
            "2015-07-08T18:24:35Z부터 2015-07-15T18:24:35Z 동안 Hydrochlorothiazide 25 MG Oral Tablet을 복용했고, 총 1회 복용했습니다.\n",
            "2020-11-12T06:36:55Z부터 2021-02-11T06:36:55Z 동안 Ibuprofen 400 MG Oral Tablet [Ibu]을 복용했고, 총 3회 복용했습니다.\n",
            "2020-11-12T06:36:55Z부터 2021-02-11T06:36:55Z 동안 120 ACTUAT fluticasone propionate 0.044 MG/ACTUAT Metered Dose Inhaler [Flovent]을 복용했고, 총 1회 복용했습니다.\n",
            "2020-11-12T06:36:55Z부터 2021-02-11T06:36:55Z 동안 lisinopril 10 MG Oral Tablet을 복용했고, 총 1회 복용했습니다.\n",
            "2020-11-12T06:36:55Z부터 2021-02-11T06:36:55Z 동안 albuterol 0.83 MG/ML Inhalation Solution을 복용했고, 총 1회 복용했습니다.\n",
            "2020-11-19T06:46:07Z부터 2020-11-19T06:46:07Z 동안 aspirin 325 MG Oral Tablet을 복용했고, 총 1회 복용했습니다.\n",
            "2020-11-19T06:46:07Z부터 2020-11-19T06:46:07Z 동안 nitroglycerin 0.4 MG Sublingual Tablet을 복용했고, 총 1회 복용했습니다.\n",
            "2020-11-19T06:46:07Z부터 2020-11-19T06:46:07Z 동안 2 ML morphine sulfate 1 MG/ML Injection을 복용했고, 총 1회 복용했습니다.\n",
            "2020-11-19T08:01:13Z부터 2020-11-19T08:01:13Z 동안 heparin sodium  porcine 100 UNT/ML Injectable Solution을 복용했고, 총 1회 복용했습니다.\n",
            "2020-11-21T07:04:43Z부터 2020-11-21T07:34:43Z 동안 ticagrelor 90 MG Oral Tablet을 복용했고, 총 1회 복용했습니다.\n",
            "환자 ID: df2156e8-3ae4-400f-c4a0-a9f92abc5ce0 환자는 2021-06-30부터 현재까지 Aspirin(1191.0)에 대한 알레르기를 보였습니다. 이 알레르기는 medication 카테고리에 속하며, 코드 체계는 RxNorm입니다. 첫 번째 반응은 Wheal (finding)로, 심각도는 MODERATE입니다.\n",
            "환자 ID: 0df1e02f-0170-f4af-10f4-cf15ff942c0a 환자는 2018-08-20부터 현재까지 Aspirin(1191.0)에 대한 알레르기를 보였습니다. 이 알레르기는 medication 카테고리에 속하며, 코드 체계는 RxNorm입니다.\n",
            "환자 ID: a71c9d40-c7d1-8086-51f0-ba5f7b7efd5a 환자는 1999-09-10부터 현재까지 Aspirin(1191.0)에 대한 알레르기를 보였습니다. 이 알레르기는 medication 카테고리에 속하며, 코드 체계는 RxNorm입니다. 첫 번째 반응은 Allergic angioedema (disorder)로, 심각도는 MODERATE입니다.\n",
            "환자 ID: 5643d6f3-833c-3b8f-1387-8dc357e7fbd9 환자는 1986-03-03부터 현재까지 Aspirin(1191.0)에 대한 알레르기를 보였습니다. 이 알레르기는 medication 카테고리에 속하며, 코드 체계는 RxNorm입니다.\n",
            "환자 ID: 362404fb-cc83-ccb9-33dc-49516fbc64ef 환자는 2015-03-03부터 현재까지 Aspirin(1191.0)에 대한 알레르기를 보였습니다. 이 알레르기는 medication 카테고리에 속하며, 코드 체계는 RxNorm입니다. 첫 번째 반응은 Abdominal pain (finding)로, 심각도는 MODERATE입니다.\n",
            "\n",
            "💬 AI의 답변:\n",
            "환자 ID: df2156e8-3ae4-400f-c4a0-a9f92abc5ce0 환자를 확인해보니, 2021-06-30부터 현재까지 아스피린(1191.0)에 대한 알레르기가 기록되어 있습니다. 이 알레르기는 medication 카테고리에 속하며, 코드 체계는 RxNorm입니다. 첫 번째 반응은 Wheal (finding)로, 심각도는 MODERATE입니다.\n",
            "\n",
            "이 환자는 당뇨병을 가지고 있으며, 아스피린에 대한 알레르기가 있으므로 아스피린을 포함한 모든 아스피린 함유 약물은 투여하지 않아야 합니다. 대신, 당뇨병 관리에 필요한 약물과 아스피린 알레르기를 고려한 다른 약물을 투여해야 합니다.\n",
            "\n",
            "당뇨병 관리에 사용되는 일반적인 약물로는 메트포르민, 인슐린, DPP-4 억제제, GLP-1 수용체 작용제 등이 있습니다. 이 중에서 환자의 현재 상태와 다른 약물과의 상호작용을 고려하여 적절한 약물을 선택해야 합니다. 또한, 아스피린 알레르기를 고려하여 항혈소판제로 클로피도그렐이나 티카그렐러 등을 사용할 수 있습니다.\n",
            "\n",
            "투약 시 유의사항은 다음과 같습니다:\n",
            "\n",
            "1. 아스피린 또는 아스피린 함유 약물은 절대 투여하지 마십시오.\n",
            "2. 당뇨병 관리 약물은 환자의 혈당 수치와 상태를 고려하여 적절한 용량과 투여 방법을 선택해야 합니다.\n",
            "3. 다른 약물과의 상호작용을 확인하여 부작용을 최소화해야 합니다.\n",
            "4. 환자의 알레르기 반응에 대한 모니터링을 철저히 해야 합니다.\n",
            "\n",
            "이러한 정보를 바탕으로 환자의 상태와 다른 약물과의 상호작용을 면밀히 검토한 후, 적절한 약물을 선택하여 투여하시기 바랍니다. 추가적인 정보가 필요하시면 언제든지 문의해주시기 바랍니다.\n"
          ]
        }
      ]
    },
    {
      "cell_type": "markdown",
      "source": [
        "# 정리\n",
        "## 프로세스\n",
        "- 5개의 retriever 별로 5개씩 정보 가져옴\n",
        "- context는 5 * 5개의 정보를 통합함\n",
        "- LLM은 context를 토대로 Query에 적절한 답변\n",
        "\n",
        "## 성능\n",
        "- 소요 시간: 8 ~ 10초\n",
        "- 답변 정확도(임의 판단)\n",
        "  - 정보 조합해서 잘 설명하는 것처럼 보임\n",
        "  - 실제 환자 ID를 입력했을 때, 일부 누락됨 (데이터가 있음에도)\n"
      ],
      "metadata": {
        "id": "hXE4BtUn659A"
      }
    },
    {
      "cell_type": "code",
      "source": [
        "patient_id = \"59ee5bee-ed92-b2e1-c22a-5944801b159a\"\n",
        "\n",
        "# filter로 가져오기\n",
        "filtered = alloergies_vectorstore._collection.get(\n",
        "    where={\"patient_id\": {\"$eq\": patient_id}},\n",
        "    include=[\"documents\", \"metadatas\"]\n",
        ")\n",
        "\n",
        "for i, doc in enumerate(filtered[\"documents\"]):\n",
        "    print(f\"\\n--- Document {i+1} ---\")\n",
        "    print(doc)\n",
        "    print(filtered[\"metadatas\"][i])\n"
      ],
      "metadata": {
        "id": "fS33yZ5VgeX7"
      },
      "execution_count": 36,
      "outputs": []
    }
  ]
}